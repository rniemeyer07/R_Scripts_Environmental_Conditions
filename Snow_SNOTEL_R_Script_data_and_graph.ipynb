{
 "cells": [
  {
   "cell_type": "markdown",
   "metadata": {},
   "source": [
    "# ---------------------------------------------------------------------------------------------------------------\n",
    "#\n",
    "#         R Script to Download and Graph SNOTEl (Snow) data from the Upper Columbia\n",
    "#            Author: Ryan Niemeyer, Watershed Program Manager at the Upper Columbia Salmon Recovery Board\n",
    "#            Date: Fall 2020\n",
    "#\n",
    "# ---------------------------------------------------------------------------------------------------------------\n",
    "\n"
   ]
  },
  {
   "cell_type": "code",
   "execution_count": null,
   "metadata": {},
   "outputs": [],
   "source": []
  },
  {
   "cell_type": "code",
   "execution_count": 2,
   "metadata": {},
   "outputs": [],
   "source": [
    "# ------------------ Year to Plot ------------------\n",
    "year_to_plot = 2019\n",
    "# --------------- Pathway to Output Figure --------------\n",
    "path_output = 'Y:/Ryan/Misc/Annual_Report/2019/snotel_graph2.pdf'"
   ]
  },
  {
   "cell_type": "code",
   "execution_count": null,
   "metadata": {},
   "outputs": [],
   "source": []
  },
  {
   "cell_type": "markdown",
   "metadata": {},
   "source": [
    "# -------------------------------------------------------------------------------------\n",
    "#         Install Libraries\n",
    "# -------------------------------------------------------------------------------------"
   ]
  },
  {
   "cell_type": "code",
   "execution_count": 3,
   "metadata": {},
   "outputs": [
    {
     "name": "stderr",
     "output_type": "stream",
     "text": [
      "Warning message:\n",
      "\"package 'snotelr' was built under R version 4.0.3\"\n",
      "Warning message:\n",
      "\"package 'repr' was built under R version 4.0.3\"\n"
     ]
    }
   ],
   "source": [
    "library('snotelr')\n",
    "library('repr')"
   ]
  },
  {
   "cell_type": "markdown",
   "metadata": {},
   "source": [
    "# -------------------------------------------------------------------------------------\n",
    "#         Generate Function to Read in and Process data\n",
    "# -------------------------------------------------------------------------------------"
   ]
  },
  {
   "cell_type": "code",
   "execution_count": 4,
   "metadata": {},
   "outputs": [],
   "source": [
    "snotel_read_and_process_function = function(site_x, years_x){\n",
    "    \n",
    "\n",
    "    # -------------------- download SNOTEL data -----------------------\n",
    "    data_x <- snotel_download(site_id = c(site_x), internal = TRUE)\n",
    "\n",
    "    # --------------- export name -------------------\n",
    "    print(\"  DOWNLOADED: \")\n",
    "    print(data_x$site_name[1])\n",
    "    \n",
    "    # ------------------ remove superfluous data ---------------\n",
    "    data_x = data_x[,c('date','snow_water_equivalent','precipitation_cumulative','temperature_max','temperature_min','temperature_mean','precipitation')]    # ----------------\n",
    "    \n",
    "    # ------------------ rename with units ---------------\n",
    "    colnames(data_x) = c('date','snow_water_equivalent_cm','precipitation_cumulative_mm','temperature_max_degC','temperature_min_degC','temperature_mean_degC','precipitation_mm')    # ----------------\n",
    "    \n",
    "    # ---------------------convert SWE from centimeters to inches -------\n",
    "    data_x$snow_water_equivalent_inches = data_x$snow_water_equivalent_cm * 0.3937008\n",
    "    \n",
    "    # ---------------------convert precip from mm to inches -------\n",
    "    data_x$precipitation_cumulative_inches = data_x$precipitation_cumulative_mm * 0.03937008\n",
    "    data_x$precipitation_inches = data_x$precipitation_mm * 0.03937008\n",
    "    \n",
    "    # ---------------------convert temperature from degres Celsius to degres Fahrenheit -------\n",
    "    data_x$temperature_max_degF = (data_x$temperature_max_degC * 1.8) + 32\n",
    "    data_x$temperature_min_degF = (data_x$temperature_min_degC * 1.8) + 32\n",
    "    data_x$temperature_mean_degF = (data_x$temperature_mean_degC * 1.8) + 32\n",
    "    \n",
    "    # -------------------------- convert data to datetime class ---------\n",
    "    data_x$datetime = as.POSIXct(data_x$date, format=\"%Y-%m-%d\",tz=\"America/Los_Angeles\")\n",
    "    \n",
    "    # -------------------------- subset only years you want ---------\n",
    "    years_data_x = format(data_x$datetime, format=\"%Y\")\n",
    "    data_x = data_x[which( years_data_x >= min(years_x)  &  years_data_x <= max(years_x)  ), ]\n",
    "    \n",
    "    # ---------------------- output data ------------\n",
    "    return(data_x)\n",
    "    \n",
    "}"
   ]
  },
  {
   "cell_type": "code",
   "execution_count": 5,
   "metadata": {},
   "outputs": [],
   "source": [
    "snotel_generate_median_snow_function = function(metric_vector, date_vector, year_for_days){\n",
    "    \n",
    "    # --------------------- get day of year ---------------\n",
    "    day_of_year =  format(date_vector, format=\"%j\")\n",
    "    \n",
    "    # ----------------------- get median for that day of year -------------\n",
    "    data_x = as.data.frame(cbind(day_of_year, metric_vector))\n",
    "    data_x$metric_vector = as.numeric(data_x$metric_vector)\n",
    "    median_x = aggregate(data_x$metric_vector, list(data_x$day_of_year), FUN=median, na.rm=TRUE, na.action = NULL)\n",
    "    colnames(median_x) = c('day_of_year', 'metric')\n",
    "    \n",
    "    # -------------------- remove day 366 (from leap year) ------------\n",
    "    median_x = median_x[1:365,]\n",
    "    \n",
    "    # ------------- add day of hydrologic year --------------\n",
    "    median_x$day_of_hydro_year = median_x$day_of_year\n",
    "    \n",
    "    # ---------- days after Oct. 1 -------------\n",
    "    days_previous_calendar_year = which(median_x$day_of_year > 274)\n",
    "    median_x$day_of_hydro_year[days_previous_calendar_year] = paste(median_x$day_of_hydro_year[days_previous_calendar_year],\n",
    "                                                                    year_for_days - 1, sep=\"-\")\n",
    "    \n",
    "    # ---------- days before Oct. 1 -------------\n",
    "    days_during_calendar_year = which(median_x$day_of_year <= 274)\n",
    "    median_x$day_of_hydro_year[days_during_calendar_year] = paste(median_x$day_of_hydro_year[days_during_calendar_year],\n",
    "                                                                    year_for_days, sep=\"-\")\n",
    "    # --------------- get date time -------------\n",
    "    median_x$day_of_hydro_year =  as.POSIXct(median_x$day_of_hydro_year, format=\"%j-%Y\",tz=\"America/Los_Angeles\")\n",
    "    \n",
    "    # ----------------- return the data ------------------\n",
    "    return(median_x)\n",
    "    \n",
    "}"
   ]
  },
  {
   "cell_type": "code",
   "execution_count": 6,
   "metadata": {},
   "outputs": [],
   "source": [
    "# ---------------- water year function ----------\n",
    "wtr_yr <- function(dates, start_month=10) {\n",
    "  # Convert dates into POSIXlt\n",
    "  dates.posix = as.POSIXlt(dates)\n",
    "  # Year offset\n",
    "  offset = ifelse(dates.posix$mon >= start_month - 1, 1, 0)\n",
    "  # Water year\n",
    "  adj.year = dates.posix$year + 1900 + offset\n",
    "  # Return the water year\n",
    "  adj.year\n",
    "}"
   ]
  },
  {
   "cell_type": "markdown",
   "metadata": {},
   "source": [
    "# -------------------------------------------------------------------------------------\n",
    "#         Read in all the SNOTEL data, get the median snow\n",
    "# -------------------------------------------------------------------------------------"
   ]
  },
  {
   "cell_type": "code",
   "execution_count": 7,
   "metadata": {},
   "outputs": [],
   "source": [
    "# ---------------------- upload the metadata sites -------------\n",
    "site_path_x = \"P:/GIS/Water/Snow/Okanogan_Chelan_Kittitas_SNOTEL_sites_metadata.csv\"\n",
    "Upper_Columbia_site_list = read.csv(site_path_x, header=T)\n",
    "\n",
    "# ------------- remove sites you don't want to read in ---------\n",
    "remove_sites = c(1171,1159, 1259)  # NOTE - these sites weren't downloading\n",
    "for(site_x in remove_sites){\n",
    "    x = which(Upper_Columbia_site_list$site_number == site_x)\n",
    "    Upper_Columbia_site_list = Upper_Columbia_site_list[-x,]\n",
    "}\n",
    "\n",
    "\n",
    "# --------------- sites to plot ----------------\n",
    "sites_to_plot = cbind(c(728, 644, 711, 515, 699,791,841),\n",
    "                     c('Salmon Meadows, elev=4460 ft','Moses Mountain, elev=5010 ft',\n",
    "                      'Rainy Pass, elev=4890 ft','Harts Pass, elev=6490 ft',\n",
    "                      'Pope Ridge, elev=3590 ft',\n",
    "                       'Stevens Pass, elev=3950 ft','Upper Wheeler, elev=4330 ft'))\n",
    "sites_to_plot = as.data.frame(sites_to_plot)\n",
    "colnames(sites_to_plot) = c('site_number','site_name')\n",
    "sites_to_plot$site_name_simple = c('Salmon Meadows','Moses Mountain',\n",
    "                      'Rainy Pass','Harts Pass',\n",
    "                      'Pope Ridge',\n",
    "                       'Stevens Pass','Upper Wheeler')\n",
    "\n",
    "# ----------- original version -----\n",
    "sites_to_plot_B = cbind(c(728, 644, 711, 515, 699,791,841),\n",
    "                     c('Salmon Meadows, elev=4460 ft (Okanogan)','Moses Mountain, elev=5010 ft (Okanogan)',\n",
    "                      'Rainy Pass, elev=4890 ft (Methow)','Harts Pass, elev=6490 ft (Methow)',\n",
    "                      'Pope Ridge, elev=3590 ft (Entiat)',\n",
    "                       'Stevens Pass, elev=3950 ft (Wenatchee)','Upper Wheeler, elev=4330 ft (Wenatchee)'))"
   ]
  },
  {
   "cell_type": "code",
   "execution_count": 8,
   "metadata": {},
   "outputs": [
    {
     "data": {
      "text/html": [
       "<table>\n",
       "<caption>A data.frame: 7 × 3</caption>\n",
       "<thead>\n",
       "\t<tr><th scope=col>site_number</th><th scope=col>site_name</th><th scope=col>site_name_simple</th></tr>\n",
       "\t<tr><th scope=col>&lt;chr&gt;</th><th scope=col>&lt;chr&gt;</th><th scope=col>&lt;chr&gt;</th></tr>\n",
       "</thead>\n",
       "<tbody>\n",
       "\t<tr><td>728</td><td>Salmon Meadows, elev=4460 ft</td><td>Salmon Meadows</td></tr>\n",
       "\t<tr><td>644</td><td>Moses Mountain, elev=5010 ft</td><td>Moses Mountain</td></tr>\n",
       "\t<tr><td>711</td><td>Rainy Pass, elev=4890 ft    </td><td>Rainy Pass    </td></tr>\n",
       "\t<tr><td>515</td><td>Harts Pass, elev=6490 ft    </td><td>Harts Pass    </td></tr>\n",
       "\t<tr><td>699</td><td>Pope Ridge, elev=3590 ft    </td><td>Pope Ridge    </td></tr>\n",
       "\t<tr><td>791</td><td>Stevens Pass, elev=3950 ft  </td><td>Stevens Pass  </td></tr>\n",
       "\t<tr><td>841</td><td>Upper Wheeler, elev=4330 ft </td><td>Upper Wheeler </td></tr>\n",
       "</tbody>\n",
       "</table>\n"
      ],
      "text/latex": [
       "A data.frame: 7 × 3\n",
       "\\begin{tabular}{lll}\n",
       " site\\_number & site\\_name & site\\_name\\_simple\\\\\n",
       " <chr> & <chr> & <chr>\\\\\n",
       "\\hline\n",
       "\t 728 & Salmon Meadows, elev=4460 ft & Salmon Meadows\\\\\n",
       "\t 644 & Moses Mountain, elev=5010 ft & Moses Mountain\\\\\n",
       "\t 711 & Rainy Pass, elev=4890 ft     & Rainy Pass    \\\\\n",
       "\t 515 & Harts Pass, elev=6490 ft     & Harts Pass    \\\\\n",
       "\t 699 & Pope Ridge, elev=3590 ft     & Pope Ridge    \\\\\n",
       "\t 791 & Stevens Pass, elev=3950 ft   & Stevens Pass  \\\\\n",
       "\t 841 & Upper Wheeler, elev=4330 ft  & Upper Wheeler \\\\\n",
       "\\end{tabular}\n"
      ],
      "text/markdown": [
       "\n",
       "A data.frame: 7 × 3\n",
       "\n",
       "| site_number &lt;chr&gt; | site_name &lt;chr&gt; | site_name_simple &lt;chr&gt; |\n",
       "|---|---|---|\n",
       "| 728 | Salmon Meadows, elev=4460 ft | Salmon Meadows |\n",
       "| 644 | Moses Mountain, elev=5010 ft | Moses Mountain |\n",
       "| 711 | Rainy Pass, elev=4890 ft     | Rainy Pass     |\n",
       "| 515 | Harts Pass, elev=6490 ft     | Harts Pass     |\n",
       "| 699 | Pope Ridge, elev=3590 ft     | Pope Ridge     |\n",
       "| 791 | Stevens Pass, elev=3950 ft   | Stevens Pass   |\n",
       "| 841 | Upper Wheeler, elev=4330 ft  | Upper Wheeler  |\n",
       "\n"
      ],
      "text/plain": [
       "  site_number site_name                    site_name_simple\n",
       "1 728         Salmon Meadows, elev=4460 ft Salmon Meadows  \n",
       "2 644         Moses Mountain, elev=5010 ft Moses Mountain  \n",
       "3 711         Rainy Pass, elev=4890 ft     Rainy Pass      \n",
       "4 515         Harts Pass, elev=6490 ft     Harts Pass      \n",
       "5 699         Pope Ridge, elev=3590 ft     Pope Ridge      \n",
       "6 791         Stevens Pass, elev=3950 ft   Stevens Pass    \n",
       "7 841         Upper Wheeler, elev=4330 ft  Upper Wheeler   "
      ]
     },
     "metadata": {},
     "output_type": "display_data"
    }
   ],
   "source": [
    "sites_to_plot"
   ]
  },
  {
   "cell_type": "code",
   "execution_count": 9,
   "metadata": {},
   "outputs": [
    {
     "data": {
      "text/html": [
       "<table>\n",
       "<caption>A data.frame: 7 × 3</caption>\n",
       "<thead>\n",
       "\t<tr><th scope=col>site_number</th><th scope=col>site_name</th><th scope=col>site_name_simple</th></tr>\n",
       "\t<tr><th scope=col>&lt;chr&gt;</th><th scope=col>&lt;chr&gt;</th><th scope=col>&lt;chr&gt;</th></tr>\n",
       "</thead>\n",
       "<tbody>\n",
       "\t<tr><td>728</td><td>Salmon Meadows, elev=4460 ft</td><td>Salmon Meadows</td></tr>\n",
       "\t<tr><td>644</td><td>Moses Mountain, elev=5010 ft</td><td>Moses Mountain</td></tr>\n",
       "\t<tr><td>711</td><td>Rainy Pass, elev=4890 ft    </td><td>Rainy Pass    </td></tr>\n",
       "\t<tr><td>515</td><td>Harts Pass, elev=6490 ft    </td><td>Harts Pass    </td></tr>\n",
       "\t<tr><td>699</td><td>Pope Ridge, elev=3590 ft    </td><td>Pope Ridge    </td></tr>\n",
       "\t<tr><td>791</td><td>Stevens Pass, elev=3950 ft  </td><td>Stevens Pass  </td></tr>\n",
       "\t<tr><td>841</td><td>Upper Wheeler, elev=4330 ft </td><td>Upper Wheeler </td></tr>\n",
       "</tbody>\n",
       "</table>\n"
      ],
      "text/latex": [
       "A data.frame: 7 × 3\n",
       "\\begin{tabular}{lll}\n",
       " site\\_number & site\\_name & site\\_name\\_simple\\\\\n",
       " <chr> & <chr> & <chr>\\\\\n",
       "\\hline\n",
       "\t 728 & Salmon Meadows, elev=4460 ft & Salmon Meadows\\\\\n",
       "\t 644 & Moses Mountain, elev=5010 ft & Moses Mountain\\\\\n",
       "\t 711 & Rainy Pass, elev=4890 ft     & Rainy Pass    \\\\\n",
       "\t 515 & Harts Pass, elev=6490 ft     & Harts Pass    \\\\\n",
       "\t 699 & Pope Ridge, elev=3590 ft     & Pope Ridge    \\\\\n",
       "\t 791 & Stevens Pass, elev=3950 ft   & Stevens Pass  \\\\\n",
       "\t 841 & Upper Wheeler, elev=4330 ft  & Upper Wheeler \\\\\n",
       "\\end{tabular}\n"
      ],
      "text/markdown": [
       "\n",
       "A data.frame: 7 × 3\n",
       "\n",
       "| site_number &lt;chr&gt; | site_name &lt;chr&gt; | site_name_simple &lt;chr&gt; |\n",
       "|---|---|---|\n",
       "| 728 | Salmon Meadows, elev=4460 ft | Salmon Meadows |\n",
       "| 644 | Moses Mountain, elev=5010 ft | Moses Mountain |\n",
       "| 711 | Rainy Pass, elev=4890 ft     | Rainy Pass     |\n",
       "| 515 | Harts Pass, elev=6490 ft     | Harts Pass     |\n",
       "| 699 | Pope Ridge, elev=3590 ft     | Pope Ridge     |\n",
       "| 791 | Stevens Pass, elev=3950 ft   | Stevens Pass   |\n",
       "| 841 | Upper Wheeler, elev=4330 ft  | Upper Wheeler  |\n",
       "\n"
      ],
      "text/plain": [
       "  site_number site_name                    site_name_simple\n",
       "1 728         Salmon Meadows, elev=4460 ft Salmon Meadows  \n",
       "2 644         Moses Mountain, elev=5010 ft Moses Mountain  \n",
       "3 711         Rainy Pass, elev=4890 ft     Rainy Pass      \n",
       "4 515         Harts Pass, elev=6490 ft     Harts Pass      \n",
       "5 699         Pope Ridge, elev=3590 ft     Pope Ridge      \n",
       "6 791         Stevens Pass, elev=3950 ft   Stevens Pass    \n",
       "7 841         Upper Wheeler, elev=4330 ft  Upper Wheeler   "
      ]
     },
     "metadata": {},
     "output_type": "display_data"
    }
   ],
   "source": [
    "sites_to_plot"
   ]
  },
  {
   "cell_type": "markdown",
   "metadata": {},
   "source": [
    "# ------------------------ loop to read in all the data -----------------"
   ]
  },
  {
   "cell_type": "code",
   "execution_count": 10,
   "metadata": {},
   "outputs": [
    {
     "name": "stdout",
     "output_type": "stream",
     "text": [
      "[1] \"starting download of....\"\n",
      "[1] 352\n"
     ]
    },
    {
     "name": "stderr",
     "output_type": "stream",
     "text": [
      "Downloading site: blewett pass , with id: 352\n",
      "\n",
      "\n"
     ]
    },
    {
     "name": "stdout",
     "output_type": "stream",
     "text": [
      "[1] \"  DOWNLOADED: \"\n",
      "[1] \"blewett pass \"\n",
      "[1] \"         DONE                 \"\n",
      "[1] \"       \"\n",
      "[1] \"starting download of....\"\n",
      "[1] 606\n"
     ]
    },
    {
     "name": "stderr",
     "output_type": "stream",
     "text": [
      "Downloading site: lyman lake , with id: 606\n",
      "\n",
      "\n"
     ]
    },
    {
     "name": "stdout",
     "output_type": "stream",
     "text": [
      "[1] \"  DOWNLOADED: \"\n",
      "[1] \"lyman lake \"\n",
      "[1] \"         DONE                 \"\n",
      "[1] \"       \"\n",
      "[1] \"starting download of....\"\n",
      "[1] 681\n"
     ]
    },
    {
     "name": "stderr",
     "output_type": "stream",
     "text": [
      "Downloading site: park creek ridge , with id: 681\n",
      "\n",
      "\n"
     ]
    },
    {
     "name": "stdout",
     "output_type": "stream",
     "text": [
      "[1] \"  DOWNLOADED: \"\n",
      "[1] \"park creek ridge \"\n",
      "[1] \"         DONE                 \"\n",
      "[1] \"       \"\n",
      "[1] \"starting download of....\"\n",
      "[1] 699\n"
     ]
    },
    {
     "name": "stderr",
     "output_type": "stream",
     "text": [
      "Downloading site: pope ridge , with id: 699\n",
      "\n",
      "\n"
     ]
    },
    {
     "name": "stdout",
     "output_type": "stream",
     "text": [
      "[1] \"  DOWNLOADED: \"\n",
      "[1] \"pope ridge \"\n",
      "[1] \"         DONE                 \"\n",
      "[1] \"       \"\n",
      "[1] \"starting download of....\"\n",
      "[1] 711\n"
     ]
    },
    {
     "name": "stderr",
     "output_type": "stream",
     "text": [
      "Downloading site: rainy pass , with id: 711\n",
      "\n",
      "\n"
     ]
    },
    {
     "name": "stdout",
     "output_type": "stream",
     "text": [
      "[1] \"  DOWNLOADED: \"\n",
      "[1] \"rainy pass \"\n",
      "[1] \"         DONE                 \"\n",
      "[1] \"       \"\n",
      "[1] \"starting download of....\"\n",
      "[1] 841\n"
     ]
    },
    {
     "name": "stderr",
     "output_type": "stream",
     "text": [
      "Downloading site: upper wheeler , with id: 841\n",
      "\n",
      "\n"
     ]
    },
    {
     "name": "stdout",
     "output_type": "stream",
     "text": [
      "[1] \"  DOWNLOADED: \"\n",
      "[1] \"upper wheeler \"\n",
      "[1] \"         DONE                 \"\n",
      "[1] \"       \"\n",
      "[1] \"starting download of....\"\n",
      "[1] 478\n"
     ]
    },
    {
     "name": "stderr",
     "output_type": "stream",
     "text": [
      "Downloading site: fish lake , with id: 478\n",
      "\n",
      "\n"
     ]
    },
    {
     "name": "stdout",
     "output_type": "stream",
     "text": [
      "[1] \"  DOWNLOADED: \"\n",
      "[1] \"fish lake \"\n",
      "[1] \"         DONE                 \"\n",
      "[1] \"       \"\n",
      "[1] \"starting download of....\"\n",
      "[1] 507\n"
     ]
    },
    {
     "name": "stderr",
     "output_type": "stream",
     "text": [
      "Downloading site: grouse camp , with id: 507\n",
      "\n",
      "\n"
     ]
    },
    {
     "name": "stdout",
     "output_type": "stream",
     "text": [
      "[1] \"  DOWNLOADED: \"\n",
      "[1] \"grouse camp \"\n",
      "[1] \"         DONE                 \"\n",
      "[1] \"       \"\n",
      "[1] \"starting download of....\"\n",
      "[1] 734\n"
     ]
    },
    {
     "name": "stderr",
     "output_type": "stream",
     "text": [
      "Downloading site: sasse ridge , with id: 734\n",
      "\n",
      "\n"
     ]
    },
    {
     "name": "stdout",
     "output_type": "stream",
     "text": [
      "[1] \"  DOWNLOADED: \"\n",
      "[1] \"sasse ridge \"\n",
      "[1] \"         DONE                 \"\n",
      "[1] \"       \"\n",
      "[1] \"starting download of....\"\n",
      "[1] 832\n"
     ]
    },
    {
     "name": "stderr",
     "output_type": "stream",
     "text": [
      "Downloading site: trough , with id: 832\n",
      "\n",
      "\n"
     ]
    },
    {
     "name": "stdout",
     "output_type": "stream",
     "text": [
      "[1] \"  DOWNLOADED: \"\n",
      "[1] \"trough \"\n",
      "[1] \"         DONE                 \"\n",
      "[1] \"       \"\n",
      "[1] \"starting download of....\"\n",
      "[1] 515\n"
     ]
    },
    {
     "name": "stderr",
     "output_type": "stream",
     "text": [
      "Downloading site: harts pass , with id: 515\n",
      "\n",
      "\n"
     ]
    },
    {
     "name": "stdout",
     "output_type": "stream",
     "text": [
      "[1] \"  DOWNLOADED: \"\n",
      "[1] \"harts pass \"\n",
      "[1] \"         DONE                 \"\n",
      "[1] \"       \"\n",
      "[1] \"starting download of....\"\n",
      "[1] 644\n"
     ]
    },
    {
     "name": "stderr",
     "output_type": "stream",
     "text": [
      "Downloading site: moses mtn , with id: 644\n",
      "\n",
      "\n"
     ]
    },
    {
     "name": "stdout",
     "output_type": "stream",
     "text": [
      "[1] \"  DOWNLOADED: \"\n",
      "[1] \"moses mtn \"\n",
      "[1] \"         DONE                 \"\n",
      "[1] \"       \"\n",
      "[1] \"starting download of....\"\n",
      "[1] 728\n"
     ]
    },
    {
     "name": "stderr",
     "output_type": "stream",
     "text": [
      "Downloading site: salmon meadows , with id: 728\n",
      "\n",
      "\n"
     ]
    },
    {
     "name": "stdout",
     "output_type": "stream",
     "text": [
      "[1] \"  DOWNLOADED: \"\n",
      "[1] \"salmon meadows \"\n",
      "[1] \"         DONE                 \"\n",
      "[1] \"       \"\n",
      "[1] \"starting download of....\"\n",
      "[1] 791\n"
     ]
    },
    {
     "name": "stderr",
     "output_type": "stream",
     "text": [
      "Downloading site: stevens pass , with id: 791\n",
      "\n",
      "\n"
     ]
    },
    {
     "name": "stdout",
     "output_type": "stream",
     "text": [
      "[1] \"  DOWNLOADED: \"\n",
      "[1] \"stevens pass \"\n",
      "[1] \"         DONE                 \"\n",
      "[1] \"       \"\n"
     ]
    }
   ],
   "source": [
    "all_snotel_data = list() # creates a list\n",
    "\n",
    "for(site_x in Upper_Columbia_site_list$site_number){\n",
    "    \n",
    "    # ---------------- read in data and add to master list (all_snotel_data) --------\n",
    "    print('starting download of....')\n",
    "    print(site_x)\n",
    "    all_snotel_data[[site_x]] = snotel_read_and_process_function(site_x, seq(1979,2019))\n",
    "    print(\"         DONE                 \")\n",
    "    print(\"       \")\n",
    "}\n",
    "\n",
    "\n"
   ]
  },
  {
   "cell_type": "markdown",
   "metadata": {},
   "source": [
    "# -------------------------------------------------------------------------------------\n",
    "#        Calculate SNOW Statistics\n",
    "# -------------------------------------------------------------------------------------"
   ]
  },
  {
   "cell_type": "code",
   "execution_count": null,
   "metadata": {},
   "outputs": [],
   "source": []
  },
  {
   "cell_type": "markdown",
   "metadata": {},
   "source": [
    "## ---------------------------------------------------------------------------\n",
    "##     Functions\n",
    "## ---------------------------------------------------------------------------"
   ]
  },
  {
   "cell_type": "code",
   "execution_count": 11,
   "metadata": {},
   "outputs": [],
   "source": [
    "melt_out_day_function = function(annual_snow, calendar_day_after, year_x){\n",
    "    \n",
    "    # ----------- get all snow after day ----------\n",
    "    annual_snow_sub = annual_snow[calendar_day_after:365]\n",
    "    \n",
    "    # ----------- find first day snow was 0 -----------\n",
    "    first_day = min(which(annual_snow_sub == 0)) \n",
    "    first_day = first_day + calendar_day_after - 92 # get calendar year day\n",
    "    first_day = paste(first_day,year_x, sep=\"-\")\n",
    "    first_day = as.Date(first_day, format='%j-%Y')\n",
    "    first_day_calendar_day = format(first_day, '%j') # output calendar day\n",
    "    first_day_short = format(first_day, \"%d-%b\") # output as day and month\n",
    "    \n",
    "    # ------------- return ---------------\n",
    "    return(c(year_x, first_day_calendar_day, first_day_short))\n",
    "    \n",
    "}"
   ]
  },
  {
   "cell_type": "code",
   "execution_count": 12,
   "metadata": {},
   "outputs": [],
   "source": [
    "SNOTEL_statistics_function = function(metric_data, date_data, year_to_plot){\n",
    "    \n",
    "    # ----------- water year -----------\n",
    "    date_data_wtr_yr = wtr_yr(date_data)\n",
    "    \n",
    "    # ---------------------------------------------------------------------------------\n",
    "    #        Annual peak snowpack statistics          \n",
    "    # ---------------------------------------------------------------------------------\n",
    "\n",
    "    # ----------------- calculate annual peak snow statistics -----------------\n",
    "    annual_max = aggregate(metric_data, list(date_data_wtr_yr), max)\n",
    "    annual_max_year = round( annual_max[which(annual_max[ ,1] == year_to_plot),2], 2)\n",
    "    mean_annual_max = mean(annual_max[,2], na.rm=T)\n",
    "    prcnt_annual_max_year = round((annual_max_year/mean_annual_max) * 100, 2)\n",
    "    delta_annual_max_year = round((annual_max_year - mean_annual_max), 2)\n",
    "    \n",
    "    # -------------- day of annual peak snow ---------------\n",
    "    day_of_annual_snow = c()\n",
    "    unique_years = unique(date_data_wtr_yr)\n",
    "    for(i in 1:length(unique_years)){\n",
    "\n",
    "        # ----------------- get snow this year -----------------\n",
    "        year_x = unique_years[i]\n",
    "        x = which(date_data_wtr_yr == unique_years[i])\n",
    "        # ----- get data for that year -----\n",
    "        annual_snow = metric_data[x]\n",
    "        # -------------- calculate calendar day of peak -----------\n",
    "        day_of_peak = which(annual_snow == annual_max[i,2])\n",
    "        day_of_peak = day_of_peak[1] - 92 # get calendary year day, from water year day\n",
    "        # ------------------ calculate month and day ---------\n",
    "        day_of_peak_2 = paste(day_of_peak,  year_x, sep=\"-\")\n",
    "        day_of_peak_2 = as.Date(day_of_peak_2, format='%j-%Y')\n",
    "        day_of_peak_2 = format(day_of_peak_2, \"%d-%b\") # output as day and month\n",
    "        # ------------- output data --------\n",
    "        output_row = c(unique_years[i], day_of_peak[1], day_of_peak_2[1])\n",
    "        day_of_annual_snow = rbind(day_of_annual_snow, output_row)\n",
    "    }\n",
    "    \n",
    "    # ------------------------- calculate for this year -----------\n",
    "    peak_snow_year_day = as.numeric(day_of_annual_snow[which(day_of_annual_snow[ ,1] == year_to_plot),2])\n",
    "    mean_peak_snow_ALL = round(  ( mean(as.numeric(day_of_annual_snow[,2]), na.rm=T) ), 2)\n",
    "    delta_peak_snow_day = round(peak_snow_year_day - mean_peak_snow_ALL, 2) # days difference from average\n",
    "    \n",
    "    \n",
    "    # ---------------------------------------------------------------------------------\n",
    "    #           Annual melt out statistics\n",
    "    # ---------------------------------------------------------------------------------\n",
    "\n",
    "    # ----------------- calculate annual melt out day statistics -----------------\n",
    "    unique_years = unique(date_data_wtr_yr)\n",
    "    melt_out_data_frame = c()\n",
    "    for(i in 1:length(unique_years)){\n",
    "        \n",
    "        # ----------------- get snow this year -----------------\n",
    "        x = which(date_data_wtr_yr == unique_years[i])\n",
    "        annual_snow = metric_data[x]\n",
    "        \n",
    "        # ------------- calculate melt out year ----------------\n",
    "        melt_data_x = melt_out_day_function(annual_snow, 105, unique_years[i])\n",
    "        melt_out_data_frame = rbind(melt_out_data_frame, melt_data_x)\n",
    "    }\n",
    "    \n",
    "    # ------------------------- calculate for this year -----------\n",
    "    melt_out_day = as.numeric(melt_out_data_frame[which(melt_out_data_frame[ ,1] == year_to_plot),2])\n",
    "    mean_melt_out_ALL = round( (mean(as.numeric(melt_out_data_frame[,2]), na.rm=T)),  2)\n",
    "    delta_melt_out_day = round(melt_out_day - mean_melt_out_ALL, 2) # days difference from average\n",
    "    \n",
    "    \n",
    "    # ---------------------------------------------------------------------------------\n",
    "    #      Output         \n",
    "    # ---------------------------------------------------------------------------------\n",
    "    output_x = t(as.data.frame(c(annual_max_year, delta_annual_max_year, prcnt_annual_max_year,\n",
    "                peak_snow_year_day, delta_peak_snow_day,\n",
    "                 melt_out_day, delta_melt_out_day\n",
    "                )))\n",
    "    rownames(output_x) = 1\n",
    "    colnames(output_x) = c('peak_SWE_this_year','peak_SWE_DELTA_change_inches', 'peak_SWE_PRCNT','peak_SWE_this_year_DAY','peak_SWE_this_year_DAYS_from_mean',\n",
    "                        'snow_disappearance_day_this_year','snow_disappearance_DAY_from_mean')\n",
    "    \n",
    "    #print(output_x)\n",
    "    return(output_x)\n",
    "    \n",
    "}"
   ]
  },
  {
   "cell_type": "code",
   "execution_count": null,
   "metadata": {},
   "outputs": [],
   "source": [
    "sites_to_plot"
   ]
  },
  {
   "cell_type": "markdown",
   "metadata": {},
   "source": [
    "## ---------------------------------------------------------------------------\n",
    "##     Calculate Snow Statistics\n",
    "## ---------------------------------------------------------------------------"
   ]
  },
  {
   "cell_type": "code",
   "execution_count": 13,
   "metadata": {},
   "outputs": [
    {
     "name": "stdout",
     "output_type": "stream",
     "text": [
      "[1] 1\n",
      "[1] \"728\"\n"
     ]
    },
    {
     "name": "stderr",
     "output_type": "stream",
     "text": [
      "Warning message in min(which(annual_snow_sub == 0)):\n",
      "\"no non-missing arguments to min; returning Inf\"\n",
      "Warning message in min(which(annual_snow_sub == 0)):\n",
      "\"no non-missing arguments to min; returning Inf\"\n",
      "Warning message in min(which(annual_snow_sub == 0)):\n",
      "\"no non-missing arguments to min; returning Inf\"\n"
     ]
    },
    {
     "name": "stdout",
     "output_type": "stream",
     "text": [
      "[1] 2\n",
      "[1] \"644\"\n"
     ]
    },
    {
     "name": "stderr",
     "output_type": "stream",
     "text": [
      "Warning message in min(which(annual_snow_sub == 0)):\n",
      "\"no non-missing arguments to min; returning Inf\"\n"
     ]
    },
    {
     "name": "stdout",
     "output_type": "stream",
     "text": [
      "[1] 3\n",
      "[1] \"711\"\n"
     ]
    },
    {
     "name": "stderr",
     "output_type": "stream",
     "text": [
      "Warning message in min(which(annual_snow_sub == 0)):\n",
      "\"no non-missing arguments to min; returning Inf\"\n",
      "Warning message in min(which(annual_snow_sub == 0)):\n",
      "\"no non-missing arguments to min; returning Inf\"\n",
      "Warning message in min(which(annual_snow_sub == 0)):\n",
      "\"no non-missing arguments to min; returning Inf\"\n"
     ]
    },
    {
     "name": "stdout",
     "output_type": "stream",
     "text": [
      "[1] 4\n",
      "[1] \"515\"\n"
     ]
    },
    {
     "name": "stderr",
     "output_type": "stream",
     "text": [
      "Warning message in min(which(annual_snow_sub == 0)):\n",
      "\"no non-missing arguments to min; returning Inf\"\n",
      "Warning message in min(which(annual_snow_sub == 0)):\n",
      "\"no non-missing arguments to min; returning Inf\"\n",
      "Warning message in min(which(annual_snow_sub == 0)):\n",
      "\"no non-missing arguments to min; returning Inf\"\n"
     ]
    },
    {
     "name": "stdout",
     "output_type": "stream",
     "text": [
      "[1] 5\n",
      "[1] \"699\"\n"
     ]
    },
    {
     "name": "stderr",
     "output_type": "stream",
     "text": [
      "Warning message in min(which(annual_snow_sub == 0)):\n",
      "\"no non-missing arguments to min; returning Inf\"\n"
     ]
    },
    {
     "name": "stdout",
     "output_type": "stream",
     "text": [
      "[1] 6\n",
      "[1] \"791\"\n"
     ]
    },
    {
     "name": "stderr",
     "output_type": "stream",
     "text": [
      "Warning message in min(which(annual_snow_sub == 0)):\n",
      "\"no non-missing arguments to min; returning Inf\"\n"
     ]
    },
    {
     "name": "stdout",
     "output_type": "stream",
     "text": [
      "[1] 7\n",
      "[1] \"841\"\n"
     ]
    },
    {
     "name": "stderr",
     "output_type": "stream",
     "text": [
      "Warning message in min(which(annual_snow_sub == 0)):\n",
      "\"no non-missing arguments to min; returning Inf\"\n",
      "Warning message in min(which(annual_snow_sub == 0)):\n",
      "\"no non-missing arguments to min; returning Inf\"\n"
     ]
    }
   ],
   "source": [
    "# ------------ data frame for statistics ---------\n",
    "snow_statistics_output = c()\n",
    "\n",
    "for(i in 1:nrow(sites_to_plot)){\n",
    "\n",
    "    # ------------------------------------------------------------\n",
    "    #          Prepare the Data\n",
    "    # ------------------------------------------------------------\n",
    "    print(i)\n",
    "    print(sites_to_plot$site_number[i])\n",
    "    # ------------------------ generate the median snotel -------------------\n",
    "    snow_data_x = as.numeric(as.character(all_snotel_data[[as.numeric(sites_to_plot$site_number[i])]]$'snow_water_equivalent_inches' ))\n",
    "    date_vector = all_snotel_data[[as.numeric(sites_to_plot$site_number[i])]]$'datetime'\n",
    "    \n",
    "    # ---------------- generate output data --------------\n",
    "    output_data_x = SNOTEL_statistics_function(snow_data_x, date_vector, year_to_plot)\n",
    "    sites_df = t(as.data.frame(c(sites_to_plot$site_name_simple[i], sites_to_plot$site_number[i])))\n",
    "    colnames(sites_df) = c(\"site_name\", \"site_number\")\n",
    "    output_data_x = cbind(sites_df, output_data_x)\n",
    "    rownames(output_data_x) = i\n",
    "    snow_statistics_output = rbind(snow_statistics_output, output_data_x)\n",
    "    \n",
    "}\n",
    "snow_statistics_output = as.data.frame(snow_statistics_output)\n",
    "snow_statistics_output$peak_SWE_this_year = as.numeric(snow_statistics_output$peak_SWE_this_year)\n",
    "snow_statistics_output$peak_SWE_PRCNT = as.numeric(snow_statistics_output$peak_SWE_PRCNT)\n",
    "snow_statistics_output$peak_SWE_this_year_DAY = as.numeric(snow_statistics_output$peak_SWE_this_year_DAY)\n",
    "snow_statistics_output$peak_SWE_this_year_DAYS_from_mean = as.numeric(snow_statistics_output$peak_SWE_this_year_DAYS_from_mean)\n",
    "snow_statistics_output$snow_disappearance_day_this_year = as.numeric(snow_statistics_output$snow_disappearance_day_this_year)\n",
    "snow_statistics_output$snow_disappearance_DAY_from_mean = as.numeric(snow_statistics_output$snow_disappearance_DAY_from_mean)\n",
    "snow_statistics_output$peak_SWE_DELTA_change_inches = as.numeric(snow_statistics_output$peak_SWE_DELTA_change_inches)\n"
   ]
  },
  {
   "cell_type": "code",
   "execution_count": null,
   "metadata": {},
   "outputs": [],
   "source": []
  },
  {
   "cell_type": "code",
   "execution_count": 122,
   "metadata": {},
   "outputs": [
    {
     "data": {
      "text/html": [
       "<table>\n",
       "<caption>A data.frame: 7 × 9</caption>\n",
       "<thead>\n",
       "\t<tr><th></th><th scope=col>site_name</th><th scope=col>site_number</th><th scope=col>peak_SWE_this_year</th><th scope=col>peak_SWE_DELTA_change_inches</th><th scope=col>peak_SWE_PRCNT</th><th scope=col>peak_SWE_this_year_DAY</th><th scope=col>peak_SWE_this_year_DAYS_from_mean</th><th scope=col>snow_disappearance_day_this_year</th><th scope=col>snow_disappearance_DAY_from_mean</th></tr>\n",
       "\t<tr><th></th><th scope=col>&lt;chr&gt;</th><th scope=col>&lt;chr&gt;</th><th scope=col>&lt;dbl&gt;</th><th scope=col>&lt;dbl&gt;</th><th scope=col>&lt;dbl&gt;</th><th scope=col>&lt;dbl&gt;</th><th scope=col>&lt;dbl&gt;</th><th scope=col>&lt;dbl&gt;</th><th scope=col>&lt;dbl&gt;</th></tr>\n",
       "</thead>\n",
       "<tbody>\n",
       "\t<tr><th scope=row>1</th><td>Salmon Meadows</td><td>728</td><td> 74.02</td><td> -33.42</td><td>68.89</td><td> 74</td><td> -8.58</td><td>110</td><td>-12.19</td></tr>\n",
       "\t<tr><th scope=row>2</th><td>Moses Mountain</td><td>644</td><td>116.93</td><td> -41.92</td><td>73.61</td><td>107</td><td> 14.52</td><td>131</td><td> -7.18</td></tr>\n",
       "\t<tr><th scope=row>3</th><td>Rainy Pass    </td><td>711</td><td>253.94</td><td>-149.20</td><td>62.99</td><td>109</td><td>  5.97</td><td>154</td><td>-18.16</td></tr>\n",
       "\t<tr><th scope=row>4</th><td>Harts Pass    </td><td>515</td><td>394.09</td><td> -77.24</td><td>83.61</td><td>110</td><td> -1.47</td><td>161</td><td>-13.92</td></tr>\n",
       "\t<tr><th scope=row>5</th><td>Pope Ridge    </td><td>699</td><td>155.12</td><td> -22.45</td><td>87.36</td><td> 77</td><td>  6.00</td><td>117</td><td>-11.66</td></tr>\n",
       "\t<tr><th scope=row>6</th><td>Stevens Pass  </td><td>791</td><td>296.06</td><td> -91.09</td><td>76.47</td><td> 74</td><td>-12.08</td><td>137</td><td>-18.59</td></tr>\n",
       "\t<tr><th scope=row>7</th><td>Upper Wheeler </td><td>841</td><td>127.95</td><td>  -0.24</td><td>99.81</td><td> 71</td><td>-11.37</td><td>131</td><td> -0.71</td></tr>\n",
       "</tbody>\n",
       "</table>\n"
      ],
      "text/latex": [
       "A data.frame: 7 × 9\n",
       "\\begin{tabular}{r|lllllllll}\n",
       "  & site\\_name & site\\_number & peak\\_SWE\\_this\\_year & peak\\_SWE\\_DELTA\\_change\\_inches & peak\\_SWE\\_PRCNT & peak\\_SWE\\_this\\_year\\_DAY & peak\\_SWE\\_this\\_year\\_DAYS\\_from\\_mean & snow\\_disappearance\\_day\\_this\\_year & snow\\_disappearance\\_DAY\\_from\\_mean\\\\\n",
       "  & <chr> & <chr> & <dbl> & <dbl> & <dbl> & <dbl> & <dbl> & <dbl> & <dbl>\\\\\n",
       "\\hline\n",
       "\t1 & Salmon Meadows & 728 &  74.02 &  -33.42 & 68.89 &  74 &  -8.58 & 110 & -12.19\\\\\n",
       "\t2 & Moses Mountain & 644 & 116.93 &  -41.92 & 73.61 & 107 &  14.52 & 131 &  -7.18\\\\\n",
       "\t3 & Rainy Pass     & 711 & 253.94 & -149.20 & 62.99 & 109 &   5.97 & 154 & -18.16\\\\\n",
       "\t4 & Harts Pass     & 515 & 394.09 &  -77.24 & 83.61 & 110 &  -1.47 & 161 & -13.92\\\\\n",
       "\t5 & Pope Ridge     & 699 & 155.12 &  -22.45 & 87.36 &  77 &   6.00 & 117 & -11.66\\\\\n",
       "\t6 & Stevens Pass   & 791 & 296.06 &  -91.09 & 76.47 &  74 & -12.08 & 137 & -18.59\\\\\n",
       "\t7 & Upper Wheeler  & 841 & 127.95 &   -0.24 & 99.81 &  71 & -11.37 & 131 &  -0.71\\\\\n",
       "\\end{tabular}\n"
      ],
      "text/markdown": [
       "\n",
       "A data.frame: 7 × 9\n",
       "\n",
       "| <!--/--> | site_name &lt;chr&gt; | site_number &lt;chr&gt; | peak_SWE_this_year &lt;dbl&gt; | peak_SWE_DELTA_change_inches &lt;dbl&gt; | peak_SWE_PRCNT &lt;dbl&gt; | peak_SWE_this_year_DAY &lt;dbl&gt; | peak_SWE_this_year_DAYS_from_mean &lt;dbl&gt; | snow_disappearance_day_this_year &lt;dbl&gt; | snow_disappearance_DAY_from_mean &lt;dbl&gt; |\n",
       "|---|---|---|---|---|---|---|---|---|---|\n",
       "| 1 | Salmon Meadows | 728 |  74.02 |  -33.42 | 68.89 |  74 |  -8.58 | 110 | -12.19 |\n",
       "| 2 | Moses Mountain | 644 | 116.93 |  -41.92 | 73.61 | 107 |  14.52 | 131 |  -7.18 |\n",
       "| 3 | Rainy Pass     | 711 | 253.94 | -149.20 | 62.99 | 109 |   5.97 | 154 | -18.16 |\n",
       "| 4 | Harts Pass     | 515 | 394.09 |  -77.24 | 83.61 | 110 |  -1.47 | 161 | -13.92 |\n",
       "| 5 | Pope Ridge     | 699 | 155.12 |  -22.45 | 87.36 |  77 |   6.00 | 117 | -11.66 |\n",
       "| 6 | Stevens Pass   | 791 | 296.06 |  -91.09 | 76.47 |  74 | -12.08 | 137 | -18.59 |\n",
       "| 7 | Upper Wheeler  | 841 | 127.95 |   -0.24 | 99.81 |  71 | -11.37 | 131 |  -0.71 |\n",
       "\n"
      ],
      "text/plain": [
       "  site_name      site_number peak_SWE_this_year peak_SWE_DELTA_change_inches\n",
       "1 Salmon Meadows 728          74.02              -33.42                     \n",
       "2 Moses Mountain 644         116.93              -41.92                     \n",
       "3 Rainy Pass     711         253.94             -149.20                     \n",
       "4 Harts Pass     515         394.09              -77.24                     \n",
       "5 Pope Ridge     699         155.12              -22.45                     \n",
       "6 Stevens Pass   791         296.06              -91.09                     \n",
       "7 Upper Wheeler  841         127.95               -0.24                     \n",
       "  peak_SWE_PRCNT peak_SWE_this_year_DAY peak_SWE_this_year_DAYS_from_mean\n",
       "1 68.89           74                     -8.58                           \n",
       "2 73.61          107                     14.52                           \n",
       "3 62.99          109                      5.97                           \n",
       "4 83.61          110                     -1.47                           \n",
       "5 87.36           77                      6.00                           \n",
       "6 76.47           74                    -12.08                           \n",
       "7 99.81           71                    -11.37                           \n",
       "  snow_disappearance_day_this_year snow_disappearance_DAY_from_mean\n",
       "1 110                              -12.19                          \n",
       "2 131                               -7.18                          \n",
       "3 154                              -18.16                          \n",
       "4 161                              -13.92                          \n",
       "5 117                              -11.66                          \n",
       "6 137                              -18.59                          \n",
       "7 131                               -0.71                          "
      ]
     },
     "metadata": {},
     "output_type": "display_data"
    }
   ],
   "source": [
    "snow_statistics_output"
   ]
  },
  {
   "cell_type": "markdown",
   "metadata": {},
   "source": [
    "### ----------------------------------------------------------\n",
    "###           statistics for peak SWE \n",
    "### ----------------------------------------------------------"
   ]
  },
  {
   "cell_type": "code",
   "execution_count": 1,
   "metadata": {},
   "outputs": [
    {
     "name": "stdout",
     "output_type": "stream",
     "text": [
      "[1] \"-----Maximum -----:\"\n"
     ]
    },
    {
     "ename": "ERROR",
     "evalue": "Error in eval(expr, envir, enclos): object 'snow_statistics_output' not found\n",
     "output_type": "error",
     "traceback": [
      "Error in eval(expr, envir, enclos): object 'snow_statistics_output' not found\nTraceback:\n"
     ]
    }
   ],
   "source": [
    "print('-----Maximum -----:')\n",
    "max(snow_statistics_output$peak_SWE_this_year)\n",
    "print('-----Mean -----:')\n",
    "round( mean(snow_statistics_output$peak_SWE_this_year),  2)\n",
    "print('-----Minimum -----:')\n",
    "min(snow_statistics_output$peak_SWE_this_year)"
   ]
  },
  {
   "cell_type": "markdown",
   "metadata": {},
   "source": [
    "### ----------------------------------------------------------\n",
    "###           statistics for DELTA of peak SWE (inches)\n",
    "### ----------------------------------------------------------"
   ]
  },
  {
   "cell_type": "code",
   "execution_count": 123,
   "metadata": {},
   "outputs": [
    {
     "name": "stdout",
     "output_type": "stream",
     "text": [
      "[1] \"-----Maximum -----:\"\n"
     ]
    },
    {
     "data": {
      "text/html": [
       "-0.24"
      ],
      "text/latex": [
       "-0.24"
      ],
      "text/markdown": [
       "-0.24"
      ],
      "text/plain": [
       "[1] -0.24"
      ]
     },
     "metadata": {},
     "output_type": "display_data"
    },
    {
     "name": "stdout",
     "output_type": "stream",
     "text": [
      "[1] \"-----Mean -----:\"\n"
     ]
    },
    {
     "data": {
      "text/html": [
       "-59.37"
      ],
      "text/latex": [
       "-59.37"
      ],
      "text/markdown": [
       "-59.37"
      ],
      "text/plain": [
       "[1] -59.37"
      ]
     },
     "metadata": {},
     "output_type": "display_data"
    },
    {
     "name": "stdout",
     "output_type": "stream",
     "text": [
      "[1] \"-----Minimum -----:\"\n"
     ]
    },
    {
     "data": {
      "text/html": [
       "-149.2"
      ],
      "text/latex": [
       "-149.2"
      ],
      "text/markdown": [
       "-149.2"
      ],
      "text/plain": [
       "[1] -149.2"
      ]
     },
     "metadata": {},
     "output_type": "display_data"
    }
   ],
   "source": [
    "print('-----Maximum -----:')\n",
    "max(snow_statistics_output$peak_SWE_DELTA_change_inches)\n",
    "print('-----Mean -----:')\n",
    "round( mean(snow_statistics_output$peak_SWE_DELTA_change_inches), 2)\n",
    "print('-----Minimum -----:')\n",
    "min(snow_statistics_output$peak_SWE_DELTA_change_inches)"
   ]
  },
  {
   "cell_type": "markdown",
   "metadata": {},
   "source": [
    "### ----------------------------------------------------------\n",
    "###           statistics for peak SWE PERCENT change this year\n",
    "### ----------------------------------------------------------"
   ]
  },
  {
   "cell_type": "code",
   "execution_count": 125,
   "metadata": {},
   "outputs": [
    {
     "name": "stdout",
     "output_type": "stream",
     "text": [
      "[1] \"-----Maximum -----:\"\n"
     ]
    },
    {
     "data": {
      "text/html": [
       "99.81"
      ],
      "text/latex": [
       "99.81"
      ],
      "text/markdown": [
       "99.81"
      ],
      "text/plain": [
       "[1] 99.81"
      ]
     },
     "metadata": {},
     "output_type": "display_data"
    },
    {
     "name": "stdout",
     "output_type": "stream",
     "text": [
      "[1] \"-----Mean -----:\"\n"
     ]
    },
    {
     "data": {
      "text/html": [
       "78.96"
      ],
      "text/latex": [
       "78.96"
      ],
      "text/markdown": [
       "78.96"
      ],
      "text/plain": [
       "[1] 78.96"
      ]
     },
     "metadata": {},
     "output_type": "display_data"
    },
    {
     "name": "stdout",
     "output_type": "stream",
     "text": [
      "[1] \"-----Minimum -----:\"\n"
     ]
    },
    {
     "data": {
      "text/html": [
       "62.99"
      ],
      "text/latex": [
       "62.99"
      ],
      "text/markdown": [
       "62.99"
      ],
      "text/plain": [
       "[1] 62.99"
      ]
     },
     "metadata": {},
     "output_type": "display_data"
    }
   ],
   "source": [
    "print('-----Maximum -----:')\n",
    "max(snow_statistics_output$peak_SWE_PRCNT)\n",
    "print('-----Mean -----:')\n",
    "round( mean(snow_statistics_output$peak_SWE_PRCNT), 2)\n",
    "print('-----Minimum -----:')\n",
    "min(snow_statistics_output$peak_SWE_PRCNT)"
   ]
  },
  {
   "cell_type": "markdown",
   "metadata": {},
   "source": [
    "### ----------------------------------------------------------\n",
    "###           statistics for peak SWE day  (calendar day)\n",
    "### ----------------------------------------------------------"
   ]
  },
  {
   "cell_type": "code",
   "execution_count": 126,
   "metadata": {},
   "outputs": [
    {
     "name": "stdout",
     "output_type": "stream",
     "text": [
      "[1] \"-----Maximum -----:\"\n"
     ]
    },
    {
     "data": {
      "text/html": [
       "110"
      ],
      "text/latex": [
       "110"
      ],
      "text/markdown": [
       "110"
      ],
      "text/plain": [
       "[1] 110"
      ]
     },
     "metadata": {},
     "output_type": "display_data"
    },
    {
     "name": "stdout",
     "output_type": "stream",
     "text": [
      "[1] \"-----Mean -----:\"\n"
     ]
    },
    {
     "data": {
      "text/html": [
       "88.9"
      ],
      "text/latex": [
       "88.9"
      ],
      "text/markdown": [
       "88.9"
      ],
      "text/plain": [
       "[1] 88.9"
      ]
     },
     "metadata": {},
     "output_type": "display_data"
    },
    {
     "name": "stdout",
     "output_type": "stream",
     "text": [
      "[1] \"-----Minimum -----:\"\n"
     ]
    },
    {
     "data": {
      "text/html": [
       "71"
      ],
      "text/latex": [
       "71"
      ],
      "text/markdown": [
       "71"
      ],
      "text/plain": [
       "[1] 71"
      ]
     },
     "metadata": {},
     "output_type": "display_data"
    }
   ],
   "source": [
    "print('-----Maximum -----:')\n",
    "max(snow_statistics_output$peak_SWE_this_year_DAY)\n",
    "print('-----Mean -----:')\n",
    "round( mean(snow_statistics_output$peak_SWE_this_year_DAY), 1)\n",
    "print('-----Minimum -----:')\n",
    "min(snow_statistics_output$peak_SWE_this_year_DAY)"
   ]
  },
  {
   "cell_type": "markdown",
   "metadata": {},
   "source": [
    "### ----------------------------------------------------------\n",
    "###           statistics for peak SWE day DELTA day from mean\n",
    "### ----------------------------------------------------------"
   ]
  },
  {
   "cell_type": "code",
   "execution_count": 127,
   "metadata": {},
   "outputs": [
    {
     "name": "stdout",
     "output_type": "stream",
     "text": [
      "[1] \"-----Maximum -----:\"\n"
     ]
    },
    {
     "data": {
      "text/html": [
       "14.52"
      ],
      "text/latex": [
       "14.52"
      ],
      "text/markdown": [
       "14.52"
      ],
      "text/plain": [
       "[1] 14.52"
      ]
     },
     "metadata": {},
     "output_type": "display_data"
    },
    {
     "name": "stdout",
     "output_type": "stream",
     "text": [
      "[1] \"-----Mean -----:\"\n"
     ]
    },
    {
     "data": {
      "text/html": [
       "-1"
      ],
      "text/latex": [
       "-1"
      ],
      "text/markdown": [
       "-1"
      ],
      "text/plain": [
       "[1] -1"
      ]
     },
     "metadata": {},
     "output_type": "display_data"
    },
    {
     "name": "stdout",
     "output_type": "stream",
     "text": [
      "[1] \"-----Minimum -----:\"\n"
     ]
    },
    {
     "data": {
      "text/html": [
       "-12.08"
      ],
      "text/latex": [
       "-12.08"
      ],
      "text/markdown": [
       "-12.08"
      ],
      "text/plain": [
       "[1] -12.08"
      ]
     },
     "metadata": {},
     "output_type": "display_data"
    }
   ],
   "source": [
    "print('-----Maximum -----:')\n",
    "max(snow_statistics_output$peak_SWE_this_year_DAYS_from_mean)\n",
    "print('-----Mean -----:')\n",
    "round( mean(snow_statistics_output$peak_SWE_this_year_DAYS_from_mean), 1)\n",
    "print('-----Minimum -----:')\n",
    "min(snow_statistics_output$peak_SWE_this_year_DAYS_from_mean)"
   ]
  },
  {
   "cell_type": "markdown",
   "metadata": {},
   "source": [
    "### ----------------------------------------------------------\n",
    "###           statistics for snow disappearance day\n",
    "### ----------------------------------------------------------"
   ]
  },
  {
   "cell_type": "code",
   "execution_count": 129,
   "metadata": {},
   "outputs": [
    {
     "name": "stdout",
     "output_type": "stream",
     "text": [
      "[1] \"-----Maximum -----:\"\n"
     ]
    },
    {
     "data": {
      "text/html": [
       "161"
      ],
      "text/latex": [
       "161"
      ],
      "text/markdown": [
       "161"
      ],
      "text/plain": [
       "[1] 161"
      ]
     },
     "metadata": {},
     "output_type": "display_data"
    },
    {
     "name": "stdout",
     "output_type": "stream",
     "text": [
      "[1] \"-----Mean -----:\"\n"
     ]
    },
    {
     "data": {
      "text/html": [
       "134.4"
      ],
      "text/latex": [
       "134.4"
      ],
      "text/markdown": [
       "134.4"
      ],
      "text/plain": [
       "[1] 134.4"
      ]
     },
     "metadata": {},
     "output_type": "display_data"
    },
    {
     "name": "stdout",
     "output_type": "stream",
     "text": [
      "[1] \"-----Minimum -----:\"\n"
     ]
    },
    {
     "data": {
      "text/html": [
       "110"
      ],
      "text/latex": [
       "110"
      ],
      "text/markdown": [
       "110"
      ],
      "text/plain": [
       "[1] 110"
      ]
     },
     "metadata": {},
     "output_type": "display_data"
    }
   ],
   "source": [
    "print('-----Maximum -----:')\n",
    "max(snow_statistics_output$snow_disappearance_day_this_year)\n",
    "print('-----Mean -----:')\n",
    "round( mean(snow_statistics_output$snow_disappearance_day_this_year), 1)\n",
    "print('-----Minimum -----:')\n",
    "min(snow_statistics_output$snow_disappearance_day_this_year)"
   ]
  },
  {
   "cell_type": "markdown",
   "metadata": {},
   "source": [
    "### ----------------------------------------------------------\n",
    "###           statistics for snow disappearance day DELTA from mean\n",
    "### ----------------------------------------------------------"
   ]
  },
  {
   "cell_type": "code",
   "execution_count": 130,
   "metadata": {},
   "outputs": [
    {
     "name": "stdout",
     "output_type": "stream",
     "text": [
      "[1] \"-----Maximum -----:\"\n"
     ]
    },
    {
     "data": {
      "text/html": [
       "-0.71"
      ],
      "text/latex": [
       "-0.71"
      ],
      "text/markdown": [
       "-0.71"
      ],
      "text/plain": [
       "[1] -0.71"
      ]
     },
     "metadata": {},
     "output_type": "display_data"
    },
    {
     "name": "stdout",
     "output_type": "stream",
     "text": [
      "[1] \"-----Mean -----:\"\n"
     ]
    },
    {
     "data": {
      "text/html": [
       "-11.8"
      ],
      "text/latex": [
       "-11.8"
      ],
      "text/markdown": [
       "-11.8"
      ],
      "text/plain": [
       "[1] -11.8"
      ]
     },
     "metadata": {},
     "output_type": "display_data"
    },
    {
     "name": "stdout",
     "output_type": "stream",
     "text": [
      "[1] \"-----Minimum -----:\"\n"
     ]
    },
    {
     "data": {
      "text/html": [
       "-18.59"
      ],
      "text/latex": [
       "-18.59"
      ],
      "text/markdown": [
       "-18.59"
      ],
      "text/plain": [
       "[1] -18.59"
      ]
     },
     "metadata": {},
     "output_type": "display_data"
    }
   ],
   "source": [
    "print('-----Maximum -----:')\n",
    "max(snow_statistics_output$snow_disappearance_DAY_from_mean)\n",
    "print('-----Mean -----:')\n",
    "round( mean(snow_statistics_output$snow_disappearance_DAY_from_mean),   1)\n",
    "print('-----Minimum -----:')\n",
    "min(snow_statistics_output$snow_disappearance_DAY_from_mean)"
   ]
  },
  {
   "cell_type": "markdown",
   "metadata": {},
   "source": [
    "# ---------------------------------------------------------------------------\n",
    "#     Calculate Precipitation and Temperature Statistics\n",
    "# ---------------------------------------------------------------------------"
   ]
  },
  {
   "cell_type": "code",
   "execution_count": null,
   "metadata": {},
   "outputs": [],
   "source": []
  },
  {
   "cell_type": "code",
   "execution_count": null,
   "metadata": {},
   "outputs": [],
   "source": []
  },
  {
   "cell_type": "code",
   "execution_count": null,
   "metadata": {},
   "outputs": [],
   "source": []
  },
  {
   "cell_type": "code",
   "execution_count": null,
   "metadata": {},
   "outputs": [],
   "source": []
  },
  {
   "cell_type": "markdown",
   "metadata": {},
   "source": [
    "# -------------------------------------------------------------------------------------\n",
    "#         Plot in panels\n",
    "# -------------------------------------------------------------------------------------"
   ]
  },
  {
   "cell_type": "code",
   "execution_count": 114,
   "metadata": {},
   "outputs": [
    {
     "data": {
      "text/html": [
       "0.824468085106383"
      ],
      "text/latex": [
       "0.824468085106383"
      ],
      "text/markdown": [
       "0.824468085106383"
      ],
      "text/plain": [
       "[1] 0.8244681"
      ]
     },
     "metadata": {},
     "output_type": "display_data"
    }
   ],
   "source": [
    "155/188"
   ]
  },
  {
   "cell_type": "code",
   "execution_count": null,
   "metadata": {},
   "outputs": [],
   "source": [
    "library('repr')"
   ]
  },
  {
   "cell_type": "code",
   "execution_count": 131,
   "metadata": {},
   "outputs": [
    {
     "name": "stdout",
     "output_type": "stream",
     "text": [
      "[1] 1\n",
      "[1] \"728\"\n",
      "[1] 2\n",
      "[1] \"644\"\n",
      "[1] 3\n",
      "[1] \"711\"\n",
      "[1] 4\n",
      "[1] \"515\"\n",
      "[1] 5\n",
      "[1] \"699\"\n",
      "[1] 6\n",
      "[1] \"791\"\n",
      "[1] 7\n",
      "[1] \"841\"\n"
     ]
    },
    {
     "data": {
      "text/html": [
       "<strong>png:</strong> 2"
      ],
      "text/latex": [
       "\\textbf{png:} 2"
      ],
      "text/markdown": [
       "**png:** 2"
      ],
      "text/plain": [
       "png \n",
       "  2 "
      ]
     },
     "metadata": {},
     "output_type": "display_data"
    }
   ],
   "source": [
    "\n",
    "\n",
    "\n",
    "# options(repr.plot.width=2, repr.plot.height=4)\n",
    "\n",
    "# Opening the graphical device\n",
    "pdf(path_output, width = 7, height = 9)\n",
    "\n",
    "\n",
    "par(mfrow=c(5, 2), oma=c(0.5, 0.8, 0, 0.8), mar=c(3.5, 5, 3, 0.5),  xpd=FALSE)\n",
    "\n",
    "for(i in 1:nrow(sites_to_plot)){\n",
    "\n",
    "    \n",
    "    # ------------------------------------------------------------\n",
    "    #        put blank plot in Entiat (since only one)\n",
    "    # ------------------------------------------------------------\n",
    "\n",
    "    if( i == 1){\n",
    "        plot.new()\n",
    "        par(xpd=TRUE)\n",
    "        plot.new()\n",
    "        legend(\"bottomright\", inset=c(0,-0.2), legend=c(\"median snowpack\", paste(\"snowpack in\", year_to_plot, sep=\" \") ), \n",
    "        lty=c(1, 2), title=\"Legend\", col=c(\"black\",\"blue\"), lwd=c(2, 2.5), seg.len = 5, cex=1.4)\n",
    "        \n",
    "    }\n",
    "    par(xpd=FALSE)\n",
    "    \n",
    "    # ------------------------------------------------------------\n",
    "    #          Prepare the Data\n",
    "    # ------------------------------------------------------------\n",
    "    print(i)\n",
    "    print(sites_to_plot$site_number[i])\n",
    "    # ------------------------ generate the median snotel -------------------\n",
    "    snow_data_x = as.numeric(as.character(all_snotel_data[[as.numeric(sites_to_plot$site_number[i])]]$'snow_water_equivalent_inches' ))\n",
    "    date_vector = all_snotel_data[[as.numeric(sites_to_plot$site_number[i])]]$'datetime'\n",
    "    \n",
    "    # ------------------------ generate the median snotel -------------------\n",
    "    median_snow_data_x = snotel_generate_median_snow_function(snow_data_x, date_vector, year_to_plot)\n",
    "    \n",
    "    # ------------------------------------------------------------\n",
    "    #         Plot the Data\n",
    "    # ------------------------------------------------------------\n",
    "    max_ylim = max(median_snow_data_x$metric, na.rm=T) \n",
    "    max_ylim = max_ylim + max_ylim*0.2\n",
    "    \n",
    "    xlim_min = as.Date(paste('11-01-',year_to_plot-1, sep=\"\"), format = '%m-%d-%Y')\n",
    "    xlim_max = as.Date(paste('06-15-',year_to_plot, sep=\"\"), format = '%m-%d-%Y')\n",
    "\n",
    "    plot(median_snow_data_x$day_of_hydro_year, median_snow_data_x$metric, type='l', col='black', lwd=2,\n",
    "        xlab=' ',ylab='snow water equivalent \\n (inches)', ylim=c(0,max_ylim ), \n",
    "        xlim=c(min(median_snow_data_x$day_of_hydro_year) + 30*86400, max(median_snow_data_x$day_of_hydro_year) - 110*86400) )\n",
    "    grid(lwd=1.5)\n",
    "    lines(median_snow_data_x$day_of_hydro_year, median_snow_data_x$metric, col='black',lwd=2)\n",
    "    \n",
    "    mtext(sites_to_plot$site_name[i], side=3, line=0.3, font=2, cex=0.95)\n",
    "    \n",
    "    lines(date_vector, snow_data_x, lwd=2.5, col='blue', lty=2)\n",
    "\n",
    "    # ------------------------------------------------------------\n",
    "    #      Insert title\n",
    "    # ------------------------------------------------------------\n",
    "    \n",
    "    if(i == 1){\n",
    "        \n",
    "        year_span = paste(year_to_plot-1,year_to_plot,sep=\" - June \")\n",
    "        mtext( paste(\"                          Snow Water Equivalent in Upper Columbia \\n from Nov \",year_span, sep=\"\") , side=3, line=9, cex=1.7, font=4)\n",
    "        \n",
    "    }\n",
    "    \n",
    "    # ------------------------------------------------------------\n",
    "    #      Insert legend\n",
    "    # ------------------------------------------------------------\n",
    "    \n",
    "    \n",
    "    if(i ==2){\n",
    "        \n",
    "        #legend(\"topright\", inset=c(0,-0.3), legend=c(\"median snowpack\", paste(\"snowpack in\", year_to_plot, sep=\" \") ), \n",
    "        #       lty=c(1, 2), title=\"Legend\", col=c(\"black\",\"blue\"), lwd=c(2, 2.5))\n",
    "        \n",
    "    }\n",
    "    \n",
    "    # ------------------------------------------------------------\n",
    "    #      Add Watershed Name\n",
    "    # ------------------------------------------------------------\n",
    "    \n",
    "    if(i == 1){\n",
    "        # mtext('                                                 Okanogan', side=3, line=1.5, font=2, cex=1.6)\n",
    "        mtext('                                              - - - - - - Okanogan - - - - - - ', side=3, line=1.5, font=2, cex=1.6)\n",
    "\n",
    "    }else if(i == 3){\n",
    "        #mtext('                                                 Methow', side=3, line=1.5, font=2, cex=1.6)\n",
    "        mtext('                                              - - - - - - Methow - - - - - - ', side=3, line=1.5, font=2, cex=1.6)\n",
    "    }else if(i == 5){\n",
    "        #mtext('                                                 Entiat', side=3, line=1.5, font=2, cex=1.6)\n",
    "        mtext('                                              - - - - - - Entiat - - - - - - ', side=3, line=1.5, font=2, cex=1.6)\n",
    "\n",
    "    }else if(i == 6){\n",
    "        #mtext('                                                 Wenatchee', side=3, line=1.5, font=2, cex=1.6)\n",
    "        mtext('                                             - - - - - - Wenatchee - - - - - - ', side=3, line=1.5, font=2, cex=1.6)\n",
    "    }\n",
    "        \n",
    "    # ------------------------------------------------------------\n",
    "    #        put blank plot in Entiat (since only one)\n",
    "    # ------------------------------------------------------------\n",
    "\n",
    "    if( sites_to_plot$site_number[i]== \"699\"){\n",
    "        plot.new()\n",
    "    }\n",
    "    \n",
    "}\n",
    "\n",
    "\n",
    "\n",
    "\n",
    "# Closing the graphical device\n",
    "dev.off() \n"
   ]
  },
  {
   "cell_type": "code",
   "execution_count": 132,
   "metadata": {},
   "outputs": [
    {
     "name": "stdout",
     "output_type": "stream",
     "text": [
      "[1] 1\n",
      "[1] \"728\"\n",
      "[1] 2\n",
      "[1] \"644\"\n",
      "[1] 3\n",
      "[1] \"711\"\n",
      "[1] 4\n",
      "[1] \"515\"\n",
      "[1] 5\n",
      "[1] \"699\"\n",
      "[1] 6\n",
      "[1] \"791\"\n",
      "[1] 7\n",
      "[1] \"841\"\n"
     ]
    },
    {
     "data": {
      "image/png": "[encoded data removed]",
      "text/plain": [
       "plot without title"
      ]
     },
     "metadata": {
      "image/png": {
       "height": 420,
       "width": 420
      }
     },
     "output_type": "display_data"
    }
   ],
   "source": [
    " \n",
    "# ------------------------------------------------------------\n",
    "#        (SAME as above - just to print out the plot)\n",
    "# ------------------------------------------------------------\n",
    "\n",
    "\n",
    "# options(repr.plot.width=2, repr.plot.height=4)\n",
    "\n",
    "# Opening the graphical device\n",
    "#pdf(path_output, width = 7, height = 9)\n",
    "\n",
    "par(mfrow=c(5, 2), oma=c(0.5, 0.8, 0, 0.8), mar=c(3.5, 5, 3, 0.5),  xpd=FALSE)\n",
    "\n",
    "for(i in 1:nrow(sites_to_plot)){\n",
    "\n",
    "    \n",
    "    # ------------------------------------------------------------\n",
    "    #        put blank plot in Entiat (since only one)\n",
    "    # ------------------------------------------------------------\n",
    "\n",
    "    if( i == 1){\n",
    "        plot.new()\n",
    "        par(xpd=TRUE)\n",
    "        plot.new()\n",
    "        legend(\"bottomright\", inset=c(0,-0.2), legend=c(\"median snowpack\", paste(\"snowpack in\", year_to_plot, sep=\" \") ), \n",
    "        lty=c(1, 2), title=\"Legend\", col=c(\"black\",\"blue\"), lwd=c(2, 2.5), seg.len = 5, cex=1.4)\n",
    "        \n",
    "    }\n",
    "    par(xpd=FALSE)\n",
    "    \n",
    "    # ------------------------------------------------------------\n",
    "    #          Prepare the Data\n",
    "    # ------------------------------------------------------------\n",
    "    print(i)\n",
    "    print(sites_to_plot$site_number[i])\n",
    "    # ------------------------ generate the median snotel -------------------\n",
    "    snow_data_x = as.numeric(as.character(all_snotel_data[[as.numeric(sites_to_plot$site_number[i])]]$'snow_water_equivalent_inches' ))\n",
    "    date_vector = all_snotel_data[[as.numeric(sites_to_plot$site_number[i])]]$'datetime'\n",
    "    \n",
    "    # ------------------------ generate the median snotel -------------------\n",
    "    median_snow_data_x = snotel_generate_median_snow_function(snow_data_x, date_vector, year_to_plot)\n",
    "    \n",
    "    # ------------------------------------------------------------\n",
    "    #         Plot the Data\n",
    "    # ------------------------------------------------------------\n",
    "    max_ylim = max(median_snow_data_x$metric, na.rm=T) \n",
    "    max_ylim = max_ylim + max_ylim*0.2\n",
    "    \n",
    "    xlim_min = as.Date(paste('11-01-',year_to_plot-1, sep=\"\"), format = '%m-%d-%Y')\n",
    "    xlim_max = as.Date(paste('06-15-',year_to_plot, sep=\"\"), format = '%m-%d-%Y')\n",
    "\n",
    "    plot(median_snow_data_x$day_of_hydro_year, median_snow_data_x$metric, type='l', col='black', lwd=2,\n",
    "        xlab=' ',ylab='snow water equivalent \\n (inches)', ylim=c(0,max_ylim ), \n",
    "        xlim=c(min(median_snow_data_x$day_of_hydro_year) + 30*86400, max(median_snow_data_x$day_of_hydro_year) - 110*86400) )\n",
    "    grid(lwd=1.5)\n",
    "    lines(median_snow_data_x$day_of_hydro_year, median_snow_data_x$metric, col='black',lwd=2)\n",
    "    \n",
    "    mtext(sites_to_plot$site_name[i], side=3, line=0.3, font=2, cex=0.95)\n",
    "    \n",
    "    lines(date_vector, snow_data_x, lwd=2.5, col='blue', lty=2)\n",
    "\n",
    "    # ------------------------------------------------------------\n",
    "    #      Insert title\n",
    "    # ------------------------------------------------------------\n",
    "    \n",
    "    if(i == 1){\n",
    "        \n",
    "        year_span = paste(year_to_plot-1,year_to_plot,sep=\" - June \")\n",
    "        mtext(paste(\"                          Snow Water Equivalent in Upper Columbia \\n from Nov \",year_span, sep=\"\"), side=3, line=7, cex=1.7, font=4)\n",
    "        \n",
    "    }\n",
    "    \n",
    "    # ------------------------------------------------------------\n",
    "    #      Insert legend\n",
    "    # ------------------------------------------------------------\n",
    "    \n",
    "    \n",
    "    if(i ==2){\n",
    "        \n",
    "        #legend(\"topright\", inset=c(0,-0.3), legend=c(\"median snowpack\", paste(\"snowpack in\", year_to_plot, sep=\" \") ), \n",
    "        #       lty=c(1, 2), title=\"Legend\", col=c(\"black\",\"blue\"), lwd=c(2, 2.5))\n",
    "        \n",
    "    }\n",
    "    \n",
    "    # ------------------------------------------------------------\n",
    "    #      Add Watershed Name\n",
    "    # ------------------------------------------------------------\n",
    "    \n",
    "    if(i == 1){\n",
    "        mtext('                                                      Okanogan', side=3, line=1.5, font=2, cex=1.6)\n",
    "    }else if(i == 3){\n",
    "        mtext('                                                      Methow', side=3, line=1.5, font=2, cex=1.6)\n",
    "    }else if(i == 5){\n",
    "        mtext('                                                      Entiat', side=3, line=1.5, font=2, cex=1.6)\n",
    "    }else if(i == 6){\n",
    "        mtext('                                                      Wenatchee', side=3, line=1.5, font=2, cex=1.6)\n",
    "    }\n",
    "        \n",
    "    # ------------------------------------------------------------\n",
    "    #        put blank plot in Entiat (since only one)\n",
    "    # ------------------------------------------------------------\n",
    "\n",
    "    if( sites_to_plot$site_number[i]== \"699\"){\n",
    "        plot.new()\n",
    "    }\n",
    "    \n",
    "}\n",
    "\n",
    "\n",
    "# Closing the graphical device\n",
    "#dev.off() \n"
   ]
  }
 ],
 "metadata": {
  "kernelspec": {
   "display_name": "R",
   "language": "R",
   "name": "ir"
  },
  "language_info": {
   "codemirror_mode": "r",
   "file_extension": ".r",
   "mimetype": "text/x-r-source",
   "name": "R",
   "pygments_lexer": "r",
   "version": "4.0.2"
  }
 },
 "nbformat": 4,
 "nbformat_minor": 4
}
