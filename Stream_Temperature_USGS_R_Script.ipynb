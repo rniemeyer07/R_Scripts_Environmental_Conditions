{
 "cells": [
  {
   "cell_type": "markdown",
   "metadata": {},
   "source": [
    "# ---------------------------------------------------------------------------------------------------------------\n",
    "#\n",
    "#         R Script to Download and Graph USGS Stream Temperature data from the Upper Columbia\n",
    "#            Author: Ryan Niemeyer, Watershed Program Manager at the Upper Columbia Salmon Recovery Board\n",
    "#            Date: Fall 2020\n",
    "#\n",
    "# ---------------------------------------------------------------------------------------------------------------"
   ]
  },
  {
   "cell_type": "code",
   "execution_count": 4,
   "metadata": {},
   "outputs": [],
   "source": [
    "# ------------------ Year to Plot ------------------\n",
    "year_to_plot = 2019\n",
    "# --------------- Pathway to Output Figure --------------\n",
    "path_output = 'Y:/Ryan/Misc/Annual_Report/2019/usgs_stream_temperature_graph.pdf'"
   ]
  },
  {
   "cell_type": "code",
   "execution_count": 5,
   "metadata": {},
   "outputs": [],
   "source": [
    "library(data.table)"
   ]
  },
  {
   "cell_type": "code",
   "execution_count": 308,
   "metadata": {},
   "outputs": [],
   "source": [
    "USGS_site = 'Y:/Science/DATA/USGS/Upper_Columbia_USGS_stream_temperature_sites_to_analyze.csv'\n",
    "USGS_sites = read.csv(USGS_site, header=T)"
   ]
  },
  {
   "cell_type": "code",
   "execution_count": 309,
   "metadata": {},
   "outputs": [
    {
     "data": {
      "text/html": [
       "<table>\n",
       "<caption>A data.frame: 5 × 4</caption>\n",
       "<thead>\n",
       "\t<tr><th scope=col>USGS_site_no</th><th scope=col>Site_name</th><th scope=col>City</th><th scope=col>subbasin</th></tr>\n",
       "\t<tr><th scope=col>&lt;int&gt;</th><th scope=col>&lt;chr&gt;</th><th scope=col>&lt;chr&gt;</th><th scope=col>&lt;chr&gt;</th></tr>\n",
       "</thead>\n",
       "<tbody>\n",
       "\t<tr><td>12442500</td><td>SIMILKAMEEN RIVER NEAR NIGHTHAWK, WA</td><td>Nighthawk</td><td>Okanogan </td></tr>\n",
       "\t<tr><td>12447200</td><td>OKANOGAN RIVER AT MALOTT, WA        </td><td>Malott   </td><td>Okanogan </td></tr>\n",
       "\t<tr><td>12447390</td><td>ANDREWS CREEK NEAR MAZAMA, WA       </td><td>Mazama   </td><td>Methow   </td></tr>\n",
       "\t<tr><td>12450480</td><td>METHOW RIVER NEAR PATEROS, WA       </td><td>Pateros  </td><td>Methow   </td></tr>\n",
       "\t<tr><td>12462500</td><td>WENATCHEE RIVER AT MONITOR, WA      </td><td>Monitor  </td><td>Wenatchee</td></tr>\n",
       "</tbody>\n",
       "</table>\n"
      ],
      "text/latex": [
       "A data.frame: 5 × 4\n",
       "\\begin{tabular}{llll}\n",
       " USGS\\_site\\_no & Site\\_name & City & subbasin\\\\\n",
       " <int> & <chr> & <chr> & <chr>\\\\\n",
       "\\hline\n",
       "\t 12442500 & SIMILKAMEEN RIVER NEAR NIGHTHAWK, WA & Nighthawk & Okanogan \\\\\n",
       "\t 12447200 & OKANOGAN RIVER AT MALOTT, WA         & Malott    & Okanogan \\\\\n",
       "\t 12447390 & ANDREWS CREEK NEAR MAZAMA, WA        & Mazama    & Methow   \\\\\n",
       "\t 12450480 & METHOW RIVER NEAR PATEROS, WA        & Pateros   & Methow   \\\\\n",
       "\t 12462500 & WENATCHEE RIVER AT MONITOR, WA       & Monitor   & Wenatchee\\\\\n",
       "\\end{tabular}\n"
      ],
      "text/markdown": [
       "\n",
       "A data.frame: 5 × 4\n",
       "\n",
       "| USGS_site_no &lt;int&gt; | Site_name &lt;chr&gt; | City &lt;chr&gt; | subbasin &lt;chr&gt; |\n",
       "|---|---|---|---|\n",
       "| 12442500 | SIMILKAMEEN RIVER NEAR NIGHTHAWK, WA | Nighthawk | Okanogan  |\n",
       "| 12447200 | OKANOGAN RIVER AT MALOTT, WA         | Malott    | Okanogan  |\n",
       "| 12447390 | ANDREWS CREEK NEAR MAZAMA, WA        | Mazama    | Methow    |\n",
       "| 12450480 | METHOW RIVER NEAR PATEROS, WA        | Pateros   | Methow    |\n",
       "| 12462500 | WENATCHEE RIVER AT MONITOR, WA       | Monitor   | Wenatchee |\n",
       "\n"
      ],
      "text/plain": [
       "  USGS_site_no Site_name                            City      subbasin \n",
       "1 12442500     SIMILKAMEEN RIVER NEAR NIGHTHAWK, WA Nighthawk Okanogan \n",
       "2 12447200     OKANOGAN RIVER AT MALOTT, WA         Malott    Okanogan \n",
       "3 12447390     ANDREWS CREEK NEAR MAZAMA, WA        Mazama    Methow   \n",
       "4 12450480     METHOW RIVER NEAR PATEROS, WA        Pateros   Methow   \n",
       "5 12462500     WENATCHEE RIVER AT MONITOR, WA       Monitor   Wenatchee"
      ]
     },
     "metadata": {},
     "output_type": "display_data"
    }
   ],
   "source": [
    "USGS_sites"
   ]
  },
  {
   "cell_type": "code",
   "execution_count": null,
   "metadata": {},
   "outputs": [],
   "source": []
  },
  {
   "cell_type": "code",
   "execution_count": null,
   "metadata": {},
   "outputs": [],
   "source": []
  },
  {
   "cell_type": "code",
   "execution_count": 8,
   "metadata": {},
   "outputs": [],
   "source": [
    "\n",
    "# ---------------- water year function ----------\n",
    "wtr_yr <- function(dates, start_month=10) {\n",
    "  # Convert dates into POSIXlt\n",
    "  dates.posix = as.POSIXlt(dates)\n",
    "  # Year offset\n",
    "  offset = ifelse(dates.posix$mon >= start_month - 1, 1, 0)\n",
    "  # Water year\n",
    "  adj.year = dates.posix$year + 1900 + offset\n",
    "  # Return the water year\n",
    "  adj.year\n",
    "}"
   ]
  },
  {
   "cell_type": "code",
   "execution_count": 300,
   "metadata": {},
   "outputs": [],
   "source": [
    "deg_C_to_deg_F = function(temp_x){\n",
    "    \n",
    "    temp_x = (temp_x * 1.8) + 32\n",
    "    return(temp_x)\n",
    "    \n",
    "}"
   ]
  },
  {
   "cell_type": "code",
   "execution_count": 30,
   "metadata": {},
   "outputs": [],
   "source": [
    "movingAverage <- function(x, n=1, centered=FALSE) {\n",
    "    \n",
    "    if (centered) {\n",
    "        before <- floor  ((n-1)/2)\n",
    "        after  <- ceiling((n-1)/2)\n",
    "    } else {\n",
    "        before <- n-1\n",
    "        after  <- 0\n",
    "    }\n",
    "\n",
    "    # Track the sum and count of number of non-NA items\n",
    "    s     <- rep(0, length(x))\n",
    "    count <- rep(0, length(x))\n",
    "    \n",
    "    # Add the centered data \n",
    "    new <- x\n",
    "    # Add to count list wherever there isn't a \n",
    "    count <- count + !is.na(new)\n",
    "    # Now replace NA_s with 0_s and add to total\n",
    "    new[is.na(new)] <- 0\n",
    "    s <- s + new\n",
    "    \n",
    "    # Add the data from before\n",
    "    i <- 1\n",
    "    while (i <= before) {\n",
    "        # This is the vector with offset values to add\n",
    "        new   <- c(rep(NA, i), x[1:(length(x)-i)])\n",
    "\n",
    "        count <- count + !is.na(new)\n",
    "        new[is.na(new)] <- 0\n",
    "        s <- s + new\n",
    "        \n",
    "        i <- i+1\n",
    "    }\n",
    "\n",
    "    # Add the data from after\n",
    "    i <- 1\n",
    "    while (i <= after) {\n",
    "        # This is the vector with offset values to add\n",
    "        new   <- c(x[(i+1):length(x)], rep(NA, i))\n",
    "       \n",
    "        count <- count + !is.na(new)\n",
    "        new[is.na(new)] <- 0\n",
    "        s <- s + new\n",
    "        \n",
    "        i <- i+1\n",
    "    }\n",
    "    \n",
    "    # return sum divided by count\n",
    "    s/count\n",
    "}\n"
   ]
  },
  {
   "cell_type": "code",
   "execution_count": 287,
   "metadata": {},
   "outputs": [],
   "source": [
    "\n",
    "# -------------------------- FUNCTION to calculate median flow ------------------------\n",
    "\n",
    "median_stream_temperature_function = function(metric_vector, date_vector, year_for_days){\n",
    "    \n",
    "    # --------------------- get day of year ---------------\n",
    "    day_of_year =  format(date_vector, format=\"%j\")\n",
    "    \n",
    "    # ----------------------- get median for that day of year -------------\n",
    "    data_x = as.data.frame(cbind(day_of_year, metric_vector))\n",
    "    data_x$metric_vector = as.numeric(data_x$metric_vector)\n",
    "    median_x = aggregate(data_x$metric_vector, list(data_x$day_of_year), FUN=median, na.rm=TRUE, na.action = NULL)\n",
    "    colnames(median_x) = c('day_of_year', 'metric')\n",
    "    \n",
    "    # -------------------- remove day 366 (from leap year) ------------\n",
    "    median_x = median_x[1:365,]\n",
    "    \n",
    "    # ------------- add day of hydrologic year --------------\n",
    "    median_x$day_of_hydro_year = median_x$day_of_year\n",
    "    \n",
    "    # ---------- days after Oct. 1 -------------\n",
    "    days_previous_calendar_year = which(median_x$day_of_year > 274)\n",
    "    median_x$day_of_hydro_year[days_previous_calendar_year] = paste(median_x$day_of_hydro_year[days_previous_calendar_year], year_for_days - 1, sep=\"-\")\n",
    "    \n",
    "    # ---------- days before Oct. 1 -------------\n",
    "    days_during_calendar_year = which(median_x$day_of_year <= 274)\n",
    "    median_x$day_of_hydro_year[days_during_calendar_year] = paste(median_x$day_of_hydro_year[days_during_calendar_year], year_for_days, sep=\"-\")\n",
    "    # --------------- get date time -------------\n",
    "    median_x$day_of_hydro_year =  as.POSIXct(median_x$day_of_hydro_year, format=\"%j-%Y\",tz=\"America/Los_Angeles\")\n",
    "    \n",
    "    # ----------------- return the data ------------------\n",
    "    return(median_x)\n",
    "    \n",
    "}\n"
   ]
  },
  {
   "cell_type": "code",
   "execution_count": 279,
   "metadata": {},
   "outputs": [
    {
     "name": "stdout",
     "output_type": "stream",
     "text": [
      "[1] 1\n",
      "[1] 12442500\n"
     ]
    },
    {
     "data": {
      "text/html": [
       "<style>\n",
       ".list-inline {list-style: none; margin:0; padding: 0}\n",
       ".list-inline>li {display: inline-block}\n",
       ".list-inline>li:not(:last-child)::after {content: \"\\00b7\"; padding: 0 .5ex}\n",
       "</style>\n",
       "<ol class=list-inline><li>'day_of_year'</li><li>'metric_vector'</li></ol>\n"
      ],
      "text/latex": [
       "\\begin{enumerate*}\n",
       "\\item 'day\\_of\\_year'\n",
       "\\item 'metric\\_vector'\n",
       "\\end{enumerate*}\n"
      ],
      "text/markdown": [
       "1. 'day_of_year'\n",
       "2. 'metric_vector'\n",
       "\n",
       "\n"
      ],
      "text/plain": [
       "[1] \"day_of_year\"   \"metric_vector\""
      ]
     },
     "metadata": {},
     "output_type": "display_data"
    }
   ],
   "source": [
    "print(i)\n",
    "print(USGS_sites$USGS_site_no[i])\n",
    "# ------------------------ generate the median snotel -------------------\n",
    "stream_temperature_data_x = as.numeric(as.character(all_USGS_data[[as.numeric(USGS_sites$USGS_site_no[i])]]$'stream_temperature_degC' ))\n",
    "date_vector = all_USGS_data[[as.numeric(USGS_sites$USGS_site_no[i])]]$'datetime2'\n",
    "#date_vector = as.POSIXct(date_vector, format=\"%Y-%m-%d\") #  convert to date time \n",
    "metric_vector = stream_temperature_data_x\n",
    "\n",
    "# --------------------- get day of year ---------------\n",
    "day_of_year =  format(date_vector, format=\"%j\")\n",
    "\n",
    "# ----------------------- get median for that day of year -------------\n",
    "data_x = as.data.frame(cbind(day_of_year, metric_vector))\n",
    "colnames(data_x)\n",
    "data_x$metric_vector = as.numeric(data_x$metric_vector)\n",
    "\n",
    "# ------------------------ generate the median snotel -------------------\n",
    "# median_stream_temperature_data_x = median_stream_temperature_function(stream_temperature_data_x, date_vector, year_to_plot)\n"
   ]
  },
  {
   "cell_type": "code",
   "execution_count": 275,
   "metadata": {},
   "outputs": [
    {
     "ename": "ERROR",
     "evalue": "Error in eval(expr, envir, enclos): object 'metric_vector' not found\n",
     "output_type": "error",
     "traceback": [
      "Error in eval(expr, envir, enclos): object 'metric_vector' not found\nTraceback:\n"
     ]
    }
   ],
   "source": [
    "length(metric_vector)"
   ]
  },
  {
   "cell_type": "code",
   "execution_count": 118,
   "metadata": {},
   "outputs": [],
   "source": [
    "\n",
    "# ---------------------------------------------------------------------------------------------------\n",
    "#          Download USGS data \n",
    "# ---------------------------------------------------------------------------------------------------\n",
    "\n",
    "FXN_download_stream_temperature = function(site_x, start_date_x, end_date_x, use_provisional, metric_to_plot){\n",
    "    \n",
    "    # ------ choose column to plot based on metric ----------\n",
    "    if(metric_to_plot == 'mean'){colx = 8}\n",
    "    if(metric_to_plot == 'max'){colx = 4}\n",
    "    if(metric_to_plot == 'min'){colx = 6}    \n",
    "    if(metric_to_plot == 'mean2'){colx = 14}\n",
    "    if(metric_to_plot == 'max2'){colx = 10}\n",
    "    if(metric_to_plot == 'min2'){colx = 12} \n",
    "    \n",
    "    # ------------ set up conversions ----------\n",
    "    #ft3_to_mm3 = 2.832e+7\n",
    "    sec_to_day = 86400\n",
    "    #mi2_to_ft2 = 27878400\n",
    "    #mi2_to_mm2 = 2589988110000\n",
    "\n",
    "    # --------- re-calculate area -------\n",
    "    #area_catchment_sq_ft = area_catchment_sq_miles * mi2_to_ft2  # convert square miles to square feet\n",
    "    #area_catchment_sq_mm = area_catchment_sq_miles * mi2_to_mm2  # convert square miles to square mm\n",
    "\n",
    "    # ---------- Update path ----------\n",
    "    path_origx = 'https://waterdata.usgs.gov/nwis/dv?cb_00010=on&format=rdb&site_no=SITE_NUMBER&referred_module=sw&period=&begin_date=START_DATE&end_date=END_DATE'\n",
    "    path_updated_x = gsub('SITE_NUMBER', site_x, path_origx)\n",
    "    path_updated_x = gsub('START_DATE', start_date_x, path_updated_x)\n",
    "    path_updated_x = gsub('END_DATE', end_date_x, path_updated_x)\n",
    "\n",
    "    # ------------ Download Data ----------\n",
    "    datax = fread(path_updated_x)\n",
    "    datax = as.data.frame(datax)\n",
    "    datax = datax[c(3:nrow(datax)),]  # remove the first two rows that aren't data\n",
    "\n",
    "    # ----- use provisional or not --------\n",
    "    if(use_provisional == TRUE){\n",
    "        datax2 = datax[,c(3,colx)]\n",
    "    }else{\n",
    "        x = which(datax[,colx+1]=='A')  # A is that means it's been processed, P means it is provisonal\n",
    "        datax2 = datax[x,c(3,colx)]\n",
    "    }\n",
    "\n",
    "    # ----- assign names and calculate with updated units -----------\n",
    "    colnames(datax2) = c('datetime','stream_temperature_degC') # set column mames\n",
    "    datax2$stream_temperature_degC = as.numeric(as.character(datax2$stream_temperature_degC))   # set as numeric\n",
    "    #datax2$discharge_mm_day =  datax2$discharge_ft3_sec*sec_to_day*ft3_to_mm3/area_catchment_sq_mm    # convert to mm per day flow\n",
    "\n",
    "    # ------- set date time ------\n",
    "    datax2$datetime2 = as.POSIXct(datax2$datetime, format = \"%Y-%m-%d\", tz='UTC')\n",
    "    datax2$wtr_yr = wtr_yr(datax2$datetime2, start_month = 10)\n",
    "\n",
    "    # ---------- output data --------------\n",
    "    print('dimensions of data:')\n",
    "    print(dim(datax2))\n",
    "    return(datax2)\n",
    "}"
   ]
  },
  {
   "cell_type": "code",
   "execution_count": 202,
   "metadata": {},
   "outputs": [],
   "source": [
    "\n",
    "# ------------------ FUNCTION to calculate temperature statistics ----------------------\n",
    "\n",
    "\n",
    "USGS_stream_temperature_statistics = function(stream_temperature_data_x, date_vector, year_to_plot){\n",
    "    \n",
    "    # ----------- water year -----------\n",
    "    date_data_wtr_yr = wtr_yr(date_vector)\n",
    "    \n",
    "    # -------- calendar year -------\n",
    "    date_data_calendar_yr = format(date_vector, '%Y')\n",
    "\n",
    "    # ---------------------------------------------------------------------------------\n",
    "    #        Annual peak_temperature statistics          \n",
    "    # ---------------------------------------------------------------------------------\n",
    "\n",
    "    # ----------------- calculate annual peak 7-day average temperature -----------------\n",
    "    seven_day_average  = movingAverage(stream_temperature_data_x, n=7)                   # calculate 7-day average temperature (ft3 per sec)\n",
    "    annual_max = aggregate(seven_day_average, list(date_data_wtr_yr), max, na.rm=TRUE)       # get max 7-day average temperature\n",
    "    annual_max_year = round( annual_max[which(annual_max[ ,1] == year_to_plot),2], 2)   # peak temperature for the \"year to plot\"\n",
    "    mean_annual_max = mean(annual_max[,2], na.rm=T)                   # mean peak temperature across all years\n",
    "    prcnt_annual_max_year = round((annual_max_year/mean_annual_max) * 100, 2)  # percent difference in year to plot from mean year\n",
    "    delta_annual_max_year = round((annual_max_year - mean_annual_max), 2)    # the absolute difference between year to plot and average\n",
    "    \n",
    "    # -------------- day of annual peak_temperature ---------------\n",
    "    day_of_annual_max = c()\n",
    "    unique_years = unique(date_data_wtr_yr)\n",
    "    for(i in 1:length(unique_years)){\n",
    "\n",
    "        # ----------------- get peak temperature day for this year -----------------\n",
    "        year_x = unique_years[i]\n",
    "        x = which(date_data_wtr_yr == unique_years[i])\n",
    "        \n",
    "        # -------------- only use years with at least 300 days -----\n",
    "        if(length(x) > 300){\n",
    "            # ----- get data for that year -----\n",
    "            annual_temperature = seven_day_average[x]\n",
    "            # -------------- calculate calendar day of peak -----------\n",
    "            day_of_peak = which(annual_temperature == annual_max[i,2])\n",
    "            day_of_peak = day_of_peak[1] - 92 # get calendary year day, from water year day\n",
    "            # ------------------ calculate month and day ---------\n",
    "            day_of_peak_2 = paste(day_of_peak,  year_x, sep=\"-\")\n",
    "            day_of_peak_2 = as.Date(day_of_peak_2, format='%j-%Y')\n",
    "            day_of_peak_2 = format(day_of_peak_2, \"%d-%b\") # output as day and month\n",
    "            # ------------- output data --------\n",
    "            output_row = c(unique_years[i], day_of_peak[1], day_of_peak_2[1])\n",
    "            day_of_annual_max = rbind(day_of_annual_max, output_row)\n",
    "        }\n",
    "    }\n",
    "    \n",
    "    # ------------------------- calculate for this year -----------\n",
    "    peak_temperature_day = as.numeric(day_of_annual_max[which(day_of_annual_max[ ,1] == year_to_plot),2])\n",
    "    mean_peak_temperature_ALL = round(  ( mean(as.numeric(day_of_annual_max[,2]), na.rm=T) ), 2)\n",
    "    delta_peak_temperature_day = round(peak_temperature_day - mean_peak_temperature_ALL, 2) # days difference from average\n",
    "    years_with_enough_data = nrow(day_of_annual_max) \n",
    "    \n",
    "    # ---------------------------------------------------------------------------------\n",
    "    #        Annual low temperature statistics          \n",
    "    # ---------------------------------------------------------------------------------\n",
    "\n",
    "    # ----------------- calculate annual peak snow statistics -----------------\n",
    "    annual_min = aggregate(seven_day_average, list(date_data_wtr_yr), min, na.rm=TRUE)   # get annual 7-day min each year (ft3 per sec)\n",
    "    annual_min_year = round( annual_min[which(annual_min[ ,1] == year_to_plot),2], 2)   # annual 7-day min for the year to plot\n",
    "    mean_annual_min = mean(annual_min[,2], na.rm=T)      # mean annual min 7-day temperature across all years\n",
    "    prcnt_annual_min_year = round((annual_min_year/mean_annual_min) * 100, 2)    # percent difference in year to plot from mean year\n",
    "    delta_annual_min_year = round((annual_min_year - mean_annual_min), 2)    # the absolute difference between year to plot and average\n",
    "    \n",
    "    # -------------- day of annual low temperature---------------\n",
    "    day_of_annual_min = c()\n",
    "    unique_years = unique(date_data_wtr_yr)\n",
    "    for(i in 1:length(unique_years)){\n",
    "\n",
    "        # ----------------- get low temperature day for this year -----------------\n",
    "        year_x = unique_years[i]\n",
    "        x = which(date_data_wtr_yr == unique_years[i])\n",
    "        \n",
    "        # -------------- only use years with at least 300 days -----\n",
    "        if(length(x) > 300){\n",
    "            # ----- get data for that year -----\n",
    "            annual_temperature = seven_day_average[x]\n",
    "            # -------------- calculate calendar day of low temperature -----------\n",
    "            day_of_low = which(annual_temperature == annual_min[i,2])\n",
    "            day_of_low = day_of_low[1] - 92 # get calendary year day, from water year day\n",
    "            # ------------------ calculate month and day ---------\n",
    "            day_of_low_2 = paste(day_of_low,  year_x, sep=\"-\")\n",
    "            day_of_low_2 = as.Date(day_of_low_2, format='%j-%Y')\n",
    "            day_of_low_2 = format(day_of_low_2, \"%d-%b\") # output as day and month\n",
    "            # ------------- output data --------\n",
    "            output_row = c(unique_years[i], day_of_low[1], day_of_low_2[1])\n",
    "            day_of_annual_min = rbind(day_of_annual_min, output_row)\n",
    "        }\n",
    "\n",
    "    }\n",
    "    \n",
    "    # ------------------------- calculate for this year -----------\n",
    "    low_temperature_day = as.numeric(day_of_annual_min[which(day_of_annual_min[ ,1] == year_to_plot),2])\n",
    "    mean_low_temperature_ALL = round(  ( mean(as.numeric(day_of_annual_min[,2]), na.rm=T) ), 2)\n",
    "    delta_low_temperature_day = round(low_temperature_day - mean_low_temperature_ALL, 2) # days difference from average\n",
    "    \n",
    "    # ---------------------------------------------------------------------------------\n",
    "    #           Calculate average annual stream temperature\n",
    "    # ---------------------------------------------------------------------------------\n",
    "\n",
    "    annual_average = aggregate(stream_temperature_data_x, list(date_data_wtr_yr), sum, na.rm=TRUE) # total flwo for all years (in mm)\n",
    "    annual_average_year = round( annual_average[which(annual_average[ ,1] == year_to_plot),2], 2)   # total annual temperature in year of interest\n",
    "    mean_annual_average = mean(annual_average[,2], na.rm=T)    # mean of total annual temperature\n",
    "    prcnt_annual_average_year = round((annual_average_year/mean_annual_average) * 100, 2)   #  percent departure from average/normal\n",
    "    delta_annual_average_year = round((annual_average_year - mean_annual_average), 2)   # absolute departure from normal/difference\n",
    "    \n",
    "    # ---------------------------------------------------------------------------------\n",
    "    #           Calculate monthly statistics (esp Aug and Sept)\n",
    "    # ---------------------------------------------------------------------------------\n",
    "\n",
    "    monthly_data = aggregate(stream_temperature_data_x, list(format(date_vector, '%m')), mean, na.rm=TRUE)\n",
    "    unique_years = unique(date_data_calendar_yr)\n",
    "    # -------------- day of annual low temperature---------------\n",
    "    monthly_temperature_df = c()\n",
    "    for(i in 1:length(unique_years)){\n",
    "\n",
    "        # ----------------- get data for this year -----------------\n",
    "        year_x = unique_years[i]\n",
    "        x = which(date_data_calendar_yr == unique_years[i])\n",
    "        \n",
    "        # -------------- only use years with at least 300 days -----\n",
    "        if(length(x) > 300){\n",
    "            annual_temperature = stream_temperature_data_x[x]\n",
    "\n",
    "            # -------------- calculate monthly means -----------\n",
    "            monthly_temperature_x_i = aggregate(annual_temperature, list(format(date_vector[x], '%m')), mean, na.rm=TRUE)\n",
    "            monthly_temperature_x = round(monthly_temperature_x_i[,2], 1)\n",
    "\n",
    "            # ------------- output data --------\n",
    "            if(nrow(monthly_temperature_x_i)<12){next}\n",
    "            output_row = c(unique_years[i], monthly_temperature_x)\n",
    "            monthly_temperature_df = rbind(monthly_temperature_df, output_row)\n",
    "        }\n",
    "    }\n",
    "    \n",
    "    # ------------------------- calculate means_for_each_month-----------\n",
    "    monthly_temperature_df = as.data.frame(monthly_temperature_df)\n",
    "    i = seq(1:13)\n",
    "    monthly_temperature_df[ , i] = apply(monthly_temperature_df[ , i], 2,function(x) as.numeric(as.character(x))) # convert all to numeric\n",
    "    monthly_temperature_df_MEANS = colMeans(monthly_temperature_df)  # calculate mmean onthly temperature\n",
    "\n",
    "    # ---------- get this month -----------\n",
    "    monthly_temperature_year_to_plot = monthly_temperature_df[which(monthly_temperature_df[,1] == year_to_plot),2:13] # monthly temperatures for year of interest\n",
    "    delta_monthly_temperature_year = round(monthly_temperature_year_to_plot - monthly_temperature_df_MEANS[2:13] , 2) # days difference from average\n",
    "    delta_monthly_temperature_year_PRCNT = round((monthly_temperature_year_to_plot/monthly_temperature_df_MEANS[2:13])*100, 2)\n",
    "                                  \n",
    "    # ---------------------------------------------------------------------------------\n",
    "    #      Output         \n",
    "    # ---------------------------------------------------------------------------------\n",
    "    output_x = as.data.frame(c(annual_max_year,   mean_annual_max,   prcnt_annual_max_year,   delta_annual_max_year,  # peak temperature statistics\n",
    "                                 peak_temperature_day,   mean_peak_temperature_ALL,   delta_peak_temperature_day,   years_with_enough_data,                         # peak temperature day statistics\n",
    "                                 annual_min_year,   mean_annual_min,    prcnt_annual_min_year,   delta_annual_min_year,  # low temperature statistics\n",
    "                                 low_temperature_day, mean_low_temperature_ALL, delta_low_temperature_day,                            # low temperature day statistics\n",
    "                                 annual_average_year,  mean_annual_average, prcnt_annual_average_year, delta_annual_average_year ,   # average annual temperature statistics\n",
    "                                 monthly_temperature_year_to_plot, monthly_temperature_df_MEANS[2:13],  delta_monthly_temperature_year_PRCNT, delta_monthly_temperature_year       # monthly temperatures (EACH vector has 12 for each month)\n",
    "                ))\n",
    "                        \n",
    "    rownames(output_x) = 1 # give the row a simple name\n",
    "    colnames(output_x) = c('peak_temperature_7day_avg_year_of_interest_deg_C',    'average_7day_avg_peak_temperature_deg_C',     'PRCNT_peak_temperature_year_of_interest_deg_C',     'DELTA_peak_temperature_year_of_interest_deg_C',  # peak temperature statistics\n",
    "                                 'peak_temperature_day_year_of_interest',      'average_peak_temperature_day_of_year',     'DELTA_peak_temperature_day_year_of_interest',    'years_with_sufficient_data_for_analysis',                        # peak temperature day statistics\n",
    "                                'low_temperature_7day_avg_year_of_interest_deg_C', 'average_7day_avg_low_temperature_deg_C', 'PRCNT_low_temperature_year_of_interest_deg_C', 'DELTA_low_temperature_year_of_interest_deg_C',  # low temperature statistics\n",
    "                                 'low_temperature_day_year_of_interest',  'average_low_temperature_day_of_year',  'DELTA_low_temperature_day_year_of_interest',                            # low temperature day statistics\n",
    "                                 'annual_total_temperature_year_of_interest_inches',  'mean_annual_total_temperature_inches', 'PRCNT_annual_total_temperature_year_of_interest_inches',   'DELTA_annual_total_temperature_year_of_interest_inches',    # total annual discharge statistics\n",
    "                                'Jan_mean_temperature_year_of_interest_deg_C', 'Feb_mean_temperature_year_of_interest_deg_C', 'Mar_mean_temperature_year_of_interest_deg_C', 'Apr_mean_temperature_year_of_interest_deg_C', \n",
    "                           'May_mean_temperature_year_of_interest_deg_C', 'Jun_mean_temperature_year_of_interest_deg_C', 'Jul_mean_temperature_year_of_interest_deg_C', 'Aug_mean_temperature_year_of_interest_deg_C', \n",
    "                           'Sep_mean_temperature_year_of_interest_deg_C', 'Oct_mean_temperature_year_of_interest_deg_C', 'Nov_mean_temperature_year_of_interest_deg_C', 'Dec_mean_temperature_year_of_interest_deg_C',\n",
    "                            'Jan_mean_temperature_all_years_deg_C', 'Feb_mean_temperature_all_years_deg_C', 'Mar_mean_temperature_all_years_deg_C', 'Apr_mean_temperature_all_years_deg_C', \n",
    "                           'May_mean_temperature_all_years_deg_C', 'Jun_mean_temperature_all_years_deg_C', 'Jul_mean_temperature_all_years_deg_C', 'Aug_mean_temperature_all_years_deg_C', \n",
    "                           'Sep_mean_temperature_all_years_deg_C', 'Oct_mean_temperature_all_years_deg_C', 'Nov_mean_temperature_all_years_deg_C', 'Dec_mean_temperature_all_years_deg_C',\n",
    "                           'Jan_mean_PRCNT_temperature_year_of_interest_deg_C', 'Feb_mean_PRCNT_temperature_year_of_interest_deg_C', 'Mar_mean_PRCNT_temperature_year_of_interest_deg_C', 'Apr_mean_PRCNT_temperature_year_of_interest_deg_C', \n",
    "                           'May_mean_PRCNT_temperature_year_of_interest_deg_C', 'Jun_mean_PRCNT_temperature_year_of_interest_deg_C', 'Jul_mean_PRCNT_temperature_year_of_interest_deg_C', 'Aug_mean_PRCNT_temperature_year_of_interest_deg_C', \n",
    "                           'Sep_mean_PRCNT_temperature_year_of_interest_deg_C', 'Oct_mean_PRCNT_temperature_year_of_interest_deg_C', 'Nov_mean_PRCNT_temperature_year_of_interest_deg_C', 'Dec_mean_PRCNT_temperature_year_of_interest_deg_C',\n",
    "                            'Jan_mean_DELTA_temperature_year_of_interest_deg_C', 'Feb_mean_DELTA_temperature_year_of_interest_deg_C', 'Mar_mean_DELTA_temperature_year_of_interest_deg_C', 'Apr_mean_DELTA_temperature_year_of_interest_deg_C', \n",
    "                           'May_mean_DELTA_temperature_year_of_interest_deg_C', 'Jun_mean_DELTA_temperature_year_of_interest_deg_C', 'Jul_mean_DELTA_temperature_year_of_interest_deg_C', 'Aug_mean_DELTA_temperature_year_of_interest_deg_C', \n",
    "                           'Sep_mean_DELTA_temperature_year_of_interest_deg_C', 'Oct_mean_DELTA_temperature_year_of_interest_deg_C', 'Nov_mean_DELTA_temperature_year_of_interest_deg_C', 'Dec_mean_DELTA_temperature_year_of_interest_deg_C'\n",
    "\n",
    "                               # monthly temperatures (EACH vector has 12 for each month)\n",
    "                                 )\n",
    "    \n",
    "    #print(output_x)\n",
    "    return(output_x)\n",
    "    \n",
    "}\n",
    "   \n"
   ]
  },
  {
   "cell_type": "code",
   "execution_count": 189,
   "metadata": {},
   "outputs": [],
   "source": [
    "stream_temperature_data_x = as.numeric(as.character(all_USGS_data[[12439500]]$'stream_temperature_degC' ))\n",
    "date_vector = all_USGS_data[[12439500]]$'datetime2'\n",
    "year_to_plot = 2019\n",
    "site_x = 12439500\n",
    "# ------------------------ generate the stream tempreature -------------------\n",
    "stream_temperature_data_x = as.numeric(as.character(all_USGS_data[[site_x]]$'stream_temperature_degC' ))\n",
    "date_vector = all_USGS_data[[site_x]]$'datetime2'\n",
    "\n",
    "# ----------- clip \"NAs\" at the beginning -------\n",
    "x =!is.na(stream_temperature_data_x)\n",
    "x = which(x == TRUE)\n",
    "first_not_na = min(x)\n",
    "include_x = seq(first_not_na, length(stream_temperature_data_x))\n",
    "stream_temperature_data_x = stream_temperature_data_x[include_x]\n",
    "date_vector = date_vector[include_x]"
   ]
  },
  {
   "cell_type": "code",
   "execution_count": 194,
   "metadata": {},
   "outputs": [],
   "source": [
    "# ----------- water year -----------\n",
    "date_data_wtr_yr = wtr_yr(date_vector)\n",
    "\n",
    "# -------- calendar year -------\n",
    "date_data_calendar_yr = format(date_vector, '%Y')\n",
    "\n",
    "# ---------------------------------------------------------------------------------\n",
    "#        Annual peak_temperature statistics          \n",
    "# ---------------------------------------------------------------------------------\n",
    "\n",
    "# ----------------- calculate annual peak 7-day average temperature -----------------\n",
    "seven_day_average  = movingAverage(stream_temperature_data_x, n=7)                   # calculate 7-day average temperature (ft3 per sec)\n",
    "annual_max = aggregate(seven_day_average, list(date_data_wtr_yr), max, na.rm=TRUE)       # get max 7-day average temperature\n",
    "annual_max_year = round( annual_max[which(annual_max[ ,1] == year_to_plot),2], 2)   # peak temperature for the \"year to plot\"\n",
    "mean_annual_max = mean(annual_max[,2], na.rm=T)                   # mean peak temperature across all years\n",
    "prcnt_annual_max_year = round((annual_max_year/mean_annual_max) * 100, 2)  # percent difference in year to plot from mean year\n",
    "delta_annual_max_year = round((annual_max_year - mean_annual_max), 2)    # the absolute difference between year to plot and average\n",
    "\n",
    "# -------------- day of annual peak_temperature ---------------\n",
    "day_of_annual_max = c()\n",
    "unique_years = unique(date_data_wtr_yr)\n",
    "\n",
    "for(i in 1:length(unique_years)){\n",
    "\n",
    "    # ----------------- get peak temperature for this year -----------------\n",
    "    year_x = unique_years[i]\n",
    "    x = which(date_data_wtr_yr == unique_years[i])\n",
    "    if(length(x) > 300){\n",
    "           # ----- get data for that year -----\n",
    "        annual_temperature = seven_day_average[x]\n",
    "        # -------------- calculate calendar day of peak -----------\n",
    "        day_of_peak = which(annual_temperature == annual_max[i,2])\n",
    "        day_of_peak = day_of_peak[1] - 92 # get calendary year day, from water year day\n",
    "        # ------------------ calculate month and day ---------\n",
    "        day_of_peak_2 = paste(day_of_peak,  year_x, sep=\"-\")\n",
    "        day_of_peak_2 = as.Date(day_of_peak_2, format='%j-%Y')\n",
    "        day_of_peak_2 = format(day_of_peak_2, \"%d-%b\") # output as day and month\n",
    "        # ------------- output data --------\n",
    "        output_row = c(unique_years[i], day_of_peak[1], day_of_peak_2[1])\n",
    "        day_of_annual_max = rbind(day_of_annual_max, output_row) \n",
    "    }\n",
    "\n",
    "}\n",
    "\n",
    "\n",
    "# ------------------------- calculate for this year -----------\n",
    "peak_temperature_day = as.numeric(day_of_annual_max[which(day_of_annual_max[ ,1] == year_to_plot),2])\n",
    "mean_peak_temperature_ALL = round(  ( mean(as.numeric(day_of_annual_max[,2]), na.rm=T) ), 2)\n",
    "delta_peak_temperature_day = round(peak_temperature_day - mean_peak_temperature_ALL, 2) # days difference from average\n"
   ]
  },
  {
   "cell_type": "code",
   "execution_count": 197,
   "metadata": {},
   "outputs": [
    {
     "data": {
      "text/html": [
       "4.23"
      ],
      "text/latex": [
       "4.23"
      ],
      "text/markdown": [
       "4.23"
      ],
      "text/plain": [
       "[1] 4.23"
      ]
     },
     "metadata": {},
     "output_type": "display_data"
    }
   ],
   "source": [
    "delta_peak_temperature_day"
   ]
  },
  {
   "cell_type": "code",
   "execution_count": 243,
   "metadata": {},
   "outputs": [
    {
     "data": {
      "text/html": [
       "32"
      ],
      "text/latex": [
       "32"
      ],
      "text/markdown": [
       "32"
      ],
      "text/plain": [
       "[1] 32"
      ]
     },
     "metadata": {},
     "output_type": "display_data"
    }
   ],
   "source": []
  },
  {
   "cell_type": "code",
   "execution_count": 54,
   "metadata": {},
   "outputs": [
    {
     "data": {
      "image/png": "[encoded data removed]",
      "text/plain": [
       "plot without title"
      ]
     },
     "metadata": {
      "image/png": {
       "height": 420,
       "width": 420
      }
     },
     "output_type": "display_data"
    }
   ],
   "source": [
    "plot(date_vector[11500:length(date_vector)], seven_day_average[11500:length(date_vector)])"
   ]
  },
  {
   "cell_type": "code",
   "execution_count": 68,
   "metadata": {},
   "outputs": [
    {
     "data": {
      "text/html": [
       "0"
      ],
      "text/latex": [
       "0"
      ],
      "text/markdown": [
       "0"
      ],
      "text/plain": [
       "[1] 0"
      ]
     },
     "metadata": {},
     "output_type": "display_data"
    }
   ],
   "source": [
    "length(stream_temperature_data_x)"
   ]
  },
  {
   "cell_type": "markdown",
   "metadata": {},
   "source": [
    "# ----------------------------------------------------------------------------------\n",
    "#         Read in Data\n",
    "# ----------------------------------------------------------------------------------"
   ]
  },
  {
   "cell_type": "code",
   "execution_count": 237,
   "metadata": {},
   "outputs": [
    {
     "name": "stdout",
     "output_type": "stream",
     "text": [
      "[1] \"starting download of....\"\n",
      "[1] 12442500\n"
     ]
    },
    {
     "name": "stderr",
     "output_type": "stream",
     "text": [
      "Warning message in fread(path_updated_x):\n",
      "\"Detected 1 column names but the data has 9 columns (i.e. invalid file). Added 8 extra default column names at the end.\"\n"
     ]
    },
    {
     "name": "stdout",
     "output_type": "stream",
     "text": [
      "[1] \"dimensions of data:\"\n",
      "[1] 2407    4\n",
      "[1] \"         DONE                 \"\n",
      "[1] \"       \"\n",
      "[1] \"starting download of....\"\n",
      "[1] 12447200\n"
     ]
    },
    {
     "name": "stderr",
     "output_type": "stream",
     "text": [
      "Warning message in fread(path_updated_x):\n",
      "\"Detected 1 column names but the data has 9 columns (i.e. invalid file). Added 8 extra default column names at the end.\"\n",
      "Warning message in FXN_download_stream_temperature(USGS_sites$USGS_site_no[i], year_start, :\n",
      "\"NAs introduced by coercion\"\n"
     ]
    },
    {
     "name": "stdout",
     "output_type": "stream",
     "text": [
      "[1] \"dimensions of data:\"\n",
      "[1] 5666    4\n",
      "[1] \"         DONE                 \"\n",
      "[1] \"       \"\n",
      "[1] \"starting download of....\"\n",
      "[1] 12447390\n"
     ]
    },
    {
     "name": "stderr",
     "output_type": "stream",
     "text": [
      "Warning message in fread(path_updated_x):\n",
      "\"Detected 1 column names but the data has 9 columns (i.e. invalid file). Added 8 extra default column names at the end.\"\n"
     ]
    },
    {
     "name": "stdout",
     "output_type": "stream",
     "text": [
      "[1] \"dimensions of data:\"\n",
      "[1] 3319    4\n",
      "[1] \"         DONE                 \"\n",
      "[1] \"       \"\n",
      "[1] \"starting download of....\"\n",
      "[1] 12450480\n"
     ]
    },
    {
     "name": "stderr",
     "output_type": "stream",
     "text": [
      "Warning message in fread(path_updated_x):\n",
      "\"Detected 1 column names but the data has 9 columns (i.e. invalid file). Added 8 extra default column names at the end.\"\n"
     ]
    },
    {
     "name": "stdout",
     "output_type": "stream",
     "text": [
      "[1] \"dimensions of data:\"\n",
      "[1] 2536    4\n",
      "[1] \"         DONE                 \"\n",
      "[1] \"       \"\n",
      "[1] \"starting download of....\"\n",
      "[1] 12462500\n"
     ]
    },
    {
     "name": "stderr",
     "output_type": "stream",
     "text": [
      "Warning message in fread(path_updated_x):\n",
      "\"Detected 1 column names but the data has 9 columns (i.e. invalid file). Added 8 extra default column names at the end.\"\n"
     ]
    },
    {
     "name": "stdout",
     "output_type": "stream",
     "text": [
      "[1] \"dimensions of data:\"\n",
      "[1] 1511    4\n",
      "[1] \"         DONE                 \"\n",
      "[1] \"       \"\n"
     ]
    }
   ],
   "source": [
    "all_USGS_data = list() # creates a list\n",
    "\n",
    "for(i in 1:nrow(USGS_sites)){\n",
    "    \n",
    "    year_start = '1980-01-01'\n",
    "    year_end = '2020-10-01'\n",
    "    \n",
    "    # ---------------- read in data and add to master list (all_snotel_data) --------\n",
    "    site_x = USGS_sites$USGS_site_no[i]\n",
    "    if(site_x == 12439500){  # okanogan - orville site has \"auxillary\" data\n",
    "        metric = 'mean2'\n",
    "    }else{\n",
    "        metric = 'mean'\n",
    "    }\n",
    "    \n",
    "    # ---------------- read in data and add to master list (all_snotel_data) --------\n",
    "    site_x = USGS_sites$USGS_site_no[i]\n",
    "    if(site_x == 12442500){  # Okanogan - Similkameen (Nighthaw) has a couple years in 1980s, going to skip\n",
    "        year_start = '1990-01-01'\n",
    "    }\n",
    "    \n",
    "    print('starting download of....')\n",
    "    print(site_x)\n",
    "    all_USGS_data[[site_x]] = FXN_download_stream_temperature(USGS_sites$USGS_site_no[i],\n",
    "                                                                                year_start, year_end, TRUE, metric)\n",
    "    print(\"         DONE                 \")\n",
    "    print(\"       \")\n",
    "}\n"
   ]
  },
  {
   "cell_type": "code",
   "execution_count": null,
   "metadata": {},
   "outputs": [],
   "source": []
  },
  {
   "cell_type": "markdown",
   "metadata": {},
   "source": [
    "# ----------------------------------------------------------------------------------\n",
    "#             Calculate Statistics\n",
    "# ----------------------------------------------------------------------------------"
   ]
  },
  {
   "cell_type": "code",
   "execution_count": 238,
   "metadata": {},
   "outputs": [
    {
     "name": "stdout",
     "output_type": "stream",
     "text": [
      "[1] 1\n",
      "[1] 12442500\n",
      "[1] 2\n",
      "[1] 12447200\n",
      "[1] 3\n",
      "[1] 12447390\n",
      "[1] 4\n",
      "[1] 12450480\n",
      "[1] 5\n",
      "[1] 12462500\n"
     ]
    }
   ],
   "source": [
    "# ------------ data frame for statistics ---------\n",
    "stream_temperature_statistics_output = c()\n",
    "\n",
    "for(i in 1:nrow(USGS_sites)){\n",
    "\n",
    "    # ------------------------------------------------------------\n",
    "    #          Prepare the Data\n",
    "    # ------------------------------------------------------------\n",
    "    print(i)\n",
    "    print(USGS_sites$USGS_site_no[i])\n",
    "    site_x = USGS_sites$USGS_site_no[i]\n",
    "    # ------------------------ generate the stream tempreature -------------------\n",
    "    stream_temperature_data_x = as.numeric(as.character(all_USGS_data[[site_x]]$'stream_temperature_degC' ))\n",
    "    date_vector = all_USGS_data[[as.numeric(USGS_sites$USGS_site_no[i])]]$'datetime2'\n",
    "    \n",
    "    # ----------- clip \"NAs\" at the beginning -------\n",
    "    x =!is.na(stream_temperature_data_x)\n",
    "    x = which(x == TRUE)\n",
    "    first_not_na = min(x)\n",
    "    include_x = seq(first_not_na, length(stream_temperature_data_x))\n",
    "    stream_temperature_data_x = stream_temperature_data_x[include_x]\n",
    "    date_vector = date_vector[include_x]\n",
    "    \n",
    "    # ---------------- generate output data --------------\n",
    "    output_data_x = USGS_stream_temperature_statistics(stream_temperature_data_x, date_vector, year_to_plot)\n",
    "    sites_df = t(as.data.frame(c(USGS_sites$Site_name[i], USGS_sites$USGS_site_no[i])))\n",
    "    colnames(sites_df) = c(\"site_name\", \"site_number\")\n",
    "    output_data_x = cbind(sites_df, output_data_x)\n",
    "    rownames(output_data_x) = i\n",
    "    stream_temperature_statistics_output = rbind(stream_temperature_statistics_output, output_data_x)\n",
    "    \n",
    "}\n",
    "stream_temperature_statistics_output= as.data.frame(stream_temperature_statistics_output)\n",
    "# -------- convert numbers from character to numeric -------\n",
    "i = seq(2,ncol(stream_temperature_statistics_output))   \n",
    "stream_temperature_statistics_output[ , i] = apply(stream_temperature_statistics_output[ , i], 2,function(x) as.numeric(as.character(x))) # convert numbers to numeric"
   ]
  },
  {
   "cell_type": "code",
   "execution_count": 239,
   "metadata": {},
   "outputs": [
    {
     "data": {
      "text/html": [
       "<table>\n",
       "<caption>A data.frame: 5 × 3</caption>\n",
       "<thead>\n",
       "\t<tr><th></th><th scope=col>average_peak_temperature_day_of_year</th><th scope=col>DELTA_peak_temperature_day_year_of_interest</th><th scope=col>years_with_sufficient_data_for_analysis</th></tr>\n",
       "\t<tr><th></th><th scope=col>&lt;dbl&gt;</th><th scope=col>&lt;dbl&gt;</th><th scope=col>&lt;dbl&gt;</th></tr>\n",
       "</thead>\n",
       "<tbody>\n",
       "\t<tr><th scope=row>1</th><td>214.50</td><td> 8.50</td><td> 6</td></tr>\n",
       "\t<tr><th scope=row>2</th><td>218.07</td><td>-4.07</td><td>15</td></tr>\n",
       "\t<tr><th scope=row>3</th><td>211.56</td><td>11.44</td><td> 9</td></tr>\n",
       "\t<tr><th scope=row>4</th><td>210.71</td><td> 9.29</td><td> 7</td></tr>\n",
       "\t<tr><th scope=row>5</th><td>226.50</td><td>-4.50</td><td> 4</td></tr>\n",
       "</tbody>\n",
       "</table>\n"
      ],
      "text/latex": [
       "A data.frame: 5 × 3\n",
       "\\begin{tabular}{r|lll}\n",
       "  & average\\_peak\\_temperature\\_day\\_of\\_year & DELTA\\_peak\\_temperature\\_day\\_year\\_of\\_interest & years\\_with\\_sufficient\\_data\\_for\\_analysis\\\\\n",
       "  & <dbl> & <dbl> & <dbl>\\\\\n",
       "\\hline\n",
       "\t1 & 214.50 &  8.50 &  6\\\\\n",
       "\t2 & 218.07 & -4.07 & 15\\\\\n",
       "\t3 & 211.56 & 11.44 &  9\\\\\n",
       "\t4 & 210.71 &  9.29 &  7\\\\\n",
       "\t5 & 226.50 & -4.50 &  4\\\\\n",
       "\\end{tabular}\n"
      ],
      "text/markdown": [
       "\n",
       "A data.frame: 5 × 3\n",
       "\n",
       "| <!--/--> | average_peak_temperature_day_of_year &lt;dbl&gt; | DELTA_peak_temperature_day_year_of_interest &lt;dbl&gt; | years_with_sufficient_data_for_analysis &lt;dbl&gt; |\n",
       "|---|---|---|---|\n",
       "| 1 | 214.50 |  8.50 |  6 |\n",
       "| 2 | 218.07 | -4.07 | 15 |\n",
       "| 3 | 211.56 | 11.44 |  9 |\n",
       "| 4 | 210.71 |  9.29 |  7 |\n",
       "| 5 | 226.50 | -4.50 |  4 |\n",
       "\n"
      ],
      "text/plain": [
       "  average_peak_temperature_day_of_year\n",
       "1 214.50                              \n",
       "2 218.07                              \n",
       "3 211.56                              \n",
       "4 210.71                              \n",
       "5 226.50                              \n",
       "  DELTA_peak_temperature_day_year_of_interest\n",
       "1  8.50                                      \n",
       "2 -4.07                                      \n",
       "3 11.44                                      \n",
       "4  9.29                                      \n",
       "5 -4.50                                      \n",
       "  years_with_sufficient_data_for_analysis\n",
       "1  6                                     \n",
       "2 15                                     \n",
       "3  9                                     \n",
       "4  7                                     \n",
       "5  4                                     "
      ]
     },
     "metadata": {},
     "output_type": "display_data"
    }
   ],
   "source": [
    "stream_temperature_statistics_output[,8:10]"
   ]
  },
  {
   "cell_type": "code",
   "execution_count": 240,
   "metadata": {},
   "outputs": [
    {
     "name": "stdout",
     "output_type": "stream",
     "text": [
      "[1] 12442500\n"
     ]
    }
   ],
   "source": [
    "i = 1\n",
    "print(USGS_sites$USGS_site_no[i])\n",
    "site_x = USGS_sites$USGS_site_no[i]\n",
    "# ------------------------ generate the stream tempreature -------------------\n",
    "stream_temperature_data_x = as.numeric(as.character(all_USGS_data[[site_x]]$'stream_temperature_degC' ))\n",
    "date_vector = all_USGS_data[[as.numeric(USGS_sites$USGS_site_no[i])]]$'datetime2'\n",
    "\n",
    "# ----------- clip \"NAs\" at the beginning -------\n",
    "x =!is.na(stream_temperature_data_x)\n",
    "x = which(x == TRUE)\n",
    "first_not_na = min(x)\n",
    "include_x = seq(first_not_na, length(stream_temperature_data_x))\n",
    "stream_temperature_data_x = stream_temperature_data_x[include_x]\n",
    "date_vector = date_vector[include_x]\n",
    "\n",
    "\n",
    "# ---------------- generate output data --------------\n",
    "output_data_x = USGS_stream_temperature_statistics(stream_temperature_data_x, date_vector, year_to_plot)\n",
    "#sites_df = t(as.data.frame(c(USGS_sites$Site_name[i], USGS_sites$USGS_site_no[i])))\n",
    "#colnames(sites_df) = c(\"site_name\", \"site_number\")\n"
   ]
  },
  {
   "cell_type": "code",
   "execution_count": null,
   "metadata": {},
   "outputs": [],
   "source": []
  },
  {
   "cell_type": "code",
   "execution_count": 204,
   "metadata": {},
   "outputs": [
    {
     "data": {
      "text/html": [
       "<style>\n",
       ".list-inline {list-style: none; margin:0; padding: 0}\n",
       ".list-inline>li {display: inline-block}\n",
       ".list-inline>li:not(:last-child)::after {content: \"\\00b7\"; padding: 0 .5ex}\n",
       "</style>\n",
       "<ol class=list-inline><li>'1 site_name'</li><li>'2 site_number'</li><li>'3 peak_temperature_7day_avg_year_of_interest_deg_C'</li><li>'4 average_7day_avg_peak_temperature_deg_C'</li><li>'5 PRCNT_peak_temperature_year_of_interest_deg_C'</li><li>'6 DELTA_peak_temperature_year_of_interest_deg_C'</li><li>'7 peak_temperature_day_year_of_interest'</li><li>'8 average_peak_temperature_day_of_year'</li><li>'9 DELTA_peak_temperature_day_year_of_interest'</li><li>'10 years_with_sufficient_data_for_analysis'</li><li>'11 low_temperature_7day_avg_year_of_interest_deg_C'</li><li>'12 average_7day_avg_low_temperature_deg_C'</li><li>'13 PRCNT_low_temperature_year_of_interest_deg_C'</li><li>'14 DELTA_low_temperature_year_of_interest_deg_C'</li><li>'15 low_temperature_day_year_of_interest'</li><li>'16 average_low_temperature_day_of_year'</li><li>'17 DELTA_low_temperature_day_year_of_interest'</li><li>'18 annual_total_temperature_year_of_interest_inches'</li><li>'19 mean_annual_total_temperature_inches'</li><li>'20 PRCNT_annual_total_temperature_year_of_interest_inches'</li><li>'21 DELTA_annual_total_temperature_year_of_interest_inches'</li><li>'22 Jan_mean_temperature_year_of_interest_deg_C'</li><li>'23 Feb_mean_temperature_year_of_interest_deg_C'</li><li>'24 Mar_mean_temperature_year_of_interest_deg_C'</li><li>'25 Apr_mean_temperature_year_of_interest_deg_C'</li><li>'26 May_mean_temperature_year_of_interest_deg_C'</li><li>'27 Jun_mean_temperature_year_of_interest_deg_C'</li><li>'28 Jul_mean_temperature_year_of_interest_deg_C'</li><li>'29 Aug_mean_temperature_year_of_interest_deg_C'</li><li>'30 Sep_mean_temperature_year_of_interest_deg_C'</li><li>'31 Oct_mean_temperature_year_of_interest_deg_C'</li><li>'32 Nov_mean_temperature_year_of_interest_deg_C'</li><li>'33 Dec_mean_temperature_year_of_interest_deg_C'</li><li>'34 Jan_mean_temperature_all_years_deg_C'</li><li>'35 Feb_mean_temperature_all_years_deg_C'</li><li>'36 Mar_mean_temperature_all_years_deg_C'</li><li>'37 Apr_mean_temperature_all_years_deg_C'</li><li>'38 May_mean_temperature_all_years_deg_C'</li><li>'39 Jun_mean_temperature_all_years_deg_C'</li><li>'40 Jul_mean_temperature_all_years_deg_C'</li><li>'41 Aug_mean_temperature_all_years_deg_C'</li><li>'42 Sep_mean_temperature_all_years_deg_C'</li><li>'43 Oct_mean_temperature_all_years_deg_C'</li><li>'44 Nov_mean_temperature_all_years_deg_C'</li><li>'45 Dec_mean_temperature_all_years_deg_C'</li><li>'46 Jan_mean_PRCNT_temperature_year_of_interest_deg_C'</li><li>'47 Feb_mean_PRCNT_temperature_year_of_interest_deg_C'</li><li>'48 Mar_mean_PRCNT_temperature_year_of_interest_deg_C'</li><li>'49 Apr_mean_PRCNT_temperature_year_of_interest_deg_C'</li><li>'50 May_mean_PRCNT_temperature_year_of_interest_deg_C'</li><li>'51 Jun_mean_PRCNT_temperature_year_of_interest_deg_C'</li><li>'52 Jul_mean_PRCNT_temperature_year_of_interest_deg_C'</li><li>'53 Aug_mean_PRCNT_temperature_year_of_interest_deg_C'</li><li>'54 Sep_mean_PRCNT_temperature_year_of_interest_deg_C'</li><li>'55 Oct_mean_PRCNT_temperature_year_of_interest_deg_C'</li><li>'56 Nov_mean_PRCNT_temperature_year_of_interest_deg_C'</li><li>'57 Dec_mean_PRCNT_temperature_year_of_interest_deg_C'</li><li>'58 Jan_mean_DELTA_temperature_year_of_interest_deg_C'</li><li>'59 Feb_mean_DELTA_temperature_year_of_interest_deg_C'</li><li>'60 Mar_mean_DELTA_temperature_year_of_interest_deg_C'</li><li>'61 Apr_mean_DELTA_temperature_year_of_interest_deg_C'</li><li>'62 May_mean_DELTA_temperature_year_of_interest_deg_C'</li><li>'63 Jun_mean_DELTA_temperature_year_of_interest_deg_C'</li><li>'64 Jul_mean_DELTA_temperature_year_of_interest_deg_C'</li><li>'65 Aug_mean_DELTA_temperature_year_of_interest_deg_C'</li><li>'66 Sep_mean_DELTA_temperature_year_of_interest_deg_C'</li><li>'67 Oct_mean_DELTA_temperature_year_of_interest_deg_C'</li><li>'68 Nov_mean_DELTA_temperature_year_of_interest_deg_C'</li><li>'69 Dec_mean_DELTA_temperature_year_of_interest_deg_C'</li></ol>\n"
      ],
      "text/latex": [
       "\\begin{enumerate*}\n",
       "\\item '1 site\\_name'\n",
       "\\item '2 site\\_number'\n",
       "\\item '3 peak\\_temperature\\_7day\\_avg\\_year\\_of\\_interest\\_deg\\_C'\n",
       "\\item '4 average\\_7day\\_avg\\_peak\\_temperature\\_deg\\_C'\n",
       "\\item '5 PRCNT\\_peak\\_temperature\\_year\\_of\\_interest\\_deg\\_C'\n",
       "\\item '6 DELTA\\_peak\\_temperature\\_year\\_of\\_interest\\_deg\\_C'\n",
       "\\item '7 peak\\_temperature\\_day\\_year\\_of\\_interest'\n",
       "\\item '8 average\\_peak\\_temperature\\_day\\_of\\_year'\n",
       "\\item '9 DELTA\\_peak\\_temperature\\_day\\_year\\_of\\_interest'\n",
       "\\item '10 years\\_with\\_sufficient\\_data\\_for\\_analysis'\n",
       "\\item '11 low\\_temperature\\_7day\\_avg\\_year\\_of\\_interest\\_deg\\_C'\n",
       "\\item '12 average\\_7day\\_avg\\_low\\_temperature\\_deg\\_C'\n",
       "\\item '13 PRCNT\\_low\\_temperature\\_year\\_of\\_interest\\_deg\\_C'\n",
       "\\item '14 DELTA\\_low\\_temperature\\_year\\_of\\_interest\\_deg\\_C'\n",
       "\\item '15 low\\_temperature\\_day\\_year\\_of\\_interest'\n",
       "\\item '16 average\\_low\\_temperature\\_day\\_of\\_year'\n",
       "\\item '17 DELTA\\_low\\_temperature\\_day\\_year\\_of\\_interest'\n",
       "\\item '18 annual\\_total\\_temperature\\_year\\_of\\_interest\\_inches'\n",
       "\\item '19 mean\\_annual\\_total\\_temperature\\_inches'\n",
       "\\item '20 PRCNT\\_annual\\_total\\_temperature\\_year\\_of\\_interest\\_inches'\n",
       "\\item '21 DELTA\\_annual\\_total\\_temperature\\_year\\_of\\_interest\\_inches'\n",
       "\\item '22 Jan\\_mean\\_temperature\\_year\\_of\\_interest\\_deg\\_C'\n",
       "\\item '23 Feb\\_mean\\_temperature\\_year\\_of\\_interest\\_deg\\_C'\n",
       "\\item '24 Mar\\_mean\\_temperature\\_year\\_of\\_interest\\_deg\\_C'\n",
       "\\item '25 Apr\\_mean\\_temperature\\_year\\_of\\_interest\\_deg\\_C'\n",
       "\\item '26 May\\_mean\\_temperature\\_year\\_of\\_interest\\_deg\\_C'\n",
       "\\item '27 Jun\\_mean\\_temperature\\_year\\_of\\_interest\\_deg\\_C'\n",
       "\\item '28 Jul\\_mean\\_temperature\\_year\\_of\\_interest\\_deg\\_C'\n",
       "\\item '29 Aug\\_mean\\_temperature\\_year\\_of\\_interest\\_deg\\_C'\n",
       "\\item '30 Sep\\_mean\\_temperature\\_year\\_of\\_interest\\_deg\\_C'\n",
       "\\item '31 Oct\\_mean\\_temperature\\_year\\_of\\_interest\\_deg\\_C'\n",
       "\\item '32 Nov\\_mean\\_temperature\\_year\\_of\\_interest\\_deg\\_C'\n",
       "\\item '33 Dec\\_mean\\_temperature\\_year\\_of\\_interest\\_deg\\_C'\n",
       "\\item '34 Jan\\_mean\\_temperature\\_all\\_years\\_deg\\_C'\n",
       "\\item '35 Feb\\_mean\\_temperature\\_all\\_years\\_deg\\_C'\n",
       "\\item '36 Mar\\_mean\\_temperature\\_all\\_years\\_deg\\_C'\n",
       "\\item '37 Apr\\_mean\\_temperature\\_all\\_years\\_deg\\_C'\n",
       "\\item '38 May\\_mean\\_temperature\\_all\\_years\\_deg\\_C'\n",
       "\\item '39 Jun\\_mean\\_temperature\\_all\\_years\\_deg\\_C'\n",
       "\\item '40 Jul\\_mean\\_temperature\\_all\\_years\\_deg\\_C'\n",
       "\\item '41 Aug\\_mean\\_temperature\\_all\\_years\\_deg\\_C'\n",
       "\\item '42 Sep\\_mean\\_temperature\\_all\\_years\\_deg\\_C'\n",
       "\\item '43 Oct\\_mean\\_temperature\\_all\\_years\\_deg\\_C'\n",
       "\\item '44 Nov\\_mean\\_temperature\\_all\\_years\\_deg\\_C'\n",
       "\\item '45 Dec\\_mean\\_temperature\\_all\\_years\\_deg\\_C'\n",
       "\\item '46 Jan\\_mean\\_PRCNT\\_temperature\\_year\\_of\\_interest\\_deg\\_C'\n",
       "\\item '47 Feb\\_mean\\_PRCNT\\_temperature\\_year\\_of\\_interest\\_deg\\_C'\n",
       "\\item '48 Mar\\_mean\\_PRCNT\\_temperature\\_year\\_of\\_interest\\_deg\\_C'\n",
       "\\item '49 Apr\\_mean\\_PRCNT\\_temperature\\_year\\_of\\_interest\\_deg\\_C'\n",
       "\\item '50 May\\_mean\\_PRCNT\\_temperature\\_year\\_of\\_interest\\_deg\\_C'\n",
       "\\item '51 Jun\\_mean\\_PRCNT\\_temperature\\_year\\_of\\_interest\\_deg\\_C'\n",
       "\\item '52 Jul\\_mean\\_PRCNT\\_temperature\\_year\\_of\\_interest\\_deg\\_C'\n",
       "\\item '53 Aug\\_mean\\_PRCNT\\_temperature\\_year\\_of\\_interest\\_deg\\_C'\n",
       "\\item '54 Sep\\_mean\\_PRCNT\\_temperature\\_year\\_of\\_interest\\_deg\\_C'\n",
       "\\item '55 Oct\\_mean\\_PRCNT\\_temperature\\_year\\_of\\_interest\\_deg\\_C'\n",
       "\\item '56 Nov\\_mean\\_PRCNT\\_temperature\\_year\\_of\\_interest\\_deg\\_C'\n",
       "\\item '57 Dec\\_mean\\_PRCNT\\_temperature\\_year\\_of\\_interest\\_deg\\_C'\n",
       "\\item '58 Jan\\_mean\\_DELTA\\_temperature\\_year\\_of\\_interest\\_deg\\_C'\n",
       "\\item '59 Feb\\_mean\\_DELTA\\_temperature\\_year\\_of\\_interest\\_deg\\_C'\n",
       "\\item '60 Mar\\_mean\\_DELTA\\_temperature\\_year\\_of\\_interest\\_deg\\_C'\n",
       "\\item '61 Apr\\_mean\\_DELTA\\_temperature\\_year\\_of\\_interest\\_deg\\_C'\n",
       "\\item '62 May\\_mean\\_DELTA\\_temperature\\_year\\_of\\_interest\\_deg\\_C'\n",
       "\\item '63 Jun\\_mean\\_DELTA\\_temperature\\_year\\_of\\_interest\\_deg\\_C'\n",
       "\\item '64 Jul\\_mean\\_DELTA\\_temperature\\_year\\_of\\_interest\\_deg\\_C'\n",
       "\\item '65 Aug\\_mean\\_DELTA\\_temperature\\_year\\_of\\_interest\\_deg\\_C'\n",
       "\\item '66 Sep\\_mean\\_DELTA\\_temperature\\_year\\_of\\_interest\\_deg\\_C'\n",
       "\\item '67 Oct\\_mean\\_DELTA\\_temperature\\_year\\_of\\_interest\\_deg\\_C'\n",
       "\\item '68 Nov\\_mean\\_DELTA\\_temperature\\_year\\_of\\_interest\\_deg\\_C'\n",
       "\\item '69 Dec\\_mean\\_DELTA\\_temperature\\_year\\_of\\_interest\\_deg\\_C'\n",
       "\\end{enumerate*}\n"
      ],
      "text/markdown": [
       "1. '1 site_name'\n",
       "2. '2 site_number'\n",
       "3. '3 peak_temperature_7day_avg_year_of_interest_deg_C'\n",
       "4. '4 average_7day_avg_peak_temperature_deg_C'\n",
       "5. '5 PRCNT_peak_temperature_year_of_interest_deg_C'\n",
       "6. '6 DELTA_peak_temperature_year_of_interest_deg_C'\n",
       "7. '7 peak_temperature_day_year_of_interest'\n",
       "8. '8 average_peak_temperature_day_of_year'\n",
       "9. '9 DELTA_peak_temperature_day_year_of_interest'\n",
       "10. '10 years_with_sufficient_data_for_analysis'\n",
       "11. '11 low_temperature_7day_avg_year_of_interest_deg_C'\n",
       "12. '12 average_7day_avg_low_temperature_deg_C'\n",
       "13. '13 PRCNT_low_temperature_year_of_interest_deg_C'\n",
       "14. '14 DELTA_low_temperature_year_of_interest_deg_C'\n",
       "15. '15 low_temperature_day_year_of_interest'\n",
       "16. '16 average_low_temperature_day_of_year'\n",
       "17. '17 DELTA_low_temperature_day_year_of_interest'\n",
       "18. '18 annual_total_temperature_year_of_interest_inches'\n",
       "19. '19 mean_annual_total_temperature_inches'\n",
       "20. '20 PRCNT_annual_total_temperature_year_of_interest_inches'\n",
       "21. '21 DELTA_annual_total_temperature_year_of_interest_inches'\n",
       "22. '22 Jan_mean_temperature_year_of_interest_deg_C'\n",
       "23. '23 Feb_mean_temperature_year_of_interest_deg_C'\n",
       "24. '24 Mar_mean_temperature_year_of_interest_deg_C'\n",
       "25. '25 Apr_mean_temperature_year_of_interest_deg_C'\n",
       "26. '26 May_mean_temperature_year_of_interest_deg_C'\n",
       "27. '27 Jun_mean_temperature_year_of_interest_deg_C'\n",
       "28. '28 Jul_mean_temperature_year_of_interest_deg_C'\n",
       "29. '29 Aug_mean_temperature_year_of_interest_deg_C'\n",
       "30. '30 Sep_mean_temperature_year_of_interest_deg_C'\n",
       "31. '31 Oct_mean_temperature_year_of_interest_deg_C'\n",
       "32. '32 Nov_mean_temperature_year_of_interest_deg_C'\n",
       "33. '33 Dec_mean_temperature_year_of_interest_deg_C'\n",
       "34. '34 Jan_mean_temperature_all_years_deg_C'\n",
       "35. '35 Feb_mean_temperature_all_years_deg_C'\n",
       "36. '36 Mar_mean_temperature_all_years_deg_C'\n",
       "37. '37 Apr_mean_temperature_all_years_deg_C'\n",
       "38. '38 May_mean_temperature_all_years_deg_C'\n",
       "39. '39 Jun_mean_temperature_all_years_deg_C'\n",
       "40. '40 Jul_mean_temperature_all_years_deg_C'\n",
       "41. '41 Aug_mean_temperature_all_years_deg_C'\n",
       "42. '42 Sep_mean_temperature_all_years_deg_C'\n",
       "43. '43 Oct_mean_temperature_all_years_deg_C'\n",
       "44. '44 Nov_mean_temperature_all_years_deg_C'\n",
       "45. '45 Dec_mean_temperature_all_years_deg_C'\n",
       "46. '46 Jan_mean_PRCNT_temperature_year_of_interest_deg_C'\n",
       "47. '47 Feb_mean_PRCNT_temperature_year_of_interest_deg_C'\n",
       "48. '48 Mar_mean_PRCNT_temperature_year_of_interest_deg_C'\n",
       "49. '49 Apr_mean_PRCNT_temperature_year_of_interest_deg_C'\n",
       "50. '50 May_mean_PRCNT_temperature_year_of_interest_deg_C'\n",
       "51. '51 Jun_mean_PRCNT_temperature_year_of_interest_deg_C'\n",
       "52. '52 Jul_mean_PRCNT_temperature_year_of_interest_deg_C'\n",
       "53. '53 Aug_mean_PRCNT_temperature_year_of_interest_deg_C'\n",
       "54. '54 Sep_mean_PRCNT_temperature_year_of_interest_deg_C'\n",
       "55. '55 Oct_mean_PRCNT_temperature_year_of_interest_deg_C'\n",
       "56. '56 Nov_mean_PRCNT_temperature_year_of_interest_deg_C'\n",
       "57. '57 Dec_mean_PRCNT_temperature_year_of_interest_deg_C'\n",
       "58. '58 Jan_mean_DELTA_temperature_year_of_interest_deg_C'\n",
       "59. '59 Feb_mean_DELTA_temperature_year_of_interest_deg_C'\n",
       "60. '60 Mar_mean_DELTA_temperature_year_of_interest_deg_C'\n",
       "61. '61 Apr_mean_DELTA_temperature_year_of_interest_deg_C'\n",
       "62. '62 May_mean_DELTA_temperature_year_of_interest_deg_C'\n",
       "63. '63 Jun_mean_DELTA_temperature_year_of_interest_deg_C'\n",
       "64. '64 Jul_mean_DELTA_temperature_year_of_interest_deg_C'\n",
       "65. '65 Aug_mean_DELTA_temperature_year_of_interest_deg_C'\n",
       "66. '66 Sep_mean_DELTA_temperature_year_of_interest_deg_C'\n",
       "67. '67 Oct_mean_DELTA_temperature_year_of_interest_deg_C'\n",
       "68. '68 Nov_mean_DELTA_temperature_year_of_interest_deg_C'\n",
       "69. '69 Dec_mean_DELTA_temperature_year_of_interest_deg_C'\n",
       "\n",
       "\n"
      ],
      "text/plain": [
       " [1] \"1 site_name\"                                              \n",
       " [2] \"2 site_number\"                                            \n",
       " [3] \"3 peak_temperature_7day_avg_year_of_interest_deg_C\"       \n",
       " [4] \"4 average_7day_avg_peak_temperature_deg_C\"                \n",
       " [5] \"5 PRCNT_peak_temperature_year_of_interest_deg_C\"          \n",
       " [6] \"6 DELTA_peak_temperature_year_of_interest_deg_C\"          \n",
       " [7] \"7 peak_temperature_day_year_of_interest\"                  \n",
       " [8] \"8 average_peak_temperature_day_of_year\"                   \n",
       " [9] \"9 DELTA_peak_temperature_day_year_of_interest\"            \n",
       "[10] \"10 years_with_sufficient_data_for_analysis\"               \n",
       "[11] \"11 low_temperature_7day_avg_year_of_interest_deg_C\"       \n",
       "[12] \"12 average_7day_avg_low_temperature_deg_C\"                \n",
       "[13] \"13 PRCNT_low_temperature_year_of_interest_deg_C\"          \n",
       "[14] \"14 DELTA_low_temperature_year_of_interest_deg_C\"          \n",
       "[15] \"15 low_temperature_day_year_of_interest\"                  \n",
       "[16] \"16 average_low_temperature_day_of_year\"                   \n",
       "[17] \"17 DELTA_low_temperature_day_year_of_interest\"            \n",
       "[18] \"18 annual_total_temperature_year_of_interest_inches\"      \n",
       "[19] \"19 mean_annual_total_temperature_inches\"                  \n",
       "[20] \"20 PRCNT_annual_total_temperature_year_of_interest_inches\"\n",
       "[21] \"21 DELTA_annual_total_temperature_year_of_interest_inches\"\n",
       "[22] \"22 Jan_mean_temperature_year_of_interest_deg_C\"           \n",
       "[23] \"23 Feb_mean_temperature_year_of_interest_deg_C\"           \n",
       "[24] \"24 Mar_mean_temperature_year_of_interest_deg_C\"           \n",
       "[25] \"25 Apr_mean_temperature_year_of_interest_deg_C\"           \n",
       "[26] \"26 May_mean_temperature_year_of_interest_deg_C\"           \n",
       "[27] \"27 Jun_mean_temperature_year_of_interest_deg_C\"           \n",
       "[28] \"28 Jul_mean_temperature_year_of_interest_deg_C\"           \n",
       "[29] \"29 Aug_mean_temperature_year_of_interest_deg_C\"           \n",
       "[30] \"30 Sep_mean_temperature_year_of_interest_deg_C\"           \n",
       "[31] \"31 Oct_mean_temperature_year_of_interest_deg_C\"           \n",
       "[32] \"32 Nov_mean_temperature_year_of_interest_deg_C\"           \n",
       "[33] \"33 Dec_mean_temperature_year_of_interest_deg_C\"           \n",
       "[34] \"34 Jan_mean_temperature_all_years_deg_C\"                  \n",
       "[35] \"35 Feb_mean_temperature_all_years_deg_C\"                  \n",
       "[36] \"36 Mar_mean_temperature_all_years_deg_C\"                  \n",
       "[37] \"37 Apr_mean_temperature_all_years_deg_C\"                  \n",
       "[38] \"38 May_mean_temperature_all_years_deg_C\"                  \n",
       "[39] \"39 Jun_mean_temperature_all_years_deg_C\"                  \n",
       "[40] \"40 Jul_mean_temperature_all_years_deg_C\"                  \n",
       "[41] \"41 Aug_mean_temperature_all_years_deg_C\"                  \n",
       "[42] \"42 Sep_mean_temperature_all_years_deg_C\"                  \n",
       "[43] \"43 Oct_mean_temperature_all_years_deg_C\"                  \n",
       "[44] \"44 Nov_mean_temperature_all_years_deg_C\"                  \n",
       "[45] \"45 Dec_mean_temperature_all_years_deg_C\"                  \n",
       "[46] \"46 Jan_mean_PRCNT_temperature_year_of_interest_deg_C\"     \n",
       "[47] \"47 Feb_mean_PRCNT_temperature_year_of_interest_deg_C\"     \n",
       "[48] \"48 Mar_mean_PRCNT_temperature_year_of_interest_deg_C\"     \n",
       "[49] \"49 Apr_mean_PRCNT_temperature_year_of_interest_deg_C\"     \n",
       "[50] \"50 May_mean_PRCNT_temperature_year_of_interest_deg_C\"     \n",
       "[51] \"51 Jun_mean_PRCNT_temperature_year_of_interest_deg_C\"     \n",
       "[52] \"52 Jul_mean_PRCNT_temperature_year_of_interest_deg_C\"     \n",
       "[53] \"53 Aug_mean_PRCNT_temperature_year_of_interest_deg_C\"     \n",
       "[54] \"54 Sep_mean_PRCNT_temperature_year_of_interest_deg_C\"     \n",
       "[55] \"55 Oct_mean_PRCNT_temperature_year_of_interest_deg_C\"     \n",
       "[56] \"56 Nov_mean_PRCNT_temperature_year_of_interest_deg_C\"     \n",
       "[57] \"57 Dec_mean_PRCNT_temperature_year_of_interest_deg_C\"     \n",
       "[58] \"58 Jan_mean_DELTA_temperature_year_of_interest_deg_C\"     \n",
       "[59] \"59 Feb_mean_DELTA_temperature_year_of_interest_deg_C\"     \n",
       "[60] \"60 Mar_mean_DELTA_temperature_year_of_interest_deg_C\"     \n",
       "[61] \"61 Apr_mean_DELTA_temperature_year_of_interest_deg_C\"     \n",
       "[62] \"62 May_mean_DELTA_temperature_year_of_interest_deg_C\"     \n",
       "[63] \"63 Jun_mean_DELTA_temperature_year_of_interest_deg_C\"     \n",
       "[64] \"64 Jul_mean_DELTA_temperature_year_of_interest_deg_C\"     \n",
       "[65] \"65 Aug_mean_DELTA_temperature_year_of_interest_deg_C\"     \n",
       "[66] \"66 Sep_mean_DELTA_temperature_year_of_interest_deg_C\"     \n",
       "[67] \"67 Oct_mean_DELTA_temperature_year_of_interest_deg_C\"     \n",
       "[68] \"68 Nov_mean_DELTA_temperature_year_of_interest_deg_C\"     \n",
       "[69] \"69 Dec_mean_DELTA_temperature_year_of_interest_deg_C\"     "
      ]
     },
     "metadata": {},
     "output_type": "display_data"
    }
   ],
   "source": [
    "paste( seq(1,length(colnames(stream_temperature_statistics_output))),\n",
    "           colnames(stream_temperature_statistics_output) )"
   ]
  },
  {
   "cell_type": "code",
   "execution_count": 218,
   "metadata": {},
   "outputs": [
    {
     "data": {
      "text/html": [
       "<table>\n",
       "<caption>A data.frame: 5 × 4</caption>\n",
       "<thead>\n",
       "\t<tr><th></th><th scope=col>site_name</th><th scope=col>peak_temperature_day_year_of_interest</th><th scope=col>average_peak_temperature_day_of_year</th><th scope=col>DELTA_peak_temperature_day_year_of_interest</th></tr>\n",
       "\t<tr><th></th><th scope=col>&lt;chr&gt;</th><th scope=col>&lt;dbl&gt;</th><th scope=col>&lt;dbl&gt;</th><th scope=col>&lt;dbl&gt;</th></tr>\n",
       "</thead>\n",
       "<tbody>\n",
       "\t<tr><th scope=row>1</th><td>OKANOGAN RIVER AT OROVILLE, WA          </td><td>223</td><td>218.77</td><td> 4.23</td></tr>\n",
       "\t<tr><th scope=row>2</th><td>OKANOGAN RIVER AT MALOTT, WA            </td><td>214</td><td>218.07</td><td>-4.07</td></tr>\n",
       "\t<tr><th scope=row>3</th><td>ANDREWS CREEK NEAR MAZAMA, WA           </td><td>223</td><td>211.56</td><td>11.44</td></tr>\n",
       "\t<tr><th scope=row>4</th><td>METHOW RIVER NEAR MOUTH NEAR PATEROS, WA</td><td>220</td><td>210.71</td><td> 9.29</td></tr>\n",
       "\t<tr><th scope=row>5</th><td>WENATCHEE RIVER AT MONITOR, WA          </td><td>222</td><td>226.50</td><td>-4.50</td></tr>\n",
       "</tbody>\n",
       "</table>\n"
      ],
      "text/latex": [
       "A data.frame: 5 × 4\n",
       "\\begin{tabular}{r|llll}\n",
       "  & site\\_name & peak\\_temperature\\_day\\_year\\_of\\_interest & average\\_peak\\_temperature\\_day\\_of\\_year & DELTA\\_peak\\_temperature\\_day\\_year\\_of\\_interest\\\\\n",
       "  & <chr> & <dbl> & <dbl> & <dbl>\\\\\n",
       "\\hline\n",
       "\t1 & OKANOGAN RIVER AT OROVILLE, WA           & 223 & 218.77 &  4.23\\\\\n",
       "\t2 & OKANOGAN RIVER AT MALOTT, WA             & 214 & 218.07 & -4.07\\\\\n",
       "\t3 & ANDREWS CREEK NEAR MAZAMA, WA            & 223 & 211.56 & 11.44\\\\\n",
       "\t4 & METHOW RIVER NEAR MOUTH NEAR PATEROS, WA & 220 & 210.71 &  9.29\\\\\n",
       "\t5 & WENATCHEE RIVER AT MONITOR, WA           & 222 & 226.50 & -4.50\\\\\n",
       "\\end{tabular}\n"
      ],
      "text/markdown": [
       "\n",
       "A data.frame: 5 × 4\n",
       "\n",
       "| <!--/--> | site_name &lt;chr&gt; | peak_temperature_day_year_of_interest &lt;dbl&gt; | average_peak_temperature_day_of_year &lt;dbl&gt; | DELTA_peak_temperature_day_year_of_interest &lt;dbl&gt; |\n",
       "|---|---|---|---|---|\n",
       "| 1 | OKANOGAN RIVER AT OROVILLE, WA           | 223 | 218.77 |  4.23 |\n",
       "| 2 | OKANOGAN RIVER AT MALOTT, WA             | 214 | 218.07 | -4.07 |\n",
       "| 3 | ANDREWS CREEK NEAR MAZAMA, WA            | 223 | 211.56 | 11.44 |\n",
       "| 4 | METHOW RIVER NEAR MOUTH NEAR PATEROS, WA | 220 | 210.71 |  9.29 |\n",
       "| 5 | WENATCHEE RIVER AT MONITOR, WA           | 222 | 226.50 | -4.50 |\n",
       "\n"
      ],
      "text/plain": [
       "  site_name                               \n",
       "1 OKANOGAN RIVER AT OROVILLE, WA          \n",
       "2 OKANOGAN RIVER AT MALOTT, WA            \n",
       "3 ANDREWS CREEK NEAR MAZAMA, WA           \n",
       "4 METHOW RIVER NEAR MOUTH NEAR PATEROS, WA\n",
       "5 WENATCHEE RIVER AT MONITOR, WA          \n",
       "  peak_temperature_day_year_of_interest average_peak_temperature_day_of_year\n",
       "1 223                                   218.77                              \n",
       "2 214                                   218.07                              \n",
       "3 223                                   211.56                              \n",
       "4 220                                   210.71                              \n",
       "5 222                                   226.50                              \n",
       "  DELTA_peak_temperature_day_year_of_interest\n",
       "1  4.23                                      \n",
       "2 -4.07                                      \n",
       "3 11.44                                      \n",
       "4  9.29                                      \n",
       "5 -4.50                                      "
      ]
     },
     "metadata": {},
     "output_type": "display_data"
    }
   ],
   "source": [
    "i = c(1,7:9)\n",
    "stream_temperature_statistics_output[,i]"
   ]
  },
  {
   "cell_type": "markdown",
   "metadata": {},
   "source": [
    "### ----------------------------------------------------------\n",
    "###           statistics for peak temperature ABSOLUTE\n",
    "### ----------------------------------------------------------"
   ]
  },
  {
   "cell_type": "code",
   "execution_count": 245,
   "metadata": {},
   "outputs": [
    {
     "name": "stdout",
     "output_type": "stream",
     "text": [
      "[1] \"-----Maximum (deg C) -----:\"\n"
     ]
    },
    {
     "data": {
      "text/html": [
       "24.3"
      ],
      "text/latex": [
       "24.3"
      ],
      "text/markdown": [
       "24.3"
      ],
      "text/plain": [
       "[1] 24.3"
      ]
     },
     "metadata": {},
     "output_type": "display_data"
    },
    {
     "name": "stdout",
     "output_type": "stream",
     "text": [
      "[1] \"-----Mean (deg C)  -----:\"\n"
     ]
    },
    {
     "data": {
      "text/html": [
       "20.53"
      ],
      "text/latex": [
       "20.53"
      ],
      "text/markdown": [
       "20.53"
      ],
      "text/plain": [
       "[1] 20.53"
      ]
     },
     "metadata": {},
     "output_type": "display_data"
    },
    {
     "name": "stdout",
     "output_type": "stream",
     "text": [
      "[1] \"-----Minimum (deg C) -----:\"\n"
     ]
    },
    {
     "data": {
      "text/html": [
       "12.89"
      ],
      "text/latex": [
       "12.89"
      ],
      "text/markdown": [
       "12.89"
      ],
      "text/plain": [
       "[1] 12.89"
      ]
     },
     "metadata": {},
     "output_type": "display_data"
    },
    {
     "name": "stdout",
     "output_type": "stream",
     "text": [
      "[1] \"----------------------------------------------\"\n",
      "[1] \"-----Maximum (deg F) -----:\"\n"
     ]
    },
    {
     "data": {
      "text/html": [
       "75.74"
      ],
      "text/latex": [
       "75.74"
      ],
      "text/markdown": [
       "75.74"
      ],
      "text/plain": [
       "[1] 75.74"
      ]
     },
     "metadata": {},
     "output_type": "display_data"
    },
    {
     "name": "stdout",
     "output_type": "stream",
     "text": [
      "[1] \"-----Mean (deg F) -----:\"\n"
     ]
    },
    {
     "data": {
      "text/html": [
       "68.954"
      ],
      "text/latex": [
       "68.954"
      ],
      "text/markdown": [
       "68.954"
      ],
      "text/plain": [
       "[1] 68.954"
      ]
     },
     "metadata": {},
     "output_type": "display_data"
    },
    {
     "name": "stdout",
     "output_type": "stream",
     "text": [
      "[1] \"-----Minimum (deg F) -----:\"\n"
     ]
    },
    {
     "data": {
      "text/html": [
       "55.202"
      ],
      "text/latex": [
       "55.202"
      ],
      "text/markdown": [
       "55.202"
      ],
      "text/plain": [
       "[1] 55.202"
      ]
     },
     "metadata": {},
     "output_type": "display_data"
    }
   ],
   "source": [
    "print('-----Maximum (deg C) -----:')\n",
    "max(stream_temperature_statistics_output$peak_temperature_7day_avg_year_of_interest_deg_C)\n",
    "print('-----Mean (deg C)  -----:')\n",
    "round( mean(stream_temperature_statistics_output$peak_temperature_7day_avg_year_of_interest_deg_C),  2)\n",
    "print('-----Minimum (deg C) -----:')\n",
    "min(stream_temperature_statistics_output$peak_temperature_7day_avg_year_of_interest_deg_C)\n",
    "print( '----------------------------------------------')\n",
    "print('-----Maximum (deg F) -----:')\n",
    "deg_C_to_deg_F(  max(stream_temperature_statistics_output$peak_temperature_7day_avg_year_of_interest_deg_C)  )\n",
    "print('-----Mean (deg F) -----:')\n",
    "deg_C_to_deg_F(   round( mean(stream_temperature_statistics_output$peak_temperature_7day_avg_year_of_interest_deg_C),  2)   )\n",
    "print('-----Minimum (deg F) -----:')\n",
    "deg_C_to_deg_F(   min(stream_temperature_statistics_output$peak_temperature_7day_avg_year_of_interest_deg_C)   )"
   ]
  },
  {
   "cell_type": "markdown",
   "metadata": {},
   "source": [
    "### ----------------------------------------------------------\n",
    "###           statistics for peak temperature  PRCNT\n",
    "###              NOTE: PRCNT doesn't make sense becuase of scale of temperature\n",
    "### ----------------------------------------------------------"
   ]
  },
  {
   "cell_type": "code",
   "execution_count": 207,
   "metadata": {},
   "outputs": [
    {
     "name": "stdout",
     "output_type": "stream",
     "text": [
      "[1] \"-----Maximum -----:\"\n"
     ]
    },
    {
     "data": {
      "text/html": [
       "110.66"
      ],
      "text/latex": [
       "110.66"
      ],
      "text/markdown": [
       "110.66"
      ],
      "text/plain": [
       "[1] 110.66"
      ]
     },
     "metadata": {},
     "output_type": "display_data"
    },
    {
     "name": "stdout",
     "output_type": "stream",
     "text": [
      "[1] \"-----Mean -----:\"\n"
     ]
    },
    {
     "data": {
      "text/html": [
       "103.49"
      ],
      "text/latex": [
       "103.49"
      ],
      "text/markdown": [
       "103.49"
      ],
      "text/plain": [
       "[1] 103.49"
      ]
     },
     "metadata": {},
     "output_type": "display_data"
    },
    {
     "name": "stdout",
     "output_type": "stream",
     "text": [
      "[1] \"-----Minimum -----:\"\n"
     ]
    },
    {
     "data": {
      "text/html": [
       "98.62"
      ],
      "text/latex": [
       "98.62"
      ],
      "text/markdown": [
       "98.62"
      ],
      "text/plain": [
       "[1] 98.62"
      ]
     },
     "metadata": {},
     "output_type": "display_data"
    }
   ],
   "source": [
    "print('-----Maximum -----:')\n",
    "max(stream_temperature_statistics_output$PRCNT_peak_temperature_year_of_interest_deg_C)\n",
    "print('-----Mean -----:')\n",
    "round( mean(stream_temperature_statistics_output$PRCNT_peak_temperature_year_of_interest_deg_C),  2)\n",
    "print('-----Minimum -----:')\n",
    "min(stream_temperature_statistics_output$PRCNT_peak_temperature_year_of_interest_deg_C)"
   ]
  },
  {
   "cell_type": "markdown",
   "metadata": {},
   "source": [
    "### ----------------------------------------------------------\n",
    "###           statistics for peak temperature  DELTA\n",
    "### ----------------------------------------------------------"
   ]
  },
  {
   "cell_type": "code",
   "execution_count": 247,
   "metadata": {},
   "outputs": [
    {
     "name": "stdout",
     "output_type": "stream",
     "text": [
      "[1] \"-----Maximum -----:\"\n"
     ]
    },
    {
     "data": {
      "text/html": [
       "2.16"
      ],
      "text/latex": [
       "2.16"
      ],
      "text/markdown": [
       "2.16"
      ],
      "text/plain": [
       "[1] 2.16"
      ]
     },
     "metadata": {},
     "output_type": "display_data"
    },
    {
     "name": "stdout",
     "output_type": "stream",
     "text": [
      "[1] \"-----Mean -----:\"\n"
     ]
    },
    {
     "data": {
      "text/html": [
       "0.97"
      ],
      "text/latex": [
       "0.97"
      ],
      "text/markdown": [
       "0.97"
      ],
      "text/plain": [
       "[1] 0.97"
      ]
     },
     "metadata": {},
     "output_type": "display_data"
    },
    {
     "name": "stdout",
     "output_type": "stream",
     "text": [
      "[1] \"-----Minimum -----:\"\n"
     ]
    },
    {
     "data": {
      "text/html": [
       "0.13"
      ],
      "text/latex": [
       "0.13"
      ],
      "text/markdown": [
       "0.13"
      ],
      "text/plain": [
       "[1] 0.13"
      ]
     },
     "metadata": {},
     "output_type": "display_data"
    },
    {
     "name": "stdout",
     "output_type": "stream",
     "text": [
      "[1] \"----------------------------------------------\"\n",
      "[1] \"-----Maximum (deg F) -----:\"\n"
     ]
    },
    {
     "data": {
      "text/html": [
       "3.888"
      ],
      "text/latex": [
       "3.888"
      ],
      "text/markdown": [
       "3.888"
      ],
      "text/plain": [
       "[1] 3.888"
      ]
     },
     "metadata": {},
     "output_type": "display_data"
    },
    {
     "name": "stdout",
     "output_type": "stream",
     "text": [
      "[1] \"-----Mean (deg F) -----:\"\n"
     ]
    },
    {
     "data": {
      "text/html": [
       "1.746"
      ],
      "text/latex": [
       "1.746"
      ],
      "text/markdown": [
       "1.746"
      ],
      "text/plain": [
       "[1] 1.746"
      ]
     },
     "metadata": {},
     "output_type": "display_data"
    },
    {
     "name": "stdout",
     "output_type": "stream",
     "text": [
      "[1] \"-----Minimum (deg F) -----:\"\n"
     ]
    },
    {
     "data": {
      "text/html": [
       "0.234000000000002"
      ],
      "text/latex": [
       "0.234000000000002"
      ],
      "text/markdown": [
       "0.234000000000002"
      ],
      "text/plain": [
       "[1] 0.234"
      ]
     },
     "metadata": {},
     "output_type": "display_data"
    }
   ],
   "source": [
    "print('-----Maximum -----:')\n",
    "max(stream_temperature_statistics_output$DELTA_peak_temperature_year_of_interest_deg_C)\n",
    "print('-----Mean -----:')\n",
    "round( mean(stream_temperature_statistics_output$DELTA_peak_temperature_year_of_interest_deg_C),  2)\n",
    "print('-----Minimum -----:')\n",
    "min(stream_temperature_statistics_output$DELTA_peak_temperature_year_of_interest_deg_C)\n",
    "print( '----------------------------------------------')\n",
    "print('-----Maximum (deg F) -----:')\n",
    "deg_C_to_deg_F(  max(stream_temperature_statistics_output$DELTA_peak_temperature_year_of_interest_deg_C)  ) - 32\n",
    "print('-----Mean (deg F) -----:')\n",
    "deg_C_to_deg_F(   round( mean(stream_temperature_statistics_output$DELTA_peak_temperature_year_of_interest_deg_C),  2)   ) - 32\n",
    "print('-----Minimum (deg F) -----:')\n",
    "deg_C_to_deg_F(   min(stream_temperature_statistics_output$DELTA_peak_temperature_year_of_interest_deg_C)   ) - 32"
   ]
  },
  {
   "cell_type": "markdown",
   "metadata": {},
   "source": [
    "### ----------------------------------------------------------\n",
    "###          Print all sites for peak temperature\n",
    "### ----------------------------------------------------------"
   ]
  },
  {
   "cell_type": "code",
   "execution_count": 248,
   "metadata": {},
   "outputs": [
    {
     "data": {
      "text/html": [
       "<table>\n",
       "<caption>A data.frame: 5 × 5</caption>\n",
       "<thead>\n",
       "\t<tr><th></th><th scope=col>site_name</th><th scope=col>peak_temperature_7day_avg_year_of_interest_deg_C</th><th scope=col>DELTA_peak_temperature_year_of_interest_deg_C</th><th scope=col>peak_temperature_day_year_of_interest</th><th scope=col>DELTA_peak_temperature_day_year_of_interest</th></tr>\n",
       "\t<tr><th></th><th scope=col>&lt;chr&gt;</th><th scope=col>&lt;dbl&gt;</th><th scope=col>&lt;dbl&gt;</th><th scope=col>&lt;dbl&gt;</th><th scope=col>&lt;dbl&gt;</th></tr>\n",
       "</thead>\n",
       "<tbody>\n",
       "\t<tr><th scope=row>1</th><td>SIMILKAMEEN RIVER NEAR NIGHTHAWK, WA    </td><td>21.53</td><td>1.15</td><td>223</td><td> 8.50</td></tr>\n",
       "\t<tr><th scope=row>2</th><td>OKANOGAN RIVER AT MALOTT, WA            </td><td>24.30</td><td>0.13</td><td>214</td><td>-4.07</td></tr>\n",
       "\t<tr><th scope=row>3</th><td>ANDREWS CREEK NEAR MAZAMA, WA           </td><td>12.89</td><td>0.20</td><td>223</td><td>11.44</td></tr>\n",
       "\t<tr><th scope=row>4</th><td>METHOW RIVER NEAR MOUTH NEAR PATEROS, WA</td><td>21.44</td><td>1.22</td><td>220</td><td> 9.29</td></tr>\n",
       "\t<tr><th scope=row>5</th><td>WENATCHEE RIVER AT MONITOR, WA          </td><td>22.47</td><td>2.16</td><td>222</td><td>-4.50</td></tr>\n",
       "</tbody>\n",
       "</table>\n"
      ],
      "text/latex": [
       "A data.frame: 5 × 5\n",
       "\\begin{tabular}{r|lllll}\n",
       "  & site\\_name & peak\\_temperature\\_7day\\_avg\\_year\\_of\\_interest\\_deg\\_C & DELTA\\_peak\\_temperature\\_year\\_of\\_interest\\_deg\\_C & peak\\_temperature\\_day\\_year\\_of\\_interest & DELTA\\_peak\\_temperature\\_day\\_year\\_of\\_interest\\\\\n",
       "  & <chr> & <dbl> & <dbl> & <dbl> & <dbl>\\\\\n",
       "\\hline\n",
       "\t1 & SIMILKAMEEN RIVER NEAR NIGHTHAWK, WA     & 21.53 & 1.15 & 223 &  8.50\\\\\n",
       "\t2 & OKANOGAN RIVER AT MALOTT, WA             & 24.30 & 0.13 & 214 & -4.07\\\\\n",
       "\t3 & ANDREWS CREEK NEAR MAZAMA, WA            & 12.89 & 0.20 & 223 & 11.44\\\\\n",
       "\t4 & METHOW RIVER NEAR MOUTH NEAR PATEROS, WA & 21.44 & 1.22 & 220 &  9.29\\\\\n",
       "\t5 & WENATCHEE RIVER AT MONITOR, WA           & 22.47 & 2.16 & 222 & -4.50\\\\\n",
       "\\end{tabular}\n"
      ],
      "text/markdown": [
       "\n",
       "A data.frame: 5 × 5\n",
       "\n",
       "| <!--/--> | site_name &lt;chr&gt; | peak_temperature_7day_avg_year_of_interest_deg_C &lt;dbl&gt; | DELTA_peak_temperature_year_of_interest_deg_C &lt;dbl&gt; | peak_temperature_day_year_of_interest &lt;dbl&gt; | DELTA_peak_temperature_day_year_of_interest &lt;dbl&gt; |\n",
       "|---|---|---|---|---|---|\n",
       "| 1 | SIMILKAMEEN RIVER NEAR NIGHTHAWK, WA     | 21.53 | 1.15 | 223 |  8.50 |\n",
       "| 2 | OKANOGAN RIVER AT MALOTT, WA             | 24.30 | 0.13 | 214 | -4.07 |\n",
       "| 3 | ANDREWS CREEK NEAR MAZAMA, WA            | 12.89 | 0.20 | 223 | 11.44 |\n",
       "| 4 | METHOW RIVER NEAR MOUTH NEAR PATEROS, WA | 21.44 | 1.22 | 220 |  9.29 |\n",
       "| 5 | WENATCHEE RIVER AT MONITOR, WA           | 22.47 | 2.16 | 222 | -4.50 |\n",
       "\n"
      ],
      "text/plain": [
       "  site_name                               \n",
       "1 SIMILKAMEEN RIVER NEAR NIGHTHAWK, WA    \n",
       "2 OKANOGAN RIVER AT MALOTT, WA            \n",
       "3 ANDREWS CREEK NEAR MAZAMA, WA           \n",
       "4 METHOW RIVER NEAR MOUTH NEAR PATEROS, WA\n",
       "5 WENATCHEE RIVER AT MONITOR, WA          \n",
       "  peak_temperature_7day_avg_year_of_interest_deg_C\n",
       "1 21.53                                           \n",
       "2 24.30                                           \n",
       "3 12.89                                           \n",
       "4 21.44                                           \n",
       "5 22.47                                           \n",
       "  DELTA_peak_temperature_year_of_interest_deg_C\n",
       "1 1.15                                         \n",
       "2 0.13                                         \n",
       "3 0.20                                         \n",
       "4 1.22                                         \n",
       "5 2.16                                         \n",
       "  peak_temperature_day_year_of_interest\n",
       "1 223                                  \n",
       "2 214                                  \n",
       "3 223                                  \n",
       "4 220                                  \n",
       "5 222                                  \n",
       "  DELTA_peak_temperature_day_year_of_interest\n",
       "1  8.50                                      \n",
       "2 -4.07                                      \n",
       "3 11.44                                      \n",
       "4  9.29                                      \n",
       "5 -4.50                                      "
      ]
     },
     "metadata": {},
     "output_type": "display_data"
    }
   ],
   "source": [
    "stream_temperature_statistics_output[,c('site_name', 'peak_temperature_7day_avg_year_of_interest_deg_C',\n",
    "                                        'DELTA_peak_temperature_year_of_interest_deg_C',\n",
    "                                       'peak_temperature_day_year_of_interest','DELTA_peak_temperature_day_year_of_interest')]\n"
   ]
  },
  {
   "cell_type": "code",
   "execution_count": 263,
   "metadata": {},
   "outputs": [
    {
     "data": {
      "text/html": [
       "75.74"
      ],
      "text/latex": [
       "75.74"
      ],
      "text/markdown": [
       "75.74"
      ],
      "text/plain": [
       "[1] 75.74"
      ]
     },
     "metadata": {},
     "output_type": "display_data"
    }
   ],
   "source": [
    "deg_C_to_deg_F(24.30)"
   ]
  },
  {
   "cell_type": "markdown",
   "metadata": {},
   "source": [
    "### ----------------------------------------------------------\n",
    "###           statistics for number of years with sufficient data to analyze\n",
    "### ----------------------------------------------------------"
   ]
  },
  {
   "cell_type": "code",
   "execution_count": 249,
   "metadata": {},
   "outputs": [
    {
     "name": "stdout",
     "output_type": "stream",
     "text": [
      "[1] \"-----Maximum -----:\"\n"
     ]
    },
    {
     "data": {
      "text/html": [
       "15"
      ],
      "text/latex": [
       "15"
      ],
      "text/markdown": [
       "15"
      ],
      "text/plain": [
       "[1] 15"
      ]
     },
     "metadata": {},
     "output_type": "display_data"
    },
    {
     "name": "stdout",
     "output_type": "stream",
     "text": [
      "[1] \"-----Mean -----:\"\n"
     ]
    },
    {
     "data": {
      "text/html": [
       "8.2"
      ],
      "text/latex": [
       "8.2"
      ],
      "text/markdown": [
       "8.2"
      ],
      "text/plain": [
       "[1] 8.2"
      ]
     },
     "metadata": {},
     "output_type": "display_data"
    },
    {
     "name": "stdout",
     "output_type": "stream",
     "text": [
      "[1] \"-----Minimum -----:\"\n"
     ]
    },
    {
     "data": {
      "text/html": [
       "4"
      ],
      "text/latex": [
       "4"
      ],
      "text/markdown": [
       "4"
      ],
      "text/plain": [
       "[1] 4"
      ]
     },
     "metadata": {},
     "output_type": "display_data"
    }
   ],
   "source": [
    "print('-----Maximum -----:')\n",
    "max(stream_temperature_statistics_output$years_with_sufficient_data_for_analysis)\n",
    "print('-----Mean -----:')\n",
    "round( mean(stream_temperature_statistics_output$years_with_sufficient_data_for_analysis),  2)\n",
    "print('-----Minimum -----:')\n",
    "min(stream_temperature_statistics_output$years_with_sufficient_data_for_analysis)"
   ]
  },
  {
   "cell_type": "markdown",
   "metadata": {},
   "source": [
    "### ----------------------------------------------------------\n",
    "###           statistics for peak temperature DAY for year of interest\n",
    "### ----------------------------------------------------------"
   ]
  },
  {
   "cell_type": "code",
   "execution_count": 250,
   "metadata": {},
   "outputs": [
    {
     "name": "stdout",
     "output_type": "stream",
     "text": [
      "[1] \"-----Maximum -----:\"\n"
     ]
    },
    {
     "data": {
      "text/html": [
       "223"
      ],
      "text/latex": [
       "223"
      ],
      "text/markdown": [
       "223"
      ],
      "text/plain": [
       "[1] 223"
      ]
     },
     "metadata": {},
     "output_type": "display_data"
    },
    {
     "data": {
      "text/html": [
       "<time datetime=\"2019-08-11\">2019-08-11</time>"
      ],
      "text/latex": [
       "2019-08-11"
      ],
      "text/markdown": [
       "2019-08-11"
      ],
      "text/plain": [
       "[1] \"2019-08-11\""
      ]
     },
     "metadata": {},
     "output_type": "display_data"
    },
    {
     "name": "stdout",
     "output_type": "stream",
     "text": [
      "[1] \"-----Mean -----:\"\n"
     ]
    },
    {
     "data": {
      "text/html": [
       "220.4"
      ],
      "text/latex": [
       "220.4"
      ],
      "text/markdown": [
       "220.4"
      ],
      "text/plain": [
       "[1] 220.4"
      ]
     },
     "metadata": {},
     "output_type": "display_data"
    },
    {
     "data": {
      "text/html": [
       "<time datetime=\"2019-08-08\">2019-08-08</time>"
      ],
      "text/latex": [
       "2019-08-08"
      ],
      "text/markdown": [
       "2019-08-08"
      ],
      "text/plain": [
       "[1] \"2019-08-08\""
      ]
     },
     "metadata": {},
     "output_type": "display_data"
    },
    {
     "name": "stdout",
     "output_type": "stream",
     "text": [
      "[1] \"-----Minimum -----:\"\n"
     ]
    },
    {
     "data": {
      "text/html": [
       "214"
      ],
      "text/latex": [
       "214"
      ],
      "text/markdown": [
       "214"
      ],
      "text/plain": [
       "[1] 214"
      ]
     },
     "metadata": {},
     "output_type": "display_data"
    },
    {
     "data": {
      "text/html": [
       "<time datetime=\"2019-08-02\">2019-08-02</time>"
      ],
      "text/latex": [
       "2019-08-02"
      ],
      "text/markdown": [
       "2019-08-02"
      ],
      "text/plain": [
       "[1] \"2019-08-02\""
      ]
     },
     "metadata": {},
     "output_type": "display_data"
    }
   ],
   "source": [
    "print('-----Maximum -----:')\n",
    "max(stream_temperature_statistics_output$peak_temperature_day_year_of_interest)\n",
    "as.Date(paste(max(stream_temperature_statistics_output$peak_temperature_day_year_of_interest), year_to_plot, sep=\"-\" ),format='%j-%Y')\n",
    "print('-----Mean -----:')\n",
    "round( mean(stream_temperature_statistics_output$peak_temperature_day_year_of_interest),  1)\n",
    "as.Date(paste(round( mean(stream_temperature_statistics_output$peak_temperature_day_year_of_interest),  0), year_to_plot, sep=\"-\" ),format='%j-%Y')\n",
    "\n",
    "print('-----Minimum -----:')\n",
    "min(stream_temperature_statistics_output$peak_temperature_day_year_of_interest)\n",
    "as.Date(paste(min(stream_temperature_statistics_output$peak_temperature_day_year_of_interest), year_to_plot, sep=\"-\" ),format='%j-%Y')\n"
   ]
  },
  {
   "cell_type": "markdown",
   "metadata": {},
   "source": [
    "### ----------------------------------------------------------\n",
    "###           statistics for peak temperature DAY DELTA\n",
    "### ----------------------------------------------------------"
   ]
  },
  {
   "cell_type": "code",
   "execution_count": 251,
   "metadata": {},
   "outputs": [
    {
     "name": "stdout",
     "output_type": "stream",
     "text": [
      "[1] \"-----Maximum -----:\"\n"
     ]
    },
    {
     "data": {
      "text/html": [
       "11.44"
      ],
      "text/latex": [
       "11.44"
      ],
      "text/markdown": [
       "11.44"
      ],
      "text/plain": [
       "[1] 11.44"
      ]
     },
     "metadata": {},
     "output_type": "display_data"
    },
    {
     "name": "stdout",
     "output_type": "stream",
     "text": [
      "[1] \"-----Mean -----:\"\n"
     ]
    },
    {
     "data": {
      "text/html": [
       "4.13"
      ],
      "text/latex": [
       "4.13"
      ],
      "text/markdown": [
       "4.13"
      ],
      "text/plain": [
       "[1] 4.13"
      ]
     },
     "metadata": {},
     "output_type": "display_data"
    },
    {
     "name": "stdout",
     "output_type": "stream",
     "text": [
      "[1] \"-----Minimum -----:\"\n"
     ]
    },
    {
     "data": {
      "text/html": [
       "-4.5"
      ],
      "text/latex": [
       "-4.5"
      ],
      "text/markdown": [
       "-4.5"
      ],
      "text/plain": [
       "[1] -4.5"
      ]
     },
     "metadata": {},
     "output_type": "display_data"
    }
   ],
   "source": [
    "print('-----Maximum -----:')\n",
    "max(stream_temperature_statistics_output$DELTA_peak_temperature_day_year_of_interest)\n",
    "print('-----Mean -----:')\n",
    "round( mean(stream_temperature_statistics_output$DELTA_peak_temperature_day_year_of_interest),  2)\n",
    "print('-----Minimum -----:')\n",
    "min(stream_temperature_statistics_output$DELTA_peak_temperature_day_year_of_interest)"
   ]
  },
  {
   "cell_type": "markdown",
   "metadata": {},
   "source": [
    "### ----------------------------------------------------------\n",
    "###           statistics for peak temperature July year of interest\n",
    "### ----------------------------------------------------------"
   ]
  },
  {
   "cell_type": "code",
   "execution_count": 256,
   "metadata": {},
   "outputs": [
    {
     "name": "stdout",
     "output_type": "stream",
     "text": [
      "[1] \"-----Maximum -----:\"\n"
     ]
    },
    {
     "data": {
      "text/html": [
       "22.4"
      ],
      "text/latex": [
       "22.4"
      ],
      "text/markdown": [
       "22.4"
      ],
      "text/plain": [
       "[1] 22.4"
      ]
     },
     "metadata": {},
     "output_type": "display_data"
    },
    {
     "name": "stdout",
     "output_type": "stream",
     "text": [
      "[1] \"-----Mean -----:\"\n"
     ]
    },
    {
     "data": {
      "text/html": [
       "18.08"
      ],
      "text/latex": [
       "18.08"
      ],
      "text/markdown": [
       "18.08"
      ],
      "text/plain": [
       "[1] 18.08"
      ]
     },
     "metadata": {},
     "output_type": "display_data"
    },
    {
     "name": "stdout",
     "output_type": "stream",
     "text": [
      "[1] \"-----Minimum -----:\"\n"
     ]
    },
    {
     "data": {
      "text/html": [
       "11.1"
      ],
      "text/latex": [
       "11.1"
      ],
      "text/markdown": [
       "11.1"
      ],
      "text/plain": [
       "[1] 11.1"
      ]
     },
     "metadata": {},
     "output_type": "display_data"
    },
    {
     "name": "stdout",
     "output_type": "stream",
     "text": [
      "[1] \"----------------------------------------------\"\n",
      "[1] \"-----Maximum (deg F) -----:\"\n"
     ]
    },
    {
     "data": {
      "text/html": [
       "35.888"
      ],
      "text/latex": [
       "35.888"
      ],
      "text/markdown": [
       "35.888"
      ],
      "text/plain": [
       "[1] 35.888"
      ]
     },
     "metadata": {},
     "output_type": "display_data"
    },
    {
     "name": "stdout",
     "output_type": "stream",
     "text": [
      "[1] \"-----Mean (deg F) -----:\"\n"
     ]
    },
    {
     "data": {
      "text/html": [
       "33.746"
      ],
      "text/latex": [
       "33.746"
      ],
      "text/markdown": [
       "33.746"
      ],
      "text/plain": [
       "[1] 33.746"
      ]
     },
     "metadata": {},
     "output_type": "display_data"
    },
    {
     "name": "stdout",
     "output_type": "stream",
     "text": [
      "[1] \"-----Minimum (deg F) -----:\"\n"
     ]
    },
    {
     "data": {
      "text/html": [
       "32.234"
      ],
      "text/latex": [
       "32.234"
      ],
      "text/markdown": [
       "32.234"
      ],
      "text/plain": [
       "[1] 32.234"
      ]
     },
     "metadata": {},
     "output_type": "display_data"
    }
   ],
   "source": [
    "print('-----Maximum -----:')\n",
    "max(stream_temperature_statistics_output$Jul_mean_temperature_year_of_interest_deg_C)\n",
    "print('-----Mean -----:')\n",
    "round( mean(stream_temperature_statistics_output$Jul_mean_temperature_year_of_interest_deg_C),  2)\n",
    "print('-----Minimum -----:')\n",
    "min(stream_temperature_statistics_output$Jul_mean_temperature_year_of_interest_deg_C)\n",
    "\n",
    "print( '----------------------------------------------')\n",
    "print('-----Maximum (deg F) -----:')\n",
    "deg_C_to_deg_F(  max(stream_temperature_statistics_output$DELTA_peak_temperature_year_of_interest_deg_C)  ) \n",
    "print('-----Mean (deg F) -----:')\n",
    "deg_C_to_deg_F(   round( mean(stream_temperature_statistics_output$DELTA_peak_temperature_year_of_interest_deg_C),  2)   )\n",
    "print('-----Minimum (deg F) -----:')\n",
    "deg_C_to_deg_F(   min(stream_temperature_statistics_output$DELTA_peak_temperature_year_of_interest_deg_C)   ) "
   ]
  },
  {
   "cell_type": "markdown",
   "metadata": {},
   "source": [
    "### ----------------------------------------------------------\n",
    "###           statistics for peak temperature July DELTA\n",
    "### ----------------------------------------------------------"
   ]
  },
  {
   "cell_type": "code",
   "execution_count": 257,
   "metadata": {},
   "outputs": [
    {
     "name": "stdout",
     "output_type": "stream",
     "text": [
      "[1] \"-----Maximum -----:\"\n"
     ]
    },
    {
     "data": {
      "text/html": [
       "0.73"
      ],
      "text/latex": [
       "0.73"
      ],
      "text/markdown": [
       "0.73"
      ],
      "text/plain": [
       "[1] 0.73"
      ]
     },
     "metadata": {},
     "output_type": "display_data"
    },
    {
     "name": "stdout",
     "output_type": "stream",
     "text": [
      "[1] \"-----Mean -----:\"\n"
     ]
    },
    {
     "data": {
      "text/html": [
       "0.06"
      ],
      "text/latex": [
       "0.06"
      ],
      "text/markdown": [
       "0.06"
      ],
      "text/plain": [
       "[1] 0.06"
      ]
     },
     "metadata": {},
     "output_type": "display_data"
    },
    {
     "name": "stdout",
     "output_type": "stream",
     "text": [
      "[1] \"-----Minimum -----:\"\n"
     ]
    },
    {
     "data": {
      "text/html": [
       "-0.76"
      ],
      "text/latex": [
       "-0.76"
      ],
      "text/markdown": [
       "-0.76"
      ],
      "text/plain": [
       "[1] -0.76"
      ]
     },
     "metadata": {},
     "output_type": "display_data"
    },
    {
     "name": "stdout",
     "output_type": "stream",
     "text": [
      "[1] \"----------------------------------------------\"\n",
      "[1] \"-----Maximum (deg F) -----:\"\n"
     ]
    },
    {
     "data": {
      "text/html": [
       "1.314"
      ],
      "text/latex": [
       "1.314"
      ],
      "text/markdown": [
       "1.314"
      ],
      "text/plain": [
       "[1] 1.314"
      ]
     },
     "metadata": {},
     "output_type": "display_data"
    },
    {
     "name": "stdout",
     "output_type": "stream",
     "text": [
      "[1] \"-----Mean (deg F) -----:\"\n"
     ]
    },
    {
     "data": {
      "text/html": [
       "0.107999999999997"
      ],
      "text/latex": [
       "0.107999999999997"
      ],
      "text/markdown": [
       "0.107999999999997"
      ],
      "text/plain": [
       "[1] 0.108"
      ]
     },
     "metadata": {},
     "output_type": "display_data"
    },
    {
     "name": "stdout",
     "output_type": "stream",
     "text": [
      "[1] \"-----Minimum (deg F) -----:\"\n"
     ]
    },
    {
     "data": {
      "text/html": [
       "-1.368"
      ],
      "text/latex": [
       "-1.368"
      ],
      "text/markdown": [
       "-1.368"
      ],
      "text/plain": [
       "[1] -1.368"
      ]
     },
     "metadata": {},
     "output_type": "display_data"
    }
   ],
   "source": [
    "print('-----Maximum -----:')\n",
    "max(stream_temperature_statistics_output$Jul_mean_DELTA_temperature_year_of_interest_deg_C)\n",
    "print('-----Mean -----:')\n",
    "round( mean(stream_temperature_statistics_output$Jul_mean_DELTA_temperature_year_of_interest_deg_C),  2)\n",
    "print('-----Minimum -----:')\n",
    "min(stream_temperature_statistics_output$Jul_mean_DELTA_temperature_year_of_interest_deg_C)\n",
    "print( '----------------------------------------------')\n",
    "print('-----Maximum (deg F) -----:')\n",
    "deg_C_to_deg_F(  max(stream_temperature_statistics_output$Jul_mean_DELTA_temperature_year_of_interest_deg_C)  ) - 32\n",
    "print('-----Mean (deg F) -----:')\n",
    "deg_C_to_deg_F(   round( mean(stream_temperature_statistics_output$Jul_mean_DELTA_temperature_year_of_interest_deg_C),  2)   ) - 32\n",
    "print('-----Minimum (deg F) -----:')\n",
    "deg_C_to_deg_F(   min(stream_temperature_statistics_output$Jul_mean_DELTA_temperature_year_of_interest_deg_C)   ) - 32"
   ]
  },
  {
   "cell_type": "markdown",
   "metadata": {},
   "source": [
    "### ----------------------------------------------------------\n",
    "###           statistics for peak temperature August year of interest\n",
    "### ----------------------------------------------------------"
   ]
  },
  {
   "cell_type": "code",
   "execution_count": 255,
   "metadata": {},
   "outputs": [
    {
     "name": "stdout",
     "output_type": "stream",
     "text": [
      "[1] \"-----Maximum -----:\"\n"
     ]
    },
    {
     "data": {
      "text/html": [
       "23"
      ],
      "text/latex": [
       "23"
      ],
      "text/markdown": [
       "23"
      ],
      "text/plain": [
       "[1] 23"
      ]
     },
     "metadata": {},
     "output_type": "display_data"
    },
    {
     "name": "stdout",
     "output_type": "stream",
     "text": [
      "[1] \"-----Mean -----:\"\n"
     ]
    },
    {
     "data": {
      "text/html": [
       "19.38"
      ],
      "text/latex": [
       "19.38"
      ],
      "text/markdown": [
       "19.38"
      ],
      "text/plain": [
       "[1] 19.38"
      ]
     },
     "metadata": {},
     "output_type": "display_data"
    },
    {
     "name": "stdout",
     "output_type": "stream",
     "text": [
      "[1] \"-----Minimum -----:\"\n"
     ]
    },
    {
     "data": {
      "text/html": [
       "12.1"
      ],
      "text/latex": [
       "12.1"
      ],
      "text/markdown": [
       "12.1"
      ],
      "text/plain": [
       "[1] 12.1"
      ]
     },
     "metadata": {},
     "output_type": "display_data"
    },
    {
     "name": "stdout",
     "output_type": "stream",
     "text": [
      "[1] \"----------------------------------------------\"\n",
      "[1] \"-----Maximum (deg F) -----:\"\n"
     ]
    },
    {
     "data": {
      "text/html": [
       "73.4"
      ],
      "text/latex": [
       "73.4"
      ],
      "text/markdown": [
       "73.4"
      ],
      "text/plain": [
       "[1] 73.4"
      ]
     },
     "metadata": {},
     "output_type": "display_data"
    },
    {
     "name": "stdout",
     "output_type": "stream",
     "text": [
      "[1] \"-----Mean (deg F) -----:\"\n"
     ]
    },
    {
     "data": {
      "text/html": [
       "66.884"
      ],
      "text/latex": [
       "66.884"
      ],
      "text/markdown": [
       "66.884"
      ],
      "text/plain": [
       "[1] 66.884"
      ]
     },
     "metadata": {},
     "output_type": "display_data"
    },
    {
     "name": "stdout",
     "output_type": "stream",
     "text": [
      "[1] \"-----Minimum (deg F) -----:\"\n"
     ]
    },
    {
     "data": {
      "text/html": [
       "53.78"
      ],
      "text/latex": [
       "53.78"
      ],
      "text/markdown": [
       "53.78"
      ],
      "text/plain": [
       "[1] 53.78"
      ]
     },
     "metadata": {},
     "output_type": "display_data"
    }
   ],
   "source": [
    "print('-----Maximum -----:')\n",
    "max(stream_temperature_statistics_output$Aug_mean_temperature_year_of_interest_deg_C)\n",
    "print('-----Mean -----:')\n",
    "round( mean(stream_temperature_statistics_output$Aug_mean_temperature_year_of_interest_deg_C),  2)\n",
    "print('-----Minimum -----:')\n",
    "min(stream_temperature_statistics_output$Aug_mean_temperature_year_of_interest_deg_C)\n",
    "\n",
    "print( '----------------------------------------------')\n",
    "print('-----Maximum (deg F) -----:')\n",
    "deg_C_to_deg_F(  max(stream_temperature_statistics_output$Aug_mean_temperature_year_of_interest_deg_C)  ) \n",
    "print('-----Mean (deg F) -----:')\n",
    "deg_C_to_deg_F(   round( mean(stream_temperature_statistics_output$Aug_mean_temperature_year_of_interest_deg_C),  2)   )\n",
    "print('-----Minimum (deg F) -----:')\n",
    "deg_C_to_deg_F(   min(stream_temperature_statistics_output$Aug_mean_temperature_year_of_interest_deg_C)   ) "
   ]
  },
  {
   "cell_type": "markdown",
   "metadata": {},
   "source": [
    "### ----------------------------------------------------------\n",
    "###          statistics for peak temperature August DELTA\n",
    "### ----------------------------------------------------------"
   ]
  },
  {
   "cell_type": "code",
   "execution_count": 258,
   "metadata": {},
   "outputs": [
    {
     "name": "stdout",
     "output_type": "stream",
     "text": [
      "[1] \"-----Maximum -----:\"\n"
     ]
    },
    {
     "data": {
      "text/html": [
       "1.17"
      ],
      "text/latex": [
       "1.17"
      ],
      "text/markdown": [
       "1.17"
      ],
      "text/plain": [
       "[1] 1.17"
      ]
     },
     "metadata": {},
     "output_type": "display_data"
    },
    {
     "name": "stdout",
     "output_type": "stream",
     "text": [
      "[1] \"-----Mean -----:\"\n"
     ]
    },
    {
     "data": {
      "text/html": [
       "0.68"
      ],
      "text/latex": [
       "0.68"
      ],
      "text/markdown": [
       "0.68"
      ],
      "text/plain": [
       "[1] 0.68"
      ]
     },
     "metadata": {},
     "output_type": "display_data"
    },
    {
     "name": "stdout",
     "output_type": "stream",
     "text": [
      "[1] \"-----Minimum -----:\"\n"
     ]
    },
    {
     "data": {
      "text/html": [
       "0.3"
      ],
      "text/latex": [
       "0.3"
      ],
      "text/markdown": [
       "0.3"
      ],
      "text/plain": [
       "[1] 0.3"
      ]
     },
     "metadata": {},
     "output_type": "display_data"
    },
    {
     "name": "stdout",
     "output_type": "stream",
     "text": [
      "[1] \"----------------------------------------------\"\n",
      "[1] \"-----Maximum (deg F) -----:\"\n"
     ]
    },
    {
     "data": {
      "text/html": [
       "2.106"
      ],
      "text/latex": [
       "2.106"
      ],
      "text/markdown": [
       "2.106"
      ],
      "text/plain": [
       "[1] 2.106"
      ]
     },
     "metadata": {},
     "output_type": "display_data"
    },
    {
     "name": "stdout",
     "output_type": "stream",
     "text": [
      "[1] \"-----Mean (deg F) -----:\"\n"
     ]
    },
    {
     "data": {
      "text/html": [
       "1.224"
      ],
      "text/latex": [
       "1.224"
      ],
      "text/markdown": [
       "1.224"
      ],
      "text/plain": [
       "[1] 1.224"
      ]
     },
     "metadata": {},
     "output_type": "display_data"
    },
    {
     "name": "stdout",
     "output_type": "stream",
     "text": [
      "[1] \"-----Minimum (deg F) -----:\"\n"
     ]
    },
    {
     "data": {
      "text/html": [
       "0.539999999999999"
      ],
      "text/latex": [
       "0.539999999999999"
      ],
      "text/markdown": [
       "0.539999999999999"
      ],
      "text/plain": [
       "[1] 0.54"
      ]
     },
     "metadata": {},
     "output_type": "display_data"
    }
   ],
   "source": [
    "print('-----Maximum -----:')\n",
    "max(stream_temperature_statistics_output$Aug_mean_DELTA_temperature_year_of_interest_deg_C)\n",
    "print('-----Mean -----:')\n",
    "round( mean(stream_temperature_statistics_output$Aug_mean_DELTA_temperature_year_of_interest_deg_C),  2)\n",
    "print('-----Minimum -----:')\n",
    "min(stream_temperature_statistics_output$Aug_mean_DELTA_temperature_year_of_interest_deg_C)\n",
    "print( '----------------------------------------------')\n",
    "print('-----Maximum (deg F) -----:')\n",
    "deg_C_to_deg_F(  max(stream_temperature_statistics_output$Aug_mean_DELTA_temperature_year_of_interest_deg_C)  ) - 32\n",
    "print('-----Mean (deg F) -----:')\n",
    "deg_C_to_deg_F(   round( mean(stream_temperature_statistics_output$Aug_mean_DELTA_temperature_year_of_interest_deg_C),  2)   ) - 32\n",
    "print('-----Minimum (deg F) -----:')\n",
    "deg_C_to_deg_F(   min(stream_temperature_statistics_output$Aug_mean_DELTA_temperature_year_of_interest_deg_C)   ) - 32"
   ]
  },
  {
   "cell_type": "markdown",
   "metadata": {},
   "source": [
    "### ----------------------------------------------------------\n",
    "###           statistics for peak temperature September year of interest\n",
    "### ----------------------------------------------------------"
   ]
  },
  {
   "cell_type": "code",
   "execution_count": 259,
   "metadata": {},
   "outputs": [
    {
     "name": "stdout",
     "output_type": "stream",
     "text": [
      "[1] \"-----Maximum -----:\"\n"
     ]
    },
    {
     "data": {
      "text/html": [
       "18.5"
      ],
      "text/latex": [
       "18.5"
      ],
      "text/markdown": [
       "18.5"
      ],
      "text/plain": [
       "[1] 18.5"
      ]
     },
     "metadata": {},
     "output_type": "display_data"
    },
    {
     "name": "stdout",
     "output_type": "stream",
     "text": [
      "[1] \"-----Mean -----:\"\n"
     ]
    },
    {
     "data": {
      "text/html": [
       "15.34"
      ],
      "text/latex": [
       "15.34"
      ],
      "text/markdown": [
       "15.34"
      ],
      "text/plain": [
       "[1] 15.34"
      ]
     },
     "metadata": {},
     "output_type": "display_data"
    },
    {
     "name": "stdout",
     "output_type": "stream",
     "text": [
      "[1] \"-----Minimum -----:\"\n"
     ]
    },
    {
     "data": {
      "text/html": [
       "9.4"
      ],
      "text/latex": [
       "9.4"
      ],
      "text/markdown": [
       "9.4"
      ],
      "text/plain": [
       "[1] 9.4"
      ]
     },
     "metadata": {},
     "output_type": "display_data"
    },
    {
     "name": "stdout",
     "output_type": "stream",
     "text": [
      "[1] \"----------------------------------------------\"\n",
      "[1] \"-----Maximum (deg F) -----:\"\n"
     ]
    },
    {
     "data": {
      "text/html": [
       "65.3"
      ],
      "text/latex": [
       "65.3"
      ],
      "text/markdown": [
       "65.3"
      ],
      "text/plain": [
       "[1] 65.3"
      ]
     },
     "metadata": {},
     "output_type": "display_data"
    },
    {
     "name": "stdout",
     "output_type": "stream",
     "text": [
      "[1] \"-----Mean (deg F) -----:\"\n"
     ]
    },
    {
     "data": {
      "text/html": [
       "59.612"
      ],
      "text/latex": [
       "59.612"
      ],
      "text/markdown": [
       "59.612"
      ],
      "text/plain": [
       "[1] 59.612"
      ]
     },
     "metadata": {},
     "output_type": "display_data"
    },
    {
     "name": "stdout",
     "output_type": "stream",
     "text": [
      "[1] \"-----Minimum (deg F) -----:\"\n"
     ]
    },
    {
     "data": {
      "text/html": [
       "48.92"
      ],
      "text/latex": [
       "48.92"
      ],
      "text/markdown": [
       "48.92"
      ],
      "text/plain": [
       "[1] 48.92"
      ]
     },
     "metadata": {},
     "output_type": "display_data"
    }
   ],
   "source": [
    "print('-----Maximum -----:')\n",
    "max(stream_temperature_statistics_output$Sep_mean_temperature_year_of_interest_deg_C)\n",
    "print('-----Mean -----:')\n",
    "round( mean(stream_temperature_statistics_output$Sep_mean_temperature_year_of_interest_deg_C),  2)\n",
    "print('-----Minimum -----:')\n",
    "min(stream_temperature_statistics_output$Sep_mean_temperature_year_of_interest_deg_C)\n",
    "\n",
    "print( '----------------------------------------------')\n",
    "print('-----Maximum (deg F) -----:')\n",
    "deg_C_to_deg_F(  max(stream_temperature_statistics_output$Sep_mean_temperature_year_of_interest_deg_C)  ) \n",
    "print('-----Mean (deg F) -----:')\n",
    "deg_C_to_deg_F(   round( mean(stream_temperature_statistics_output$Sep_mean_temperature_year_of_interest_deg_C),  2)   )\n",
    "print('-----Minimum (deg F) -----:')\n",
    "deg_C_to_deg_F(   min(stream_temperature_statistics_output$Sep_mean_temperature_year_of_interest_deg_C)   ) "
   ]
  },
  {
   "cell_type": "markdown",
   "metadata": {},
   "source": [
    "### ----------------------------------------------------------\n",
    "###           statistics for peak temperature September DELTA\n",
    "### ----------------------------------------------------------"
   ]
  },
  {
   "cell_type": "code",
   "execution_count": 260,
   "metadata": {},
   "outputs": [
    {
     "name": "stdout",
     "output_type": "stream",
     "text": [
      "[1] \"-----Maximum -----:\"\n"
     ]
    },
    {
     "data": {
      "text/html": [
       "1.02"
      ],
      "text/latex": [
       "1.02"
      ],
      "text/markdown": [
       "1.02"
      ],
      "text/plain": [
       "[1] 1.02"
      ]
     },
     "metadata": {},
     "output_type": "display_data"
    },
    {
     "name": "stdout",
     "output_type": "stream",
     "text": [
      "[1] \"-----Mean -----:\"\n"
     ]
    },
    {
     "data": {
      "text/html": [
       "0.62"
      ],
      "text/latex": [
       "0.62"
      ],
      "text/markdown": [
       "0.62"
      ],
      "text/plain": [
       "[1] 0.62"
      ]
     },
     "metadata": {},
     "output_type": "display_data"
    },
    {
     "name": "stdout",
     "output_type": "stream",
     "text": [
      "[1] \"-----Minimum -----:\"\n"
     ]
    },
    {
     "data": {
      "text/html": [
       "0.37"
      ],
      "text/latex": [
       "0.37"
      ],
      "text/markdown": [
       "0.37"
      ],
      "text/plain": [
       "[1] 0.37"
      ]
     },
     "metadata": {},
     "output_type": "display_data"
    },
    {
     "name": "stdout",
     "output_type": "stream",
     "text": [
      "[1] \"----------------------------------------------\"\n",
      "[1] \"-----Maximum (deg F) -----:\"\n"
     ]
    },
    {
     "data": {
      "text/html": [
       "1.836"
      ],
      "text/latex": [
       "1.836"
      ],
      "text/markdown": [
       "1.836"
      ],
      "text/plain": [
       "[1] 1.836"
      ]
     },
     "metadata": {},
     "output_type": "display_data"
    },
    {
     "name": "stdout",
     "output_type": "stream",
     "text": [
      "[1] \"-----Mean (deg F) -----:\"\n"
     ]
    },
    {
     "data": {
      "text/html": [
       "1.116"
      ],
      "text/latex": [
       "1.116"
      ],
      "text/markdown": [
       "1.116"
      ],
      "text/plain": [
       "[1] 1.116"
      ]
     },
     "metadata": {},
     "output_type": "display_data"
    },
    {
     "name": "stdout",
     "output_type": "stream",
     "text": [
      "[1] \"-----Minimum (deg F) -----:\"\n"
     ]
    },
    {
     "data": {
      "text/html": [
       "0.665999999999997"
      ],
      "text/latex": [
       "0.665999999999997"
      ],
      "text/markdown": [
       "0.665999999999997"
      ],
      "text/plain": [
       "[1] 0.666"
      ]
     },
     "metadata": {},
     "output_type": "display_data"
    }
   ],
   "source": [
    "print('-----Maximum -----:')\n",
    "max(stream_temperature_statistics_output$Sep_mean_DELTA_temperature_year_of_interest_deg_C)\n",
    "print('-----Mean -----:')\n",
    "round( mean(stream_temperature_statistics_output$Sep_mean_DELTA_temperature_year_of_interest_deg_C),  2)\n",
    "print('-----Minimum -----:')\n",
    "min(stream_temperature_statistics_output$Sep_mean_DELTA_temperature_year_of_interest_deg_C)\n",
    "print( '----------------------------------------------')\n",
    "print('-----Maximum (deg F) -----:')\n",
    "deg_C_to_deg_F(  max(stream_temperature_statistics_output$Sep_mean_DELTA_temperature_year_of_interest_deg_C)  ) - 32\n",
    "print('-----Mean (deg F) -----:')\n",
    "deg_C_to_deg_F(   round( mean(stream_temperature_statistics_output$Sep_mean_DELTA_temperature_year_of_interest_deg_C),  2)   ) - 32\n",
    "print('-----Minimum (deg F) -----:')\n",
    "deg_C_to_deg_F(   min(stream_temperature_statistics_output$Sep_mean_DELTA_temperature_year_of_interest_deg_C)   ) - 32"
   ]
  },
  {
   "cell_type": "markdown",
   "metadata": {},
   "source": [
    "# ----------------------------------------------------------\n",
    "#           PLOT\n",
    "# ----------------------------------------------------------"
   ]
  },
  {
   "cell_type": "code",
   "execution_count": 325,
   "metadata": {},
   "outputs": [
    {
     "name": "stdout",
     "output_type": "stream",
     "text": [
      "[1] 1\n",
      "[1] 12442500\n",
      "[1] 2\n",
      "[1] 12447200\n",
      "[1] 3\n",
      "[1] 12447390\n",
      "[1] 4\n",
      "[1] 12450480\n",
      "[1] 5\n",
      "[1] 12462500\n"
     ]
    },
    {
     "data": {
      "text/html": [
       "<strong>png:</strong> 2"
      ],
      "text/latex": [
       "\\textbf{png:} 2"
      ],
      "text/markdown": [
       "**png:** 2"
      ],
      "text/plain": [
       "png \n",
       "  2 "
      ]
     },
     "metadata": {},
     "output_type": "display_data"
    }
   ],
   "source": [
    "# options(repr.plot.width=2, repr.plot.height=4)\n",
    "\n",
    "# Opening the graphical device\n",
    "pdf(path_output, width = 7, height = 9)\n",
    "\n",
    "\n",
    "par(mfrow=c(4, 2), oma=c(0.5, 0.8, 0, 0.8), mar=c(3.5, 5, 3, 0.5),  xpd=FALSE)\n",
    "\n",
    "for(i in 1:nrow(USGS_sites)){\n",
    "\n",
    "    \n",
    "    # ------------------------------------------------------------\n",
    "    #        put blank plot in Entiat (since only one)\n",
    "    # ------------------------------------------------------------\n",
    "\n",
    "    if( i == 1){\n",
    "        plot.new()\n",
    "        par(xpd=TRUE)\n",
    "        plot.new()\n",
    "        legend(\"bottomright\", inset=c(0,-0.2), legend=c(\"median stream T\",   paste(\"stream T in\", year_to_plot, sep=\" \"), \"stream T = 65 deg F\" ), \n",
    "        lty=c(1, 1, 2), title=\"Legend\", col=c(\"black\",\"blue\", \"red\"), lwd=c(2.1, 1.4, 1.2), seg.len = 3, cex=1.4)\n",
    "        \n",
    "    }\n",
    "    par(xpd=FALSE)\n",
    "    \n",
    "    # ------------------------------------------------------------\n",
    "    #          Prepare the Data\n",
    "    # ------------------------------------------------------------\n",
    "    print(i)\n",
    "    print(USGS_sites$USGS_site_no[i])\n",
    "    # ------------------------ generate the median snotel -------------------\n",
    "    stream_temperature_data_x = as.numeric(as.character(all_USGS_data[[as.numeric(USGS_sites$USGS_site_no[i])]]$'stream_temperature_degC' ))\n",
    "    date_vector = all_USGS_data[[as.numeric(USGS_sites$USGS_site_no[i])]]$'datetime'\n",
    "    date_vector = as.POSIXct(date_vector, format=\"%Y-%m-%d\") #  convert to date time \n",
    "    \n",
    "    # ------------------------ generate the median snotel -------------------\n",
    "    median_stream_temperature_data_x = median_stream_temperature_function(stream_temperature_data_x, date_vector, year_to_plot)\n",
    "\n",
    "    # --------------- convert to deg F -----------------\n",
    "    stream_temperature_data_x = deg_C_to_deg_F(stream_temperature_data_x)\n",
    "    median_stream_temperature_data_x$metric = deg_C_to_deg_F(median_stream_temperature_data_x$metric )\n",
    "    \n",
    "    # ------------------------------------------------------------\n",
    "    #         Plot the Data\n",
    "    # ------------------------------------------------------------\n",
    "    max_ylim = max(median_stream_temperature_data_x$metric, na.rm=T) \n",
    "    max_ylim = max_ylim + max_ylim*0.1\n",
    "    max_ylim = 77 # just over-ride and set to 75\n",
    "    \n",
    "    #xlim_min = as.Date(paste('10-01-',year_to_plot-1, sep=\"\"), format = '%m-%d-%Y')\n",
    "    #xlim_max = as.Date(paste('09-30-',year_to_plot, sep=\"\"), format = '%m-%d-%Y')\n",
    "\n",
    "    plot(median_stream_temperature_data_x$day_of_hydro_year[order(median_stream_temperature_data_x$day_of_hydro_year)],\n",
    "         median_stream_temperature_data_x$metric[order(median_stream_temperature_data_x$day_of_hydro_year)] , \n",
    "         type='l', col='black', lwd=2,\n",
    "        xlab=' ',ylab='stream temperature  \\n (deg F)', ylim=c(31, max_ylim), \n",
    "        xlim=c(min(median_stream_temperature_data_x$day_of_hydro_year) + 86400 * 2 , max(median_stream_temperature_data_x$day_of_hydro_year)  - 86400 * 2 ) )\n",
    "    grid(lwd=1.5)\n",
    "    abline(h=64.4, lwd=1.2, col='red', lty=2) # water temperatures above 18 deg C can be harmful to salmon\n",
    "    lines(median_stream_temperature_data_x$day_of_hydro_year[order(median_stream_temperature_data_x$day_of_hydro_year)],\n",
    "         median_stream_temperature_data_x$metric[order(median_stream_temperature_data_x$day_of_hydro_year)], col='black',lwd=2.2)\n",
    "    \n",
    "    mtext(USGS_sites$Site_name[i], side=3, line=0.3, font=2, cex=0.95)\n",
    "    \n",
    "    lines(date_vector, stream_temperature_data_x, lwd=1.4, col='blue', lty=1)\n",
    "\n",
    "    # ------------------------------------------------------------\n",
    "    #      Insert title\n",
    "    # ------------------------------------------------------------\n",
    "    \n",
    "    if(i == 1){\n",
    "        \n",
    "        year_span = paste(year_to_plot-1,year_to_plot,sep=\" - Dec \")\n",
    "        mtext( paste(\"                    Stream Temperature in Upper Columbia \\n from Jan - Dec 2019 \", sep=\"\") , side=3, line=9, cex=1.7, font=4)\n",
    "        \n",
    "    }\n",
    "    \n",
    "    # ------------------------------------------------------------\n",
    "    #      Insert legend\n",
    "    # ------------------------------------------------------------\n",
    "    \n",
    "    \n",
    "    if(i ==2){\n",
    "        \n",
    "        #legend(\"topright\", inset=c(0,-0.3), legend=c(\"median stream temp\", paste(\"stream temp in\", year_to_plot, sep=\" \") ), \n",
    "        #       lty=c(1, 2), title=\"Legend\", col=c(\"black\",\"blue\"), lwd=c(2, 2.5))\n",
    "        \n",
    "    }\n",
    "    \n",
    "    # ------------------------------------------------------------\n",
    "    #      Add Watershed Name\n",
    "    # ------------------------------------------------------------\n",
    "    \n",
    "    if(i == 1){\n",
    "        # mtext('                                                 Okanogan', side=3, line=1.5, font=2, cex=1.6)\n",
    "        mtext('                                              - - - - - - Okanogan - - - - - - ', side=3, line=1.5, font=2, cex=1.6)\n",
    "\n",
    "    }else if(i == 3){\n",
    "        #mtext('                                                 Methow', side=3, line=1.5, font=2, cex=1.6)\n",
    "        mtext('                                              - - - - - - Methow - - - - - - ', side=3, line=1.5, font=2, cex=1.6)\n",
    "    }else if(i == 5){\n",
    "        #mtext('                                                 Wenatchee', side=3, line=1.5, font=2, cex=1.6)\n",
    "        mtext('                                             - - - - - - Wenatchee - - - - - - ', side=3, line=1.5, font=2, cex=1.6)\n",
    "    }\n",
    "        \n",
    " \n",
    "}\n",
    "\n",
    "\n",
    "\n",
    "\n",
    "# Closing the graphical device\n",
    "dev.off()\n"
   ]
  },
  {
   "cell_type": "code",
   "execution_count": 326,
   "metadata": {},
   "outputs": [
    {
     "name": "stdout",
     "output_type": "stream",
     "text": [
      "[1] 1\n",
      "[1] 12442500\n",
      "[1] 2\n",
      "[1] 12447200\n",
      "[1] 3\n",
      "[1] 12447390\n",
      "[1] 4\n",
      "[1] 12450480\n",
      "[1] 5\n",
      "[1] 12462500\n"
     ]
    },
    {
     "data": {
      "image/png": "[encoded data removed]",
      "text/plain": [
       "plot without title"
      ]
     },
     "metadata": {
      "image/png": {
       "height": 420,
       "width": 420
      }
     },
     "output_type": "display_data"
    }
   ],
   "source": [
    "# options(repr.plot.width=2, repr.plot.height=4)\n",
    "\n",
    "\n",
    "par(mfrow=c(4, 2), oma=c(0.5, 0.8, 0, 0.8), mar=c(3.5, 5, 3, 0.5),  xpd=FALSE)\n",
    "\n",
    "for(i in 1:nrow(USGS_sites)){\n",
    "\n",
    "    \n",
    "    # ------------------------------------------------------------\n",
    "    #        put blank plot in Entiat (since only one)\n",
    "    # ------------------------------------------------------------\n",
    "\n",
    "    if( i == 1){\n",
    "        plot.new()\n",
    "        par(xpd=TRUE)\n",
    "        plot.new()\n",
    "        legend(\"bottomright\", inset=c(0,-0.2), legend=c(\"median stream T\",   paste(\"stream T in\", year_to_plot, sep=\" \"), \"stream T = 65 deg F\" ), \n",
    "        lty=c(1, 1, 2), title=\"Legend\", col=c(\"black\",\"blue\", \"red\"), lwd=c(2.1, 1.4, 1.2), seg.len = 3, cex=1.4)\n",
    "        \n",
    "    }\n",
    "    par(xpd=FALSE)\n",
    "    \n",
    "    # ------------------------------------------------------------\n",
    "    #          Prepare the Data\n",
    "    # ------------------------------------------------------------\n",
    "    print(i)\n",
    "    print(USGS_sites$USGS_site_no[i])\n",
    "    # ------------------------ generate the median snotel -------------------\n",
    "    stream_temperature_data_x = as.numeric(as.character(all_USGS_data[[as.numeric(USGS_sites$USGS_site_no[i])]]$'stream_temperature_degC' ))\n",
    "    date_vector = all_USGS_data[[as.numeric(USGS_sites$USGS_site_no[i])]]$'datetime'\n",
    "    date_vector = as.POSIXct(date_vector, format=\"%Y-%m-%d\") #  convert to date time \n",
    "    \n",
    "    # ------------------------ generate the median snotel -------------------\n",
    "    median_stream_temperature_data_x = median_stream_temperature_function(stream_temperature_data_x, date_vector, year_to_plot)\n",
    "\n",
    "    # --------------- convert to deg F -----------------\n",
    "    stream_temperature_data_x = deg_C_to_deg_F(stream_temperature_data_x)\n",
    "    median_stream_temperature_data_x$metric = deg_C_to_deg_F(median_stream_temperature_data_x$metric )\n",
    "    \n",
    "    # ------------------------------------------------------------\n",
    "    #         Plot the Data\n",
    "    # ------------------------------------------------------------\n",
    "    max_ylim = max(median_stream_temperature_data_x$metric, na.rm=T) \n",
    "    max_ylim = max_ylim + max_ylim*0.1\n",
    "    max_ylim = 77 # just over-ride and set to 75\n",
    "    \n",
    "    #xlim_min = as.Date(paste('10-01-',year_to_plot-1, sep=\"\"), format = '%m-%d-%Y')\n",
    "    #xlim_max = as.Date(paste('09-30-',year_to_plot, sep=\"\"), format = '%m-%d-%Y')\n",
    "\n",
    "    plot(median_stream_temperature_data_x$day_of_hydro_year[order(median_stream_temperature_data_x$day_of_hydro_year)],\n",
    "         median_stream_temperature_data_x$metric[order(median_stream_temperature_data_x$day_of_hydro_year)] , \n",
    "         type='l', col='black', lwd=2,\n",
    "        xlab=' ',ylab='stream temperature  \\n (deg F)', ylim=c(31, max_ylim), \n",
    "        xlim=c(min(median_stream_temperature_data_x$day_of_hydro_year) + 86400 * 2 , max(median_stream_temperature_data_x$day_of_hydro_year)  - 86400 * 2 ) )\n",
    "    grid(lwd=1.5)\n",
    "    abline(h=64.4, lwd=1.2, col='red', lty=2) # water temperatures above 18 deg C can be harmful to salmon\n",
    "    lines(median_stream_temperature_data_x$day_of_hydro_year[order(median_stream_temperature_data_x$day_of_hydro_year)],\n",
    "         median_stream_temperature_data_x$metric[order(median_stream_temperature_data_x$day_of_hydro_year)], col='black',lwd=2.2)\n",
    "    \n",
    "    mtext(USGS_sites$Site_name[i], side=3, line=0.3, font=2, cex=0.95)\n",
    "    \n",
    "    lines(date_vector, stream_temperature_data_x, lwd=1.4, col='blue', lty=1)\n",
    "\n",
    "    # ------------------------------------------------------------\n",
    "    #      Insert title\n",
    "    # ------------------------------------------------------------\n",
    "    \n",
    "    if(i == 1){\n",
    "        \n",
    "        year_span = paste(year_to_plot-1,year_to_plot,sep=\" - Dec \")\n",
    "        mtext( paste(\"                    Stream Temperature in Upper Columbia \\n from Jan - Dec 2019 \", sep=\"\") , side=3, line=9, cex=1.7, font=4)\n",
    "        \n",
    "    }\n",
    "    \n",
    "    # ------------------------------------------------------------\n",
    "    #      Insert legend\n",
    "    # ------------------------------------------------------------\n",
    "    \n",
    "    \n",
    "    if(i ==2){\n",
    "        \n",
    "        #legend(\"topright\", inset=c(0,-0.3), legend=c(\"median stream temp\", paste(\"stream temp in\", year_to_plot, sep=\" \") ), \n",
    "        #       lty=c(1, 2), title=\"Legend\", col=c(\"black\",\"blue\"), lwd=c(2, 2.5))\n",
    "        \n",
    "    }\n",
    "    \n",
    "    # ------------------------------------------------------------\n",
    "    #      Add Watershed Name\n",
    "    # ------------------------------------------------------------\n",
    "    \n",
    "    if(i == 1){\n",
    "        # mtext('                                                 Okanogan', side=3, line=1.5, font=2, cex=1.6)\n",
    "        mtext('                                              - - - - - - Okanogan - - - - - - ', side=3, line=1.5, font=2, cex=1.6)\n",
    "\n",
    "    }else if(i == 3){\n",
    "        #mtext('                                                 Methow', side=3, line=1.5, font=2, cex=1.6)\n",
    "        mtext('                                              - - - - - - Methow - - - - - - ', side=3, line=1.5, font=2, cex=1.6)\n",
    "    }else if(i == 5){\n",
    "        #mtext('                                                 Wenatchee', side=3, line=1.5, font=2, cex=1.6)\n",
    "        mtext('                                             - - - - - - Wenatchee - - - - - - ', side=3, line=1.5, font=2, cex=1.6)\n",
    "    }\n",
    "        \n",
    " \n",
    "}\n",
    "\n",
    "\n"
   ]
  },
  {
   "cell_type": "code",
   "execution_count": 312,
   "metadata": {},
   "outputs": [
    {
     "data": {
      "text/html": [
       "64.4"
      ],
      "text/latex": [
       "64.4"
      ],
      "text/markdown": [
       "64.4"
      ],
      "text/plain": [
       "[1] 64.4"
      ]
     },
     "metadata": {},
     "output_type": "display_data"
    }
   ],
   "source": [
    "deg_C_to_deg_F(18)"
   ]
  },
  {
   "cell_type": "code",
   "execution_count": null,
   "metadata": {},
   "outputs": [],
   "source": []
  },
  {
   "cell_type": "code",
   "execution_count": null,
   "metadata": {},
   "outputs": [],
   "source": []
  }
 ],
 "metadata": {
  "kernelspec": {
   "display_name": "R",
   "language": "R",
   "name": "ir"
  },
  "language_info": {
   "codemirror_mode": "r",
   "file_extension": ".r",
   "mimetype": "text/x-r-source",
   "name": "R",
   "pygments_lexer": "r",
   "version": "4.0.2"
  }
 },
 "nbformat": 4,
 "nbformat_minor": 4
}
